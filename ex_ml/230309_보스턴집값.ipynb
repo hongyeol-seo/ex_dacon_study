{
 "cells": [
  {
   "cell_type": "code",
   "execution_count": 2,
   "metadata": {},
   "outputs": [],
   "source": [
    "import numpy as np\n",
    "import matplotlib.pyplot as plt\n",
    "import pandas as pd\n",
    "import seaborn as sns\n",
    "\n",
    "from sklearn.datasets import fetch_california_housing"
   ]
  },
  {
   "cell_type": "code",
   "execution_count": 3,
   "metadata": {},
   "outputs": [],
   "source": [
    "houseData = fetch_california_housing()"
   ]
  },
  {
   "cell_type": "code",
   "execution_count": 5,
   "metadata": {},
   "outputs": [],
   "source": [
    "bostonDf = pd.DataFrame(houseData.data, columns= houseData.feature_names)"
   ]
  },
  {
   "cell_type": "code",
   "execution_count": 6,
   "metadata": {},
   "outputs": [
    {
     "name": "stdout",
     "output_type": "stream",
     "text": [
      "<class 'pandas.core.frame.DataFrame'>\n",
      "RangeIndex: 20640 entries, 0 to 20639\n",
      "Data columns (total 8 columns):\n",
      " #   Column      Non-Null Count  Dtype  \n",
      "---  ------      --------------  -----  \n",
      " 0   MedInc      20640 non-null  float64\n",
      " 1   HouseAge    20640 non-null  float64\n",
      " 2   AveRooms    20640 non-null  float64\n",
      " 3   AveBedrms   20640 non-null  float64\n",
      " 4   Population  20640 non-null  float64\n",
      " 5   AveOccup    20640 non-null  float64\n",
      " 6   Latitude    20640 non-null  float64\n",
      " 7   Longitude   20640 non-null  float64\n",
      "dtypes: float64(8)\n",
      "memory usage: 1.3 MB\n"
     ]
    }
   ],
   "source": [
    "bostonDf.info()"
   ]
  },
  {
   "cell_type": "code",
   "execution_count": 8,
   "metadata": {},
   "outputs": [
    {
     "data": {
      "text/html": [
       "<div>\n",
       "<style scoped>\n",
       "    .dataframe tbody tr th:only-of-type {\n",
       "        vertical-align: middle;\n",
       "    }\n",
       "\n",
       "    .dataframe tbody tr th {\n",
       "        vertical-align: top;\n",
       "    }\n",
       "\n",
       "    .dataframe thead th {\n",
       "        text-align: right;\n",
       "    }\n",
       "</style>\n",
       "<table border=\"1\" class=\"dataframe\">\n",
       "  <thead>\n",
       "    <tr style=\"text-align: right;\">\n",
       "      <th></th>\n",
       "      <th>MedInc</th>\n",
       "      <th>HouseAge</th>\n",
       "      <th>AveRooms</th>\n",
       "      <th>AveBedrms</th>\n",
       "      <th>Population</th>\n",
       "      <th>AveOccup</th>\n",
       "      <th>Latitude</th>\n",
       "      <th>Longitude</th>\n",
       "    </tr>\n",
       "  </thead>\n",
       "  <tbody>\n",
       "    <tr>\n",
       "      <th>0</th>\n",
       "      <td>8.3252</td>\n",
       "      <td>41.0</td>\n",
       "      <td>6.984127</td>\n",
       "      <td>1.023810</td>\n",
       "      <td>322.0</td>\n",
       "      <td>2.555556</td>\n",
       "      <td>37.88</td>\n",
       "      <td>-122.23</td>\n",
       "    </tr>\n",
       "    <tr>\n",
       "      <th>1</th>\n",
       "      <td>8.3014</td>\n",
       "      <td>21.0</td>\n",
       "      <td>6.238137</td>\n",
       "      <td>0.971880</td>\n",
       "      <td>2401.0</td>\n",
       "      <td>2.109842</td>\n",
       "      <td>37.86</td>\n",
       "      <td>-122.22</td>\n",
       "    </tr>\n",
       "    <tr>\n",
       "      <th>2</th>\n",
       "      <td>7.2574</td>\n",
       "      <td>52.0</td>\n",
       "      <td>8.288136</td>\n",
       "      <td>1.073446</td>\n",
       "      <td>496.0</td>\n",
       "      <td>2.802260</td>\n",
       "      <td>37.85</td>\n",
       "      <td>-122.24</td>\n",
       "    </tr>\n",
       "    <tr>\n",
       "      <th>3</th>\n",
       "      <td>5.6431</td>\n",
       "      <td>52.0</td>\n",
       "      <td>5.817352</td>\n",
       "      <td>1.073059</td>\n",
       "      <td>558.0</td>\n",
       "      <td>2.547945</td>\n",
       "      <td>37.85</td>\n",
       "      <td>-122.25</td>\n",
       "    </tr>\n",
       "    <tr>\n",
       "      <th>4</th>\n",
       "      <td>3.8462</td>\n",
       "      <td>52.0</td>\n",
       "      <td>6.281853</td>\n",
       "      <td>1.081081</td>\n",
       "      <td>565.0</td>\n",
       "      <td>2.181467</td>\n",
       "      <td>37.85</td>\n",
       "      <td>-122.25</td>\n",
       "    </tr>\n",
       "  </tbody>\n",
       "</table>\n",
       "</div>"
      ],
      "text/plain": [
       "   MedInc  HouseAge  AveRooms  AveBedrms  Population  AveOccup  Latitude  \\\n",
       "0  8.3252      41.0  6.984127   1.023810       322.0  2.555556     37.88   \n",
       "1  8.3014      21.0  6.238137   0.971880      2401.0  2.109842     37.86   \n",
       "2  7.2574      52.0  8.288136   1.073446       496.0  2.802260     37.85   \n",
       "3  5.6431      52.0  5.817352   1.073059       558.0  2.547945     37.85   \n",
       "4  3.8462      52.0  6.281853   1.081081       565.0  2.181467     37.85   \n",
       "\n",
       "   Longitude  \n",
       "0    -122.23  \n",
       "1    -122.22  \n",
       "2    -122.24  \n",
       "3    -122.25  \n",
       "4    -122.25  "
      ]
     },
     "execution_count": 8,
     "metadata": {},
     "output_type": "execute_result"
    }
   ],
   "source": [
    "#타겟 \n",
    "\n",
    "houseData.target \n",
    "bostonDf.head(5)"
   ]
  },
  {
   "cell_type": "code",
   "execution_count": 28,
   "metadata": {},
   "outputs": [
    {
     "name": "stdout",
     "output_type": "stream",
     "text": [
      "<class 'pandas.core.frame.DataFrame'>\n",
      "RangeIndex: 506 entries, 0 to 505\n",
      "Data columns (total 14 columns):\n",
      " #   Column   Non-Null Count  Dtype  \n",
      "---  ------   --------------  -----  \n",
      " 0   crim     506 non-null    float64\n",
      " 1   zn       506 non-null    float64\n",
      " 2   indus    506 non-null    float64\n",
      " 3   chas     506 non-null    int64  \n",
      " 4   nox      506 non-null    float64\n",
      " 5   rm       506 non-null    float64\n",
      " 6   age      506 non-null    float64\n",
      " 7   dis      506 non-null    float64\n",
      " 8   rad      506 non-null    int64  \n",
      " 9   tax      506 non-null    int64  \n",
      " 10  ptratio  506 non-null    float64\n",
      " 11  b        506 non-null    float64\n",
      " 12  lstat    506 non-null    float64\n",
      " 13  medv     506 non-null    float64\n",
      "dtypes: float64(11), int64(3)\n",
      "memory usage: 55.5 KB\n"
     ]
    }
   ],
   "source": [
    "FILE = r'C:\\\\Users\\\\seo\\\\Downloads\\\\boston'\n",
    "\n",
    "bostonDf = pd.read_csv(r'C:\\Users\\seo\\Downloads\\boston.csv')\n",
    "bostonDf.info()"
   ]
  },
  {
   "cell_type": "code",
   "execution_count": 30,
   "metadata": {},
   "outputs": [
    {
     "data": {
      "text/html": [
       "<div>\n",
       "<style scoped>\n",
       "    .dataframe tbody tr th:only-of-type {\n",
       "        vertical-align: middle;\n",
       "    }\n",
       "\n",
       "    .dataframe tbody tr th {\n",
       "        vertical-align: top;\n",
       "    }\n",
       "\n",
       "    .dataframe thead th {\n",
       "        text-align: right;\n",
       "    }\n",
       "</style>\n",
       "<table border=\"1\" class=\"dataframe\">\n",
       "  <thead>\n",
       "    <tr style=\"text-align: right;\">\n",
       "      <th></th>\n",
       "      <th>crim</th>\n",
       "      <th>zn</th>\n",
       "      <th>indus</th>\n",
       "      <th>chas</th>\n",
       "      <th>nox</th>\n",
       "      <th>rm</th>\n",
       "      <th>age</th>\n",
       "      <th>dis</th>\n",
       "      <th>rad</th>\n",
       "      <th>tax</th>\n",
       "      <th>ptratio</th>\n",
       "      <th>b</th>\n",
       "      <th>lstat</th>\n",
       "      <th>medv</th>\n",
       "    </tr>\n",
       "  </thead>\n",
       "  <tbody>\n",
       "    <tr>\n",
       "      <th>0</th>\n",
       "      <td>0.00632</td>\n",
       "      <td>18.0</td>\n",
       "      <td>2.31</td>\n",
       "      <td>0</td>\n",
       "      <td>0.538</td>\n",
       "      <td>6.575</td>\n",
       "      <td>65.2</td>\n",
       "      <td>4.0900</td>\n",
       "      <td>1</td>\n",
       "      <td>296</td>\n",
       "      <td>15.3</td>\n",
       "      <td>396.90</td>\n",
       "      <td>4.98</td>\n",
       "      <td>24.0</td>\n",
       "    </tr>\n",
       "    <tr>\n",
       "      <th>1</th>\n",
       "      <td>0.02731</td>\n",
       "      <td>0.0</td>\n",
       "      <td>7.07</td>\n",
       "      <td>0</td>\n",
       "      <td>0.469</td>\n",
       "      <td>6.421</td>\n",
       "      <td>78.9</td>\n",
       "      <td>4.9671</td>\n",
       "      <td>2</td>\n",
       "      <td>242</td>\n",
       "      <td>17.8</td>\n",
       "      <td>396.90</td>\n",
       "      <td>9.14</td>\n",
       "      <td>21.6</td>\n",
       "    </tr>\n",
       "    <tr>\n",
       "      <th>2</th>\n",
       "      <td>0.02729</td>\n",
       "      <td>0.0</td>\n",
       "      <td>7.07</td>\n",
       "      <td>0</td>\n",
       "      <td>0.469</td>\n",
       "      <td>7.185</td>\n",
       "      <td>61.1</td>\n",
       "      <td>4.9671</td>\n",
       "      <td>2</td>\n",
       "      <td>242</td>\n",
       "      <td>17.8</td>\n",
       "      <td>392.83</td>\n",
       "      <td>4.03</td>\n",
       "      <td>34.7</td>\n",
       "    </tr>\n",
       "    <tr>\n",
       "      <th>3</th>\n",
       "      <td>0.03237</td>\n",
       "      <td>0.0</td>\n",
       "      <td>2.18</td>\n",
       "      <td>0</td>\n",
       "      <td>0.458</td>\n",
       "      <td>6.998</td>\n",
       "      <td>45.8</td>\n",
       "      <td>6.0622</td>\n",
       "      <td>3</td>\n",
       "      <td>222</td>\n",
       "      <td>18.7</td>\n",
       "      <td>394.63</td>\n",
       "      <td>2.94</td>\n",
       "      <td>33.4</td>\n",
       "    </tr>\n",
       "    <tr>\n",
       "      <th>4</th>\n",
       "      <td>0.06905</td>\n",
       "      <td>0.0</td>\n",
       "      <td>2.18</td>\n",
       "      <td>0</td>\n",
       "      <td>0.458</td>\n",
       "      <td>7.147</td>\n",
       "      <td>54.2</td>\n",
       "      <td>6.0622</td>\n",
       "      <td>3</td>\n",
       "      <td>222</td>\n",
       "      <td>18.7</td>\n",
       "      <td>396.90</td>\n",
       "      <td>5.33</td>\n",
       "      <td>36.2</td>\n",
       "    </tr>\n",
       "  </tbody>\n",
       "</table>\n",
       "</div>"
      ],
      "text/plain": [
       "      crim    zn  indus  chas    nox     rm   age     dis  rad  tax  ptratio  \\\n",
       "0  0.00632  18.0   2.31     0  0.538  6.575  65.2  4.0900    1  296     15.3   \n",
       "1  0.02731   0.0   7.07     0  0.469  6.421  78.9  4.9671    2  242     17.8   \n",
       "2  0.02729   0.0   7.07     0  0.469  7.185  61.1  4.9671    2  242     17.8   \n",
       "3  0.03237   0.0   2.18     0  0.458  6.998  45.8  6.0622    3  222     18.7   \n",
       "4  0.06905   0.0   2.18     0  0.458  7.147  54.2  6.0622    3  222     18.7   \n",
       "\n",
       "        b  lstat  medv  \n",
       "0  396.90   4.98  24.0  \n",
       "1  396.90   9.14  21.6  \n",
       "2  392.83   4.03  34.7  \n",
       "3  394.63   2.94  33.4  \n",
       "4  396.90   5.33  36.2  "
      ]
     },
     "execution_count": 30,
     "metadata": {},
     "output_type": "execute_result"
    }
   ],
   "source": [
    "bostonDf.head(5)"
   ]
  },
  {
   "cell_type": "code",
   "execution_count": 44,
   "metadata": {},
   "outputs": [
    {
     "data": {
      "text/plain": [
       "crim       1.000000\n",
       "rad        0.625505\n",
       "tax        0.582764\n",
       "lstat      0.455621\n",
       "nox        0.420972\n",
       "indus      0.406583\n",
       "medv       0.388305\n",
       "b          0.385064\n",
       "dis        0.379670\n",
       "age        0.352734\n",
       "ptratio    0.289946\n",
       "rm         0.219247\n",
       "zn         0.200469\n",
       "chas       0.055892\n",
       "Name: crim, dtype: float64"
      ]
     },
     "execution_count": 44,
     "metadata": {},
     "output_type": "execute_result"
    }
   ],
   "source": [
    "abs(bostonDf.corr().crim).sort_values(ascending=False) #상관계수 #절대값 정렬"
   ]
  },
  {
   "cell_type": "code",
   "execution_count": 46,
   "metadata": {},
   "outputs": [
    {
     "data": {
      "text/plain": [
       "medv       1.000000\n",
       "lstat      0.737663\n",
       "rm         0.695360\n",
       "ptratio    0.507787\n",
       "indus      0.483725\n",
       "tax        0.468536\n",
       "nox        0.427321\n",
       "crim       0.388305\n",
       "rad        0.381626\n",
       "age        0.376955\n",
       "zn         0.360445\n",
       "b          0.333461\n",
       "dis        0.249929\n",
       "chas       0.175260\n",
       "Name: medv, dtype: float64"
      ]
     },
     "execution_count": 46,
     "metadata": {},
     "output_type": "execute_result"
    }
   ],
   "source": [
    "abs(bostonDf.corr().medv).sort_values(ascending=False)"
   ]
  },
  {
   "cell_type": "code",
   "execution_count": 48,
   "metadata": {},
   "outputs": [
    {
     "data": {
      "text/plain": [
       "(array([ 21.,  55.,  82., 154.,  84.,  41.,  30.,   8.,  10.,  21.]),\n",
       " array([ 5. ,  9.5, 14. , 18.5, 23. , 27.5, 32. , 36.5, 41. , 45.5, 50. ]),\n",
       " <BarContainer object of 10 artists>)"
      ]
     },
     "execution_count": 48,
     "metadata": {},
     "output_type": "execute_result"
    },
    {
     "data": {
      "image/png": "[encoded data removed]",
      "text/plain": [
       "<Figure size 640x480 with 1 Axes>"
      ]
     },
     "metadata": {},
     "output_type": "display_data"
    }
   ],
   "source": [
    "# 정규분포 확인\n",
    "plt.hist(bostonDf.medv)"
   ]
  },
  {
   "cell_type": "code",
   "execution_count": 49,
   "metadata": {},
   "outputs": [
    {
     "data": {
      "text/plain": [
       "(array([ 75., 108.,  99.,  84.,  64.,  30.,  21.,  16.,   4.,   5.]),\n",
       " array([ 1.73 ,  5.354,  8.978, 12.602, 16.226, 19.85 , 23.474, 27.098,\n",
       "        30.722, 34.346, 37.97 ]),\n",
       " <BarContainer object of 10 artists>)"
      ]
     },
     "execution_count": 49,
     "metadata": {},
     "output_type": "execute_result"
    },
    {
     "data": {
      "image/png": "[encoded data removed]",
      "text/plain": [
       "<Figure size 640x480 with 1 Axes>"
      ]
     },
     "metadata": {},
     "output_type": "display_data"
    }
   ],
   "source": [
    "plt.hist(bostonDf.lstat)"
   ]
  },
  {
   "cell_type": "code",
   "execution_count": 50,
   "metadata": {},
   "outputs": [
    {
     "data": {
      "text/plain": [
       "(array([  2.,   4.,  14.,  45., 177., 151.,  69.,  22.,  13.,   9.]),\n",
       " array([3.561 , 4.0829, 4.6048, 5.1267, 5.6486, 6.1705, 6.6924, 7.2143,\n",
       "        7.7362, 8.2581, 8.78  ]),\n",
       " <BarContainer object of 10 artists>)"
      ]
     },
     "execution_count": 50,
     "metadata": {},
     "output_type": "execute_result"
    },
    {
     "data": {
      "image/png": "[encoded data removed]",
      "text/plain": [
       "<Figure size 640x480 with 1 Axes>"
      ]
     },
     "metadata": {},
     "output_type": "display_data"
    }
   ],
   "source": [
    "plt.hist(bostonDf.rm) #그닦 깔끔하게 정규분포는 아니다."
   ]
  },
  {
   "cell_type": "code",
   "execution_count": 52,
   "metadata": {},
   "outputs": [
    {
     "data": {
      "text/plain": [
       "[<matplotlib.lines.Line2D at 0x20293959cd0>]"
      ]
     },
     "execution_count": 52,
     "metadata": {},
     "output_type": "execute_result"
    },
    {
     "data": {
      "image/png": "[encoded data removed]",
      "text/plain": [
       "<Figure size 640x480 with 1 Axes>"
      ]
     },
     "metadata": {},
     "output_type": "display_data"
    }
   ],
   "source": [
    "#타겟 집 가격, / 독립 lital , rm. ptraing\n",
    "\n",
    "plt.plot(bostonDf.medv,bostonDf.lstat,'r^') #하층민"
   ]
  },
  {
   "cell_type": "code",
   "execution_count": 53,
   "metadata": {},
   "outputs": [
    {
     "data": {
      "text/plain": [
       "[<matplotlib.lines.Line2D at 0x202939d38b0>]"
      ]
     },
     "execution_count": 53,
     "metadata": {},
     "output_type": "execute_result"
    },
    {
     "data": {
      "image/png": "[encoded data removed]",
      "text/plain": [
       "<Figure size 640x480 with 1 Axes>"
      ]
     },
     "metadata": {},
     "output_type": "display_data"
    }
   ],
   "source": [
    "plt.plot(bostonDf.medv,bostonDf.rm,'r^')"
   ]
  },
  {
   "cell_type": "code",
   "execution_count": 54,
   "metadata": {},
   "outputs": [
    {
     "data": {
      "text/plain": [
       "[<matplotlib.lines.Line2D at 0x202932cc700>]"
      ]
     },
     "execution_count": 54,
     "metadata": {},
     "output_type": "execute_result"
    },
    {
     "data": {
      "image/png": "[encoded data removed]",
      "text/plain": [
       "<Figure size 640x480 with 1 Axes>"
      ]
     },
     "metadata": {},
     "output_type": "display_data"
    }
   ],
   "source": [
    "plt.plot(bostonDf.medv,bostonDf.ptratio,'r^')"
   ]
  },
  {
   "cell_type": "code",
   "execution_count": 57,
   "metadata": {},
   "outputs": [],
   "source": [
    "#상관관계가 높은 애들이 있으니까, 선형회구로 한다.\n",
    "#학습방법 설정 & 데이터 전처리\n",
    "#데이터정제\n",
    "#이상치,\n",
    "#노이즈,모순값\n",
    "#데이터 변형 : 수치형 -> 범주형(이산화)(이번 보스턴 집값에서는 따로 할일이 없어보인다.), 수치형 -> 범위 Scale(정규화)\n",
    "#타겟 피쳐(수치형 )\n"
   ]
  },
  {
   "cell_type": "code",
   "execution_count": 56,
   "metadata": {},
   "outputs": [
    {
     "data": {
      "text/plain": [
       "crim       0\n",
       "zn         0\n",
       "indus      0\n",
       "chas       0\n",
       "nox        0\n",
       "rm         0\n",
       "age        0\n",
       "dis        0\n",
       "rad        0\n",
       "tax        0\n",
       "ptratio    0\n",
       "b          0\n",
       "lstat      0\n",
       "medv       0\n",
       "dtype: int64"
      ]
     },
     "execution_count": 56,
     "metadata": {},
     "output_type": "execute_result"
    }
   ],
   "source": [
    "#이상치\n",
    "bostonDf.isnull().sum()"
   ]
  },
  {
   "cell_type": "code",
   "execution_count": 64,
   "metadata": {},
   "outputs": [
    {
     "name": "stdout",
     "output_type": "stream",
     "text": [
      "------['crim']------\n",
      "[6.32000e-03 2.73100e-02 2.72900e-02 3.23700e-02 6.90500e-02 2.98500e-02\n",
      " 8.82900e-02 1.44550e-01 2.11240e-01 1.70040e-01 2.24890e-01 1.17470e-01\n",
      " 9.37800e-02 6.29760e-01 6.37960e-01 6.27390e-01 1.05393e+00 7.84200e-01\n",
      " 8.02710e-01 7.25800e-01 1.25179e+00 8.52040e-01 1.23247e+00 9.88430e-01\n",
      " 7.50260e-01 8.40540e-01 6.71910e-01 9.55770e-01 7.72990e-01 1.00245e+00\n",
      " 1.13081e+00 1.35472e+00 1.38799e+00 1.15172e+00 1.61282e+00 6.41700e-02\n",
      " 9.74400e-02 8.01400e-02 1.75050e-01 2.76300e-02 3.35900e-02 1.27440e-01\n",
      " 1.41500e-01 1.59360e-01 1.22690e-01 1.71420e-01 1.88360e-01 2.29270e-01\n",
      " 2.53870e-01 2.19770e-01 8.87300e-02 4.33700e-02 5.36000e-02 4.98100e-02\n",
      " 1.36000e-02 1.31100e-02 2.05500e-02 1.43200e-02 1.54450e-01 1.03280e-01\n",
      " 1.49320e-01 1.71710e-01 1.10270e-01 1.26500e-01 1.95100e-02 3.58400e-02\n",
      " 4.37900e-02 5.78900e-02 1.35540e-01 1.28160e-01 8.82600e-02 1.58760e-01\n",
      " 9.16400e-02 1.95390e-01 7.89600e-02 9.51200e-02 1.01530e-01 8.70700e-02\n",
      " 5.64600e-02 8.38700e-02 4.11300e-02 4.46200e-02 3.65900e-02 3.55100e-02\n",
      " 5.05900e-02 5.73500e-02 5.18800e-02 7.15100e-02 5.66000e-02 5.30200e-02\n",
      " 4.68400e-02 3.93200e-02 4.20300e-02 2.87500e-02 4.29400e-02 1.22040e-01\n",
      " 1.15040e-01 1.20830e-01 8.18700e-02 6.86000e-02 1.48660e-01 1.14320e-01\n",
      " 2.28760e-01 2.11610e-01 1.39600e-01 1.32620e-01 1.71200e-01 1.31170e-01\n",
      " 1.28020e-01 2.63630e-01 1.07930e-01 1.00840e-01 1.23290e-01 2.22120e-01\n",
      " 1.42310e-01 1.71340e-01 1.31580e-01 1.50980e-01 1.30580e-01 1.44760e-01\n",
      " 6.89900e-02 7.16500e-02 9.29900e-02 1.50380e-01 9.84900e-02 1.69020e-01\n",
      " 3.87350e-01 2.59150e-01 3.25430e-01 8.81250e-01 3.40060e-01 1.19294e+00\n",
      " 5.90050e-01 3.29820e-01 9.76170e-01 5.57780e-01 3.22640e-01 3.52330e-01\n",
      " 2.49800e-01 5.44520e-01 2.90900e-01 1.62864e+00 3.32105e+00 4.09740e+00\n",
      " 2.77974e+00 2.37934e+00 2.15505e+00 2.36862e+00 2.33099e+00 2.73397e+00\n",
      " 1.65660e+00 1.49632e+00 1.12658e+00 2.14918e+00 1.41385e+00 3.53501e+00\n",
      " 2.44668e+00 1.22358e+00 1.34284e+00 1.42502e+00 1.27346e+00 1.46336e+00\n",
      " 1.83377e+00 1.51902e+00 2.24236e+00 2.92400e+00 2.01019e+00 1.80028e+00\n",
      " 2.30040e+00 2.44953e+00 1.20742e+00 2.31390e+00 1.39140e-01 9.17800e-02\n",
      " 8.44700e-02 6.66400e-02 7.02200e-02 5.42500e-02 6.64200e-02 5.78000e-02\n",
      " 6.58800e-02 6.88800e-02 9.10300e-02 1.00080e-01 8.30800e-02 6.04700e-02\n",
      " 5.60200e-02 7.87500e-02 1.25790e-01 8.37000e-02 9.06800e-02 6.91100e-02\n",
      " 8.66400e-02 2.18700e-02 1.43900e-02 1.38100e-02 4.01100e-02 4.66600e-02\n",
      " 3.76800e-02 3.15000e-02 1.77800e-02 3.44500e-02 2.17700e-02 3.51000e-02\n",
      " 2.00900e-02 1.36420e-01 2.29690e-01 2.51990e-01 1.35870e-01 4.35710e-01\n",
      " 1.74460e-01 3.75780e-01 2.17190e-01 1.40520e-01 2.89550e-01 1.98020e-01\n",
      " 4.56000e-02 7.01300e-02 1.10690e-01 1.14250e-01 3.58090e-01 4.07710e-01\n",
      " 6.23560e-01 6.14700e-01 3.15330e-01 5.26930e-01 3.82140e-01 4.12380e-01\n",
      " 2.98190e-01 4.41780e-01 5.37000e-01 4.62960e-01 5.75290e-01 3.31470e-01\n",
      " 4.47910e-01 3.30450e-01 5.20580e-01 5.11830e-01 8.24400e-02 9.25200e-02\n",
      " 1.13290e-01 1.06120e-01 1.02900e-01 1.27570e-01 2.06080e-01 1.91330e-01\n",
      " 3.39830e-01 1.96570e-01 1.64390e-01 1.90730e-01 1.40300e-01 2.14090e-01\n",
      " 8.22100e-02 3.68940e-01 4.81900e-02 3.54800e-02 1.53800e-02 6.11540e-01\n",
      " 6.63510e-01 6.56650e-01 5.40110e-01 5.34120e-01 5.20140e-01 8.25260e-01\n",
      " 5.50070e-01 7.61620e-01 7.85700e-01 5.78340e-01 5.40500e-01 9.06500e-02\n",
      " 2.99160e-01 1.62110e-01 1.14600e-01 2.21880e-01 5.64400e-02 9.60400e-02\n",
      " 1.04690e-01 6.12700e-02 7.97800e-02 2.10380e-01 3.57800e-02 3.70500e-02\n",
      " 6.12900e-02 1.50100e-02 9.06000e-03 1.09600e-02 1.96500e-02 3.87100e-02\n",
      " 4.59000e-02 4.29700e-02 3.50200e-02 7.88600e-02 3.61500e-02 8.26500e-02\n",
      " 8.19900e-02 1.29320e-01 5.37200e-02 1.41030e-01 6.46600e-02 5.56100e-02\n",
      " 4.41700e-02 3.53700e-02 9.26600e-02 1.00000e-01 5.51500e-02 5.47900e-02\n",
      " 7.50300e-02 4.93200e-02 4.92980e-01 3.49400e-01 2.63548e+00 7.90410e-01\n",
      " 2.61690e-01 2.69380e-01 3.69200e-01 2.53560e-01 3.18270e-01 2.45220e-01\n",
      " 4.02020e-01 4.75470e-01 1.67600e-01 1.81590e-01 3.51140e-01 2.83920e-01\n",
      " 3.41090e-01 1.91860e-01 3.03470e-01 2.41030e-01 6.61700e-02 6.72400e-02\n",
      " 4.54400e-02 5.02300e-02 3.46600e-02 5.08300e-02 3.73800e-02 3.96100e-02\n",
      " 3.42700e-02 3.04100e-02 3.30600e-02 5.49700e-02 6.15100e-02 1.30100e-02\n",
      " 2.49800e-02 2.54300e-02 3.04900e-02 3.11300e-02 6.16200e-02 1.87000e-02\n",
      " 2.89900e-02 6.21100e-02 7.95000e-02 7.24400e-02 1.70900e-02 4.30100e-02\n",
      " 1.06590e-01 8.98296e+00 3.84970e+00 5.20177e+00 4.26131e+00 4.54192e+00\n",
      " 3.83684e+00 3.67822e+00 4.22239e+00 3.47428e+00 4.55587e+00 3.69695e+00\n",
      " 1.35222e+01 4.89822e+00 5.66998e+00 6.53876e+00 9.23230e+00 8.26725e+00\n",
      " 1.11081e+01 1.84982e+01 1.96091e+01 1.52880e+01 9.82349e+00 2.36482e+01\n",
      " 1.78667e+01 8.89762e+01 1.58744e+01 9.18702e+00 7.99248e+00 2.00849e+01\n",
      " 1.68118e+01 2.43938e+01 2.25971e+01 1.43337e+01 8.15174e+00 6.96215e+00\n",
      " 5.29305e+00 1.15779e+01 8.64476e+00 1.33598e+01 8.71675e+00 5.87205e+00\n",
      " 7.67202e+00 3.83518e+01 9.91655e+00 2.50461e+01 1.42362e+01 9.59571e+00\n",
      " 2.48017e+01 4.15292e+01 6.79208e+01 2.07162e+01 1.19511e+01 7.40389e+00\n",
      " 1.44383e+01 5.11358e+01 1.40507e+01 1.88110e+01 2.86558e+01 4.57461e+01\n",
      " 1.80846e+01 1.08342e+01 2.59406e+01 7.35341e+01 1.18123e+01 1.10874e+01\n",
      " 7.02259e+00 1.20482e+01 7.05042e+00 8.79212e+00 1.58603e+01 1.22472e+01\n",
      " 3.76619e+01 7.36711e+00 9.33889e+00 8.49213e+00 1.00623e+01 6.44405e+00\n",
      " 5.58107e+00 1.39134e+01 1.11604e+01 1.44208e+01 1.51772e+01 1.36781e+01\n",
      " 9.39063e+00 2.20511e+01 9.72418e+00 5.66637e+00 9.96654e+00 1.28023e+01\n",
      " 1.06718e+01 6.28807e+00 9.92485e+00 9.32909e+00 7.52601e+00 6.71772e+00\n",
      " 5.44114e+00 5.09017e+00 8.24809e+00 9.51363e+00 4.75237e+00 4.66883e+00\n",
      " 8.20058e+00 7.75223e+00 6.80117e+00 4.81213e+00 3.69311e+00 6.65492e+00\n",
      " 5.82115e+00 7.83932e+00 3.16360e+00 3.77498e+00 4.42228e+00 1.55757e+01\n",
      " 1.30751e+01 4.34879e+00 4.03841e+00 3.56868e+00 4.64689e+00 8.05579e+00\n",
      " 6.39312e+00 4.87141e+00 1.50234e+01 1.02330e+01 5.82401e+00 5.70818e+00\n",
      " 5.73116e+00 2.81838e+00 2.37857e+00 3.67367e+00 5.69175e+00 4.83567e+00\n",
      " 1.50860e-01 1.83370e-01 2.07460e-01 1.05740e-01 1.11320e-01 1.73310e-01\n",
      " 2.79570e-01 1.78990e-01 2.89600e-01 2.68380e-01 2.39120e-01 1.77830e-01\n",
      " 2.24380e-01 6.26300e-02 4.52700e-02 6.07600e-02 1.09590e-01 4.74100e-02]\n",
      "------['zn']------\n",
      "[ 18.    0.   12.5  75.   21.   90.   85.  100.   25.   17.5  80.   28.\n",
      "  45.   60.   95.   82.5  30.   22.   20.   40.   55.   52.5  70.   34.\n",
      "  33.   35. ]\n",
      "------['indus']------\n",
      "[ 2.31  7.07  2.18  7.87  8.14  5.96  2.95  6.91  5.64  4.    1.22  0.74\n",
      "  1.32  5.13  1.38  3.37  6.07 10.81 12.83  4.86  4.49  3.41 15.04  2.89\n",
      "  8.56 10.01 25.65 21.89 19.58  4.05  2.46  3.44  2.93  0.46  1.52  1.47\n",
      "  2.03  2.68 10.59 13.89  6.2   4.93  5.86  3.64  3.75  3.97  6.96  6.41\n",
      "  3.33  1.21  2.97  2.25  1.76  5.32  4.95 13.92  2.24  6.09  9.9   7.38\n",
      "  3.24  6.06  5.19  1.89  3.78  4.39  4.15  2.01  1.25  1.69  2.02  1.91\n",
      " 18.1  27.74  9.69 11.93]\n",
      "------['chas']------\n",
      "[0 1]\n",
      "------['nox']------\n",
      "[0.538  0.469  0.458  0.524  0.499  0.428  0.448  0.439  0.41   0.403\n",
      " 0.411  0.453  0.4161 0.398  0.409  0.413  0.437  0.426  0.449  0.489\n",
      " 0.464  0.445  0.52   0.547  0.581  0.624  0.871  0.605  0.51   0.488\n",
      " 0.401  0.422  0.404  0.415  0.55   0.507  0.504  0.431  0.392  0.394\n",
      " 0.647  0.575  0.447  0.4429 0.4    0.389  0.385  0.405  0.433  0.472\n",
      " 0.544  0.493  0.46   0.4379 0.515  0.442  0.518  0.484  0.429  0.435\n",
      " 0.77   0.718  0.631  0.668  0.671  0.7    0.693  0.659  0.597  0.679\n",
      " 0.614  0.584  0.713  0.74   0.655  0.58   0.532  0.583  0.609  0.585\n",
      " 0.573 ]\n",
      "------['rm']------\n",
      "[6.575 6.421 7.185 6.998 7.147 6.43  6.012 6.172 5.631 6.004 6.377 6.009\n",
      " 5.889 5.949 6.096 5.834 5.935 5.99  5.456 5.727 5.57  5.965 6.142 5.813\n",
      " 5.924 5.599 6.047 6.495 6.674 5.713 6.072 5.95  5.701 5.933 5.841 5.85\n",
      " 5.966 6.595 7.024 6.77  6.169 6.211 6.069 5.682 5.786 6.03  5.399 5.602\n",
      " 5.963 6.115 6.511 5.998 5.888 7.249 6.383 6.816 6.145 5.927 5.741 6.456\n",
      " 6.762 7.104 6.29  5.787 5.878 5.594 5.885 6.417 5.961 6.065 6.245 6.273\n",
      " 6.286 6.279 6.14  6.232 5.874 6.727 6.619 6.302 6.167 6.389 6.63  6.015\n",
      " 6.121 7.007 7.079 6.405 6.442 6.249 6.625 6.163 8.069 7.82  7.416 6.781\n",
      " 6.137 5.851 5.836 6.127 6.474 6.229 6.195 6.715 5.913 6.092 6.254 5.928\n",
      " 6.176 6.021 5.872 5.731 5.87  5.856 5.879 5.986 5.613 5.693 6.431 5.637\n",
      " 6.458 6.326 6.372 5.822 5.757 6.335 5.942 6.454 5.857 6.151 6.174 5.019\n",
      " 5.403 5.468 4.903 6.13  5.628 4.926 5.186 5.597 6.122 5.404 5.012 5.709\n",
      " 6.129 6.152 5.272 6.943 6.066 6.51  6.25  7.489 7.802 8.375 5.854 6.101\n",
      " 7.929 5.877 6.319 6.402 5.875 5.88  5.572 6.416 5.859 6.546 6.02  6.315\n",
      " 6.86  6.98  7.765 6.144 7.155 6.563 5.604 6.153 7.831 6.782 6.556 6.951\n",
      " 6.739 7.178 6.8   6.604 7.875 7.287 7.107 7.274 6.975 7.135 6.162 7.61\n",
      " 7.853 8.034 5.891 5.783 6.064 5.344 5.96  5.807 6.375 5.412 6.182 6.642\n",
      " 5.951 6.373 6.164 6.879 6.618 8.266 8.725 8.04  7.163 7.686 6.552 5.981\n",
      " 7.412 8.337 8.247 6.726 6.086 6.631 7.358 6.481 6.606 6.897 6.095 6.358\n",
      " 6.393 5.593 5.605 6.108 6.226 6.433 6.718 6.487 6.438 6.957 8.259 5.876\n",
      " 7.454 8.704 7.333 6.842 7.203 7.52  8.398 7.327 7.206 5.56  7.014 8.297\n",
      " 7.47  5.92  6.24  6.538 7.691 6.758 6.854 7.267 6.826 6.482 6.812 6.968\n",
      " 7.645 7.923 7.088 6.453 6.23  6.209 6.565 6.861 7.148 6.678 6.549 5.79\n",
      " 6.345 7.041 6.871 6.59  6.982 7.236 6.616 7.42  6.849 6.635 5.972 4.973\n",
      " 6.023 6.266 6.567 5.705 5.914 5.782 6.382 6.113 6.426 6.376 6.041 5.708\n",
      " 6.415 6.312 6.083 5.868 6.333 5.706 6.031 6.316 6.31  6.037 5.869 5.895\n",
      " 6.059 5.985 5.968 7.241 6.54  6.696 6.874 6.014 5.898 6.516 6.939 6.49\n",
      " 6.579 5.884 6.728 5.663 5.936 6.212 6.395 6.112 6.398 6.251 5.362 5.803\n",
      " 8.78  3.561 4.963 3.863 4.97  6.683 7.016 6.216 4.906 4.138 7.313 6.649\n",
      " 6.794 6.38  6.223 6.545 5.536 5.52  4.368 5.277 4.652 5.    4.88  5.39\n",
      " 6.051 5.036 6.193 5.887 6.471 5.747 5.453 5.852 5.987 6.343 6.404 5.349\n",
      " 5.531 5.683 5.608 5.617 6.852 6.657 4.628 5.155 4.519 6.434 5.304 5.957\n",
      " 6.824 6.411 6.006 5.648 6.103 5.565 5.896 5.837 6.202 6.348 6.833 6.425\n",
      " 6.436 6.208 6.629 6.461 5.627 5.818 6.406 6.219 6.485 6.459 6.341 6.185\n",
      " 6.749 6.655 6.297 7.393 6.525 5.976 6.301 6.081 6.701 6.317 6.513 5.759\n",
      " 5.952 6.003 5.926 6.437 5.427 6.484 6.242 6.75  7.061 5.762 5.871 6.114\n",
      " 5.905 5.454 5.414 5.093 5.983 5.707 5.67  5.794 6.019 5.569 6.027 6.593\n",
      " 6.12  6.976]\n",
      "------['age']------\n",
      "[ 65.2  78.9  61.1  45.8  54.2  58.7  66.6  96.1 100.   85.9  94.3  82.9\n",
      "  39.   61.8  84.5  56.5  29.3  81.7  36.6  69.5  98.1  89.2  91.7  94.1\n",
      "  85.7  90.3  88.8  94.4  87.3  82.   95.   96.9  68.2  61.4  41.5  30.2\n",
      "  21.8  15.8   2.9   6.6   6.5  40.   33.8  33.3  85.5  95.3  62.   45.7\n",
      "  63.   21.1  21.4  47.6  21.9  35.7  40.5  29.2  47.2  66.2  93.4  67.8\n",
      "  43.4  59.5  17.8  31.1  36.8  33.   17.5   7.8   6.2   6.   45.   74.5\n",
      "  53.7  33.5  70.4  32.2  46.7  48.   56.1  45.1  56.8  86.3  63.1  66.1\n",
      "  73.9  53.6  28.9  77.3  57.8  69.6  76.   36.9  62.5  79.9  71.3  85.4\n",
      "  87.4  90.   96.7  91.9  85.2  97.1  91.2  54.4  81.6  92.9  95.4  84.2\n",
      "  88.2  72.5  82.6  73.1  69.7  84.1  97.   95.8  88.4  95.6  96.   98.8\n",
      "  94.7  98.9  97.7  97.9  98.4  98.2  93.5  93.6  97.8  95.7  93.8  94.9\n",
      "  97.3  88.   98.5  94.   97.4  92.6  90.8  93.9  91.8  93.   96.2  79.2\n",
      "  95.2  94.6  88.5  68.7  33.1  73.4  74.4  58.4  83.3  62.2  92.2  89.8\n",
      "  68.8  41.1  29.1  38.9  21.5  30.8  26.3   9.9  18.8  32.   34.1  38.3\n",
      "  15.3  13.9  38.4  15.7  33.2  31.9  22.3  52.5  72.7  59.1  92.1  88.6\n",
      "  53.8  32.3   9.8  42.4  56.   85.1  92.4  91.3  77.7  80.8  78.3  83.\n",
      "  86.5  17.   68.1  76.9  73.3  66.5  61.5  76.5  71.6  18.5  42.2  54.3\n",
      "  65.1  52.9  70.2  34.9  49.1  13.    8.9   6.8   8.4  19.1  34.2  86.9\n",
      "  81.8  89.4  91.5  94.5  91.6  62.8  84.6  67.   52.6  42.1  16.3  51.8\n",
      "  32.9  42.8  49.   27.6  32.1  64.5  37.2  49.7  24.8  20.8  31.5  31.3\n",
      "  45.6  22.9  27.9  27.7  23.4  18.4  42.3  51.   58.   20.1  10.   47.4\n",
      "  40.4  17.7  58.1  71.9  70.3  82.5  76.7  37.8  52.8  90.4  82.8  83.2\n",
      "  71.7  67.2  58.8  52.3  49.9  74.3  40.1  14.7  43.7  25.8  17.2  28.4\n",
      "  23.3  38.1  38.5  34.5  46.3  59.6  37.3  45.4  58.5  49.3  59.7  56.4\n",
      "  28.1  48.5  29.7  44.4  35.9  36.1  19.5  91.   83.4  81.3  91.1  89.\n",
      "  87.9  91.4  96.8  97.5  89.6  93.3  99.1  89.5  77.8  89.1  87.6  70.6\n",
      "  78.7  78.1  86.1  74.8  97.2  96.6  94.8  96.4  98.7  98.3  99.3  80.3\n",
      "  83.7  84.4  89.9  65.4  48.2  84.7  71.   56.7  84.   90.7  75.   67.6\n",
      "  64.7  74.9  77.   40.3  41.9  51.9  79.8  53.2  92.7  98.   83.5  54.\n",
      "  42.6  28.8  72.9  65.3  73.5  79.7  69.1  89.3]\n",
      "------['dis']------\n",
      "[ 4.09    4.9671  6.0622  5.5605  5.9505  6.0821  6.5921  6.3467  6.2267\n",
      "  5.4509  4.7075  4.4619  4.4986  4.2579  3.7965  3.7979  4.0123  3.9769\n",
      "  4.0952  4.3996  4.4546  4.682   4.4534  4.4547  4.239   4.233   4.175\n",
      "  3.99    3.7872  3.7598  3.3603  3.3779  3.9342  3.8473  5.4011  5.7209\n",
      "  5.1004  5.6894  5.87    6.0877  6.8147  7.3197  8.6966  9.1876  8.3248\n",
      "  7.8148  6.932   7.2254  6.8185  7.2255  7.9809  9.2229  6.6115  6.498\n",
      "  5.2873  4.2515  4.5026  4.0522  4.0905  5.0141  5.4007  4.7794  4.4377\n",
      "  4.4272  3.7476  3.4217  3.4145  3.0923  3.0921  3.6659  3.615   3.4952\n",
      "  2.7778  2.8561  2.7147  2.421   2.1069  2.211   2.1224  2.4329  2.5451\n",
      "  2.6775  2.3534  2.548   2.2565  2.4631  2.7301  2.7474  2.4775  2.7592\n",
      "  2.2577  2.1974  2.0869  1.9444  2.0063  1.9929  1.7572  1.7883  1.8125\n",
      "  1.9799  2.1185  2.271   2.3274  2.4699  2.346   2.1107  1.9669  1.8498\n",
      "  1.6686  1.6687  1.6119  1.4394  1.3216  1.4118  1.3459  1.4191  1.5166\n",
      "  1.4608  1.5296  1.5257  1.618   1.5916  1.6102  1.6232  1.7494  1.7455\n",
      "  1.7364  1.8773  1.7573  1.7659  1.7984  1.9709  2.0407  2.162   2.422\n",
      "  2.2834  2.0459  2.4259  2.1     2.2625  2.3887  2.5961  2.6463  2.7019\n",
      "  3.1323  3.5549  3.3175  2.9153  2.829   2.741   2.5979  2.7006  2.847\n",
      "  2.9879  3.2797  3.1992  3.7886  4.5667  6.4798  6.2196  5.6484  7.309\n",
      "  7.6534  6.27    5.118   3.9454  4.3549  4.2392  3.875   3.8771  3.665\n",
      "  3.6526  3.5875  3.1121  3.4211  2.8893  3.3633  2.8617  3.048   3.2721\n",
      "  2.8944  3.2157  3.3751  3.6715  3.8384  3.6519  4.148   6.1899  6.3361\n",
      "  7.0355  7.9549  8.0555  7.8265  7.3967  8.9067  9.2203  1.801   1.8946\n",
      "  2.0107  2.1121  2.1398  2.2885  2.0788  1.9301  1.9865  2.1329  2.4216\n",
      "  2.872   3.9175  4.429   4.3665  4.0776  4.2673  4.7872  4.8628  4.1403\n",
      "  4.1007  4.6947  5.2447  5.2119  5.885   7.3073  9.0892  7.3172  5.1167\n",
      "  5.5027  5.9604  6.32    7.8278  5.4917  4.022   3.37    3.0992  3.1827\n",
      "  3.1025  2.5194  2.6403  2.834   3.2628  3.6023  3.945   3.9986  4.0317\n",
      "  3.5325  4.0019  4.5404  4.7211  5.4159  5.2146  5.8736  6.6407  6.4584\n",
      "  5.9853  5.2311  5.615   4.8122  7.0379  6.2669  5.7321  6.4654  8.0136\n",
      "  8.5353  8.344   8.7921 10.7103 12.1265 10.5857  2.1222  2.5052  2.7227\n",
      "  2.5091  2.5182  2.2955  2.1036  1.9047  1.6132  1.7523  1.5106  1.3325\n",
      "  1.3567  1.2024  1.1691  1.1296  1.1742  1.137   1.3163  1.3449  1.358\n",
      "  1.3861  1.4165  1.5192  1.5804  1.5331  1.4395  1.4261  1.4672  1.5184\n",
      "  1.5895  1.7281  1.9265  2.1678  1.77    1.7912  1.7821  1.7257  1.6768\n",
      "  1.6334  1.4896  1.5004  1.5888  1.5741  1.639   1.7028  1.6074  1.4254\n",
      "  1.1781  1.2852  1.4547  1.4655  1.413   1.5275  1.5539  1.5894  1.6582\n",
      "  1.8347  1.8195  1.6475  1.8026  1.794   1.8589  1.8746  1.9512  2.0218\n",
      "  2.0635  1.9096  1.9976  1.8629  1.9356  1.9682  2.0527  2.0882  2.2004\n",
      "  2.3158  2.2222  2.1247  2.0026  1.9142  1.8206  1.8172  1.8662  2.0651\n",
      "  2.0048  1.9784  1.8956  1.9879  2.072   2.198   2.2616  2.185   2.3236\n",
      "  2.3552  2.3682  2.4527  2.4961  2.4358  2.5806  2.7792  2.7831  2.7175\n",
      "  2.5975  2.5671  2.7344  2.8016  2.9634  3.0665  2.8715  2.5403  2.9084\n",
      "  2.8237  3.0334  3.0993  2.8965  2.5329  2.4298  2.206   2.3053  2.1007\n",
      "  2.1705  3.4242  3.3317  3.4106  4.0983  3.724   3.9917  3.5459  3.1523\n",
      "  1.8209  1.7554  1.8226  1.8681  2.1099  2.3817  2.7986  2.8927  2.4091\n",
      "  2.3999  2.4982  2.4786  2.2875  2.1675  2.3889  2.505 ]\n",
      "------['rad']------\n",
      "[ 1  2  3  5  4  8  6  7 24]\n",
      "------['tax']------\n",
      "[296 242 222 311 307 279 252 233 243 469 226 313 256 284 216 337 345 305\n",
      " 398 281 247 270 276 384 432 188 437 403 193 265 255 329 402 348 224 277\n",
      " 300 330 315 244 264 223 254 198 285 241 293 245 289 358 304 287 430 422\n",
      " 370 352 351 280 335 411 187 334 666 711 391 273]\n",
      "------['ptratio']------\n",
      "[15.3 17.8 18.7 15.2 21.  19.2 18.3 17.9 16.8 21.1 17.3 15.1 19.7 18.6\n",
      " 16.1 18.9 19.  18.5 18.2 18.  20.9 19.1 21.2 14.7 16.6 15.6 14.4 12.6\n",
      " 17.  16.4 17.4 15.9 13.  17.6 14.9 13.6 16.  14.8 18.4 19.6 16.9 20.2\n",
      " 15.5 18.8 22.  20.1]\n",
      "------['b']------\n",
      "[3.9690e+02 3.9283e+02 3.9463e+02 3.9412e+02 3.9560e+02 3.8663e+02\n",
      " 3.8671e+02 3.9252e+02 3.9050e+02 3.8002e+02 3.9562e+02 3.8685e+02\n",
      " 3.8675e+02 2.8899e+02 3.9095e+02 3.7657e+02 3.9253e+02 3.9454e+02\n",
      " 3.9433e+02 3.0342e+02 3.7688e+02 3.0638e+02 3.8794e+02 3.8023e+02\n",
      " 3.6017e+02 3.7673e+02 2.3260e+02 3.5877e+02 2.4831e+02 3.7756e+02\n",
      " 3.9343e+02 3.9563e+02 3.8541e+02 3.8337e+02 3.9446e+02 3.8939e+02\n",
      " 3.9274e+02 3.9556e+02 3.9397e+02 3.9593e+02 3.9290e+02 3.9068e+02\n",
      " 3.9511e+02 3.7808e+02 3.9558e+02 3.9324e+02 3.9621e+02 3.8373e+02\n",
      " 3.7694e+02 3.9091e+02 3.7717e+02 3.9492e+02 3.8323e+02 3.7366e+02\n",
      " 3.8696e+02 3.8640e+02 3.9606e+02 3.9064e+02 3.9230e+02 3.9599e+02\n",
      " 3.9515e+02 3.9218e+02 3.9355e+02 3.9501e+02 3.9633e+02 3.5798e+02\n",
      " 3.9183e+02 3.9353e+02 3.9476e+02 7.0800e+01 3.9447e+02 3.9269e+02\n",
      " 3.9405e+02 3.9567e+02 3.8769e+02 3.9524e+02 3.9123e+02 3.9349e+02\n",
      " 3.9559e+02 3.9495e+02 3.8874e+02 3.4491e+02 3.9330e+02 3.9451e+02\n",
      " 3.3863e+02 3.9150e+02 3.8915e+02 3.7767e+02 3.7809e+02 3.7031e+02\n",
      " 3.7938e+02 3.8502e+02 3.5929e+02 3.9211e+02 3.9504e+02 3.8576e+02\n",
      " 3.8869e+02 2.6276e+02 3.9467e+02 3.7825e+02 3.9408e+02 3.9204e+02\n",
      " 3.8808e+02 1.7291e+02 1.6927e+02 3.9171e+02 3.5699e+02 3.5185e+02\n",
      " 3.7280e+02 3.4160e+02 3.4328e+02 2.6195e+02 3.2102e+02 8.8010e+01\n",
      " 8.8630e+01 3.6343e+02 3.5389e+02 3.6431e+02 3.3892e+02 3.7443e+02\n",
      " 3.8961e+02 3.8845e+02 2.4016e+02 3.6930e+02 2.2761e+02 2.9709e+02\n",
      " 3.3004e+02 2.9229e+02 3.4813e+02 3.9550e+02 3.9323e+02 3.9096e+02\n",
      " 3.9127e+02 3.9100e+02 3.8711e+02 3.9263e+02 3.9387e+02 3.8284e+02\n",
      " 3.7768e+02 3.8971e+02 3.9049e+02 3.9337e+02 3.7670e+02 3.9423e+02\n",
      " 3.5431e+02 3.9220e+02 3.8430e+02 3.9377e+02 3.9538e+02 3.9278e+02\n",
      " 3.9055e+02 3.9487e+02 3.8943e+02 3.8132e+02 3.9325e+02 3.9094e+02\n",
      " 3.8581e+02 3.4893e+02 3.9363e+02 3.9280e+02 3.9374e+02 3.9170e+02\n",
      " 3.9039e+02 3.8505e+02 3.8200e+02 3.8738e+02 3.7208e+02 3.7751e+02\n",
      " 3.8034e+02 3.7835e+02 3.7614e+02 3.8591e+02 3.7895e+02 3.6020e+02\n",
      " 3.7675e+02 3.9007e+02 3.7941e+02 3.8378e+02 3.9125e+02 3.9462e+02\n",
      " 3.7275e+02 3.7471e+02 3.7249e+02 3.8913e+02 3.9018e+02 3.9628e+02\n",
      " 3.7707e+02 3.8609e+02 3.9289e+02 3.9518e+02 3.8634e+02 3.8970e+02\n",
      " 3.8329e+02 3.9193e+02 3.8837e+02 3.8686e+02 3.9342e+02 3.8789e+02\n",
      " 3.9240e+02 3.8407e+02 3.8454e+02 3.9030e+02 3.9134e+02 3.8865e+02\n",
      " 3.9496e+02 3.9077e+02 3.8925e+02 3.9345e+02 3.8731e+02 3.9223e+02\n",
      " 3.9552e+02 3.9472e+02 3.7172e+02 3.9285e+02 3.6824e+02 3.7158e+02\n",
      " 3.9086e+02 3.9575e+02 3.8361e+02 3.9043e+02 3.9368e+02 3.9336e+02\n",
      " 3.9624e+02 3.5045e+02 3.9630e+02 3.9339e+02 3.9569e+02 3.9642e+02\n",
      " 3.9070e+02 3.9521e+02 3.9623e+02 3.9113e+02 3.8244e+02 3.7521e+02\n",
      " 3.6857e+02 3.9402e+02 3.6225e+02 3.8940e+02 3.9481e+02 3.9614e+02\n",
      " 3.9474e+02 3.8996e+02 3.8797e+02 3.8564e+02 3.6461e+02 3.9243e+02\n",
      " 3.8985e+02 3.7078e+02 3.9233e+02 3.8446e+02 3.8280e+02 3.7604e+02\n",
      " 3.7773e+02 3.9543e+02 3.9074e+02 3.7456e+02 3.5065e+02 3.8079e+02\n",
      " 3.5304e+02 3.5455e+02 3.5470e+02 3.1603e+02 1.3142e+02 3.7552e+02\n",
      " 3.7533e+02 3.9205e+02 3.6615e+02 3.4788e+02 3.6302e+02 2.8583e+02\n",
      " 3.7292e+02 3.9443e+02 3.7838e+02 3.9198e+02 3.9310e+02 3.3816e+02\n",
      " 3.7611e+02 3.2946e+02 3.8497e+02 3.7022e+02 3.3209e+02 3.1464e+02\n",
      " 1.7936e+02 2.6000e+00 3.5050e+01 2.8790e+01 2.1097e+02 8.8270e+01\n",
      " 2.7250e+01 2.1570e+01 1.2736e+02 1.6450e+01 4.8450e+01 3.1875e+02\n",
      " 3.1998e+02 2.9155e+02 2.5200e+00 3.6500e+00 7.6800e+00 2.4650e+01\n",
      " 1.8820e+01 9.6730e+01 6.0720e+01 8.3450e+01 8.1330e+01 9.7950e+01\n",
      " 1.0019e+02 1.0063e+02 1.0985e+02 2.7490e+01 9.3200e+00 6.8950e+01\n",
      " 3.9145e+02 3.8596e+02 3.8673e+02 2.4052e+02 4.3060e+01 3.1801e+02\n",
      " 3.8852e+02 3.0421e+02 3.2000e-01 3.5529e+02 3.8509e+02 3.7587e+02\n",
      " 6.6800e+00 5.0920e+01 1.0480e+01 3.5000e+00 2.7221e+02 2.5523e+02\n",
      " 3.9143e+02 3.9382e+02 3.3440e+02 2.2010e+01 3.3129e+02 3.6874e+02\n",
      " 3.9533e+02 3.7468e+02 3.5258e+02 3.0276e+02 3.4948e+02 3.7970e+02\n",
      " 3.8332e+02 3.9307e+02 3.9528e+02 3.9292e+02 3.7073e+02 3.8862e+02\n",
      " 3.9268e+02 3.8822e+02 3.9509e+02 3.4405e+02 3.1843e+02 3.9011e+02\n",
      " 3.9329e+02 3.9577e+02 3.9199e+02]\n",
      "------['lstat']------\n",
      "[ 4.98  9.14  4.03  2.94  5.33  5.21 12.43 19.15 29.93 17.1  20.45 13.27\n",
      " 15.71  8.26 10.26  8.47  6.58 14.67 11.69 11.28 21.02 13.83 18.72 19.88\n",
      " 16.3  16.51 14.81 17.28 12.8  11.98 22.6  13.04 27.71 18.35 20.34  9.68\n",
      " 11.41  8.77 10.13  4.32  1.98  4.84  5.81  7.44  9.55 10.21 14.15 18.8\n",
      " 30.81 16.2  13.45  9.43  5.28  8.43 14.8   4.81  5.77  3.95  6.86  9.22\n",
      " 13.15 14.44  6.73  9.5   8.05  4.67 10.24  8.1  13.09  8.79  6.72  9.88\n",
      "  5.52  7.54  6.78  8.94 11.97 10.27 12.34  9.1   5.29  7.22  7.51  9.62\n",
      "  6.53 12.86  8.44  5.5   5.7   8.81  8.2   8.16  6.21 10.59  6.65 11.34\n",
      "  4.21  3.57  6.19  9.42  7.67 10.63 13.44 12.33 16.47 18.66 14.09 12.27\n",
      " 15.55 13.   10.16 16.21 17.09 10.45 15.76 12.04 10.3  15.37 13.61 14.37\n",
      " 14.27 17.93 25.41 17.58 27.26 17.19 15.39 18.34 12.6  12.26 11.12 15.03\n",
      " 17.31 16.96 16.9  14.59 21.32 18.46 24.16 34.41 26.82 26.42 29.29 27.8\n",
      " 16.65 29.53 28.32 21.45 14.1  13.28 12.12 15.79 15.12 15.02 16.14  4.59\n",
      "  6.43  7.39  1.73  1.92  3.32 11.64  9.81  3.7  12.14 11.1  11.32 14.43\n",
      " 12.03 14.69  9.04  9.64 10.11  6.29  6.92  5.04  7.56  9.45  4.82  5.68\n",
      " 13.98  4.45  6.68  4.56  5.39  5.1   4.69  2.87  5.03  4.38  2.97  4.08\n",
      "  8.61  6.62  7.43  3.11  3.81  2.88 10.87 10.97 18.06 14.66 23.09 17.27\n",
      " 23.98 16.03  9.38 29.55  9.47 13.51  9.69 17.92 10.5   9.71 21.46  9.93\n",
      "  7.6   4.14  4.63  3.13  6.36  3.92  3.76 11.65  5.25  2.47 10.88  9.54\n",
      "  4.73  7.37 11.38 12.4  11.22  5.19 12.5   9.16 10.15  9.52  6.56  5.9\n",
      "  3.59  3.53  3.54  6.57  9.25  5.12  7.79  6.9   9.59  7.26  5.91 11.25\n",
      " 14.79  3.16 13.65  6.59  7.73  2.98  6.05  4.16  7.19  4.85  3.01  7.85\n",
      "  8.23 12.93  7.14  9.51  3.33  3.56  4.7   8.58 10.4   6.27 15.84  4.97\n",
      "  4.74  6.07  8.67  4.86  6.93  8.93  6.47  7.53  4.54  9.97 12.64  5.98\n",
      " 11.72  7.9   9.28 11.5  18.33 15.94 10.36 12.73  7.2   6.87  7.7  11.74\n",
      "  6.12  5.08  6.15 12.79  7.34  9.09  7.83  6.75  8.01  9.8  10.56  8.51\n",
      "  9.74  9.29  5.49  8.65  7.18  4.61 10.53 12.67  5.99  5.89  4.5   5.57\n",
      " 17.6  11.48 14.19 10.19 14.64  7.12 14.   13.33  3.26  3.73  2.96  9.53\n",
      "  8.88 34.77 37.97 23.24 21.24 23.69 21.78 17.21 21.08 23.6  24.56 30.63\n",
      " 28.28 31.99 30.62 20.85 17.11 18.76 25.68 15.17 16.35 17.12 19.37 19.92\n",
      " 30.59 29.97 26.77 20.32 20.31 19.77 27.38 22.98 23.34 12.13 26.4  19.78\n",
      " 21.22 34.37 20.08 36.98 29.05 25.79 26.64 20.62 22.74 15.7  23.29 17.16\n",
      " 24.39 15.69 14.52 21.52 24.08 17.64 19.69 16.22 23.27 18.05 26.45 34.02\n",
      " 22.88 22.11 19.52 16.59 18.85 23.79 17.79 16.44 18.13 19.31 17.44 17.73\n",
      " 16.74 18.71 19.01 16.94 16.23 14.7  16.42 14.65 13.99 10.29 13.22 14.13\n",
      " 17.15 14.76 16.29 12.87 14.36 11.66 18.14 24.1  18.68 24.91 18.03 13.11\n",
      " 10.74  7.74  7.01 10.42 13.34 10.58 14.98 11.45 23.97 29.68 18.07 13.35\n",
      " 12.01 13.59 21.14 12.92 15.1  14.33  9.67  9.08  5.64  6.48  7.88]\n",
      "------['medv']------\n",
      "[24.  21.6 34.7 33.4 36.2 28.7 22.9 27.1 16.5 18.9 15.  21.7 20.4 18.2\n",
      " 19.9 23.1 17.5 20.2 13.6 19.6 15.2 14.5 15.6 13.9 16.6 14.8 18.4 21.\n",
      " 12.7 13.2 13.1 13.5 20.  24.7 30.8 34.9 26.6 25.3 21.2 19.3 14.4 19.4\n",
      " 19.7 20.5 25.  23.4 35.4 31.6 23.3 18.7 16.  22.2 33.  23.5 22.  17.4\n",
      " 20.9 24.2 22.8 24.1 21.4 20.8 20.3 28.  23.9 24.8 22.5 23.6 22.6 20.6\n",
      " 28.4 38.7 43.8 33.2 27.5 26.5 18.6 20.1 19.5 19.8 18.8 18.5 18.3 19.2\n",
      " 17.3 15.7 16.2 18.  14.3 23.  18.1 17.1 13.3 17.8 14.  13.4 11.8 13.8\n",
      " 14.6 15.4 21.5 15.3 17.  41.3 24.3 27.  50.  22.7 23.8 22.3 19.1 29.4\n",
      " 23.2 24.6 29.9 37.2 39.8 37.9 32.5 26.4 29.6 32.  29.8 37.  30.5 36.4\n",
      " 31.1 29.1 33.3 30.3 34.6 32.9 42.3 48.5 24.4 22.4 28.1 23.7 26.7 30.1\n",
      " 44.8 37.6 46.7 31.5 31.7 41.7 48.3 29.  25.1 17.6 24.5 26.2 42.8 21.9\n",
      " 44.  36.  33.8 43.1 48.8 31.  36.5 30.7 43.5 20.7 21.1 25.2 35.2 32.4\n",
      " 33.1 35.1 45.4 46.  32.2 28.5 37.3 27.9 28.6 36.1 28.2 16.1 22.1 19.\n",
      " 32.7 31.2 17.2 16.8 10.2 10.4 10.9 11.3 12.3  8.8  7.2 10.5  7.4 11.5\n",
      " 15.1  9.7 12.5  8.5  5.   6.3  5.6 12.1  8.3 11.9 17.9 16.3  7.   7.5\n",
      "  8.4 16.7 14.2 11.7 11.   9.5 14.1  9.6  8.7 12.8 10.8 14.9 12.6 13.\n",
      " 16.4 17.7 12.  21.8  8.1]\n"
     ]
    }
   ],
   "source": [
    "#노이즈 제거\n",
    "#다른 데이터와 비교했을 때, 다른 이상한 값(비어있지 않기 때문에 결측치가 아니다.) #컬럼마다 고유값\n",
    "\n",
    "for col in bostonDf.columns:\n",
    "    print(f'------{[col]}------')\n",
    "    print(bostonDf[col].unique())\n",
    "\n",
    "#모순값, 결측치"
   ]
  },
  {
   "cell_type": "code",
   "execution_count": 117,
   "metadata": {},
   "outputs": [
    {
     "data": {
      "text/plain": [
       "0      24.0\n",
       "1      21.6\n",
       "2      34.7\n",
       "3      33.4\n",
       "4      36.2\n",
       "       ... \n",
       "501    22.4\n",
       "502    20.6\n",
       "503    23.9\n",
       "504    22.0\n",
       "505    11.9\n",
       "Name: medv, Length: 506, dtype: float64"
      ]
     },
     "execution_count": 117,
     "metadata": {},
     "output_type": "execute_result"
    }
   ],
   "source": [
    "data = bostonDf[bostonDf.columns[:-1]]\n",
    "data\n",
    "target = bostonDf.medv\n",
    "target"
   ]
  },
  {
   "cell_type": "code",
   "execution_count": 118,
   "metadata": {},
   "outputs": [],
   "source": [
    "#학습용 데이터랑 테스트용 데이터\n",
    "\n",
    "from sklearn.model_selection import train_test_split\n",
    "\n",
    "X_train, X_test, Y_train, Y_test = train_test_split(data,target) \n"
   ]
  },
  {
   "cell_type": "code",
   "execution_count": 119,
   "metadata": {},
   "outputs": [
    {
     "data": {
      "text/plain": [
       "(379, 379, 127, 127)"
      ]
     },
     "execution_count": 119,
     "metadata": {},
     "output_type": "execute_result"
    }
   ],
   "source": [
    "len(X_train),len(Y_train),len(X_test),len(Y_test)"
   ]
  },
  {
   "cell_type": "code",
   "execution_count": null,
   "metadata": {},
   "outputs": [],
   "source": [
    "#4 학습진행\n",
    "#학습 모델 생성 <- 학습용 데이터\n",
    "#학습에 대한 평가\n",
    "#모델 평가, 예측과 정답"
   ]
  },
  {
   "cell_type": "code",
   "execution_count": 120,
   "metadata": {},
   "outputs": [],
   "source": [
    "from sklearn.linear_model import LinearRegression"
   ]
  },
  {
   "cell_type": "code",
   "execution_count": 121,
   "metadata": {},
   "outputs": [],
   "source": [
    "model = LinearRegression()"
   ]
  },
  {
   "cell_type": "code",
   "execution_count": 122,
   "metadata": {},
   "outputs": [
    {
     "data": {
      "text/plain": [
       "LinearRegression()"
      ]
     },
     "execution_count": 122,
     "metadata": {},
     "output_type": "execute_result"
    }
   ],
   "source": [
    "model.fit(X_train,Y_train)"
   ]
  },
  {
   "cell_type": "code",
   "execution_count": 82,
   "metadata": {},
   "outputs": [
    {
     "data": {
      "text/plain": [
       "(array([-9.62165640e-02,  3.24151597e-02,  5.09463989e-02,  3.70085363e+00,\n",
       "        -1.84978074e+01,  5.55550317e+00, -7.91928660e-03, -1.21058302e+00,\n",
       "         2.48144259e-01, -1.14101459e-02, -8.56819319e-01,  8.45525779e-03,\n",
       "        -3.89212166e-01]),\n",
       " 22.00004943654313)"
      ]
     },
     "execution_count": 82,
     "metadata": {},
     "output_type": "execute_result"
    }
   ],
   "source": [
    "model.coef_ , model.intercept_ #집 가격이 범죄율 * "
   ]
  },
  {
   "cell_type": "code",
   "execution_count": null,
   "metadata": {},
   "outputs": [],
   "source": []
  },
  {
   "cell_type": "code",
   "execution_count": 128,
   "metadata": {},
   "outputs": [],
   "source": [
    "#평가\n",
    "#예측값을 뽑아서 실제값을 한다.,\n",
    "from sklearn.metrics import accuracy_score, mean_absolute_error,r2_score,mean_squared_error,mean_squared_log_error\n",
    "\n",
    "# mean_absolute_error 오차 #실제값과 오차값을 지운차이\n",
    "# r2_score \n",
    "\n",
    "y_pre = model.predict(X_test)\n"
   ]
  },
  {
   "cell_type": "code",
   "execution_count": 129,
   "metadata": {},
   "outputs": [
    {
     "data": {
      "text/plain": [
       "2.89"
      ]
     },
     "execution_count": 129,
     "metadata": {},
     "output_type": "execute_result"
    }
   ],
   "source": [
    "round(mean_absolute_error(Y_test,y_pre),2)"
   ]
  },
  {
   "cell_type": "code",
   "execution_count": 130,
   "metadata": {},
   "outputs": [
    {
     "data": {
      "text/plain": [
       "14.78"
      ]
     },
     "execution_count": 130,
     "metadata": {},
     "output_type": "execute_result"
    }
   ],
   "source": [
    "round(mean_squared_error(Y_test,y_pre),2) #제곱을 했따 . "
   ]
  },
  {
   "cell_type": "code",
   "execution_count": 131,
   "metadata": {},
   "outputs": [
    {
     "data": {
      "text/plain": [
       "0.69"
      ]
     },
     "execution_count": 131,
     "metadata": {},
     "output_type": "execute_result"
    }
   ],
   "source": [
    "#모델의 예측성능 => R2\n",
    "\n",
    "round(r2_score(Y_test,y_pre),2)"
   ]
  },
  {
   "cell_type": "code",
   "execution_count": 99,
   "metadata": {},
   "outputs": [],
   "source": [
    "#데이터만 넘겨주면, 성능 평가하는 함수\n",
    "\n",
    "def getEvaluate(Y_test,y_pre):\n",
    "    mae = round(mean_absolute_error(Y_test,y_pre),2)\n",
    "    mse = round(mean_squared_error(Y_test,y_pre),2) \n",
    "    msl = round(mean_squared_log_error(Y_test,y_pre),2) \n",
    "    r2 = round(r2_score(Y_test,y_pre),2)\n",
    "    \n",
    "    return mae,mse,msl,r2"
   ]
  },
  {
   "cell_type": "code",
   "execution_count": 109,
   "metadata": {},
   "outputs": [
    {
     "ename": "ValueError",
     "evalue": "Mean Squared Logarithmic Error cannot be used when targets contain negative values.",
     "output_type": "error",
     "traceback": [
      "\u001b[1;31m---------------------------------------------------------------------------\u001b[0m",
      "\u001b[1;31mValueError\u001b[0m                                Traceback (most recent call last)",
      "\u001b[1;32m~\\AppData\\Local\\Temp\\ipykernel_6948\\771670773.py\u001b[0m in \u001b[0;36m<module>\u001b[1;34m\u001b[0m\n\u001b[1;32m----> 1\u001b[1;33m \u001b[0mgetEvaluate\u001b[0m\u001b[1;33m(\u001b[0m\u001b[0mY_test\u001b[0m\u001b[1;33m,\u001b[0m\u001b[0my_pre\u001b[0m\u001b[1;33m)\u001b[0m\u001b[1;33m\u001b[0m\u001b[1;33m\u001b[0m\u001b[0m\n\u001b[0m",
      "\u001b[1;32m~\\AppData\\Local\\Temp\\ipykernel_6948\\2599929276.py\u001b[0m in \u001b[0;36mgetEvaluate\u001b[1;34m(Y_test, y_pre)\u001b[0m\n\u001b[0;32m      4\u001b[0m     \u001b[0mmae\u001b[0m \u001b[1;33m=\u001b[0m \u001b[0mround\u001b[0m\u001b[1;33m(\u001b[0m\u001b[0mmean_absolute_error\u001b[0m\u001b[1;33m(\u001b[0m\u001b[0mY_test\u001b[0m\u001b[1;33m,\u001b[0m\u001b[0my_pre\u001b[0m\u001b[1;33m)\u001b[0m\u001b[1;33m,\u001b[0m\u001b[1;36m2\u001b[0m\u001b[1;33m)\u001b[0m\u001b[1;33m\u001b[0m\u001b[1;33m\u001b[0m\u001b[0m\n\u001b[0;32m      5\u001b[0m     \u001b[0mmse\u001b[0m \u001b[1;33m=\u001b[0m \u001b[0mround\u001b[0m\u001b[1;33m(\u001b[0m\u001b[0mmean_squared_error\u001b[0m\u001b[1;33m(\u001b[0m\u001b[0mY_test\u001b[0m\u001b[1;33m,\u001b[0m\u001b[0my_pre\u001b[0m\u001b[1;33m)\u001b[0m\u001b[1;33m,\u001b[0m\u001b[1;36m2\u001b[0m\u001b[1;33m)\u001b[0m\u001b[1;33m\u001b[0m\u001b[1;33m\u001b[0m\u001b[0m\n\u001b[1;32m----> 6\u001b[1;33m     \u001b[0mmsl\u001b[0m \u001b[1;33m=\u001b[0m \u001b[0mround\u001b[0m\u001b[1;33m(\u001b[0m\u001b[0mmean_squared_log_error\u001b[0m\u001b[1;33m(\u001b[0m\u001b[0mY_test\u001b[0m\u001b[1;33m,\u001b[0m\u001b[0my_pre\u001b[0m\u001b[1;33m)\u001b[0m\u001b[1;33m,\u001b[0m\u001b[1;36m2\u001b[0m\u001b[1;33m)\u001b[0m\u001b[1;33m\u001b[0m\u001b[1;33m\u001b[0m\u001b[0m\n\u001b[0m\u001b[0;32m      7\u001b[0m     \u001b[0mr2\u001b[0m \u001b[1;33m=\u001b[0m \u001b[0mround\u001b[0m\u001b[1;33m(\u001b[0m\u001b[0mr2_score\u001b[0m\u001b[1;33m(\u001b[0m\u001b[0mY_test\u001b[0m\u001b[1;33m,\u001b[0m\u001b[0my_pre\u001b[0m\u001b[1;33m)\u001b[0m\u001b[1;33m,\u001b[0m\u001b[1;36m2\u001b[0m\u001b[1;33m)\u001b[0m\u001b[1;33m\u001b[0m\u001b[1;33m\u001b[0m\u001b[0m\n\u001b[0;32m      8\u001b[0m     \u001b[1;32mreturn\u001b[0m \u001b[0mmae\u001b[0m\u001b[1;33m,\u001b[0m\u001b[0mmse\u001b[0m\u001b[1;33m,\u001b[0m\u001b[0mmsl\u001b[0m\u001b[1;33m,\u001b[0m\u001b[0mr2\u001b[0m\u001b[1;33m\u001b[0m\u001b[1;33m\u001b[0m\u001b[0m\n",
      "\u001b[1;32mc:\\Users\\seo\\anaconda3\\lib\\site-packages\\sklearn\\metrics\\_regression.py\u001b[0m in \u001b[0;36mmean_squared_log_error\u001b[1;34m(y_true, y_pred, sample_weight, multioutput, squared)\u001b[0m\n\u001b[0;32m    519\u001b[0m \u001b[1;33m\u001b[0m\u001b[0m\n\u001b[0;32m    520\u001b[0m     \u001b[1;32mif\u001b[0m \u001b[1;33m(\u001b[0m\u001b[0my_true\u001b[0m \u001b[1;33m<\u001b[0m \u001b[1;36m0\u001b[0m\u001b[1;33m)\u001b[0m\u001b[1;33m.\u001b[0m\u001b[0many\u001b[0m\u001b[1;33m(\u001b[0m\u001b[1;33m)\u001b[0m \u001b[1;32mor\u001b[0m \u001b[1;33m(\u001b[0m\u001b[0my_pred\u001b[0m \u001b[1;33m<\u001b[0m \u001b[1;36m0\u001b[0m\u001b[1;33m)\u001b[0m\u001b[1;33m.\u001b[0m\u001b[0many\u001b[0m\u001b[1;33m(\u001b[0m\u001b[1;33m)\u001b[0m\u001b[1;33m:\u001b[0m\u001b[1;33m\u001b[0m\u001b[1;33m\u001b[0m\u001b[0m\n\u001b[1;32m--> 521\u001b[1;33m         raise ValueError(\n\u001b[0m\u001b[0;32m    522\u001b[0m             \u001b[1;34m\"Mean Squared Logarithmic Error cannot be used when \"\u001b[0m\u001b[1;33m\u001b[0m\u001b[1;33m\u001b[0m\u001b[0m\n\u001b[0;32m    523\u001b[0m             \u001b[1;34m\"targets contain negative values.\"\u001b[0m\u001b[1;33m\u001b[0m\u001b[1;33m\u001b[0m\u001b[0m\n",
      "\u001b[1;31mValueError\u001b[0m: Mean Squared Logarithmic Error cannot be used when targets contain negative values."
     ]
    }
   ],
   "source": [
    "getEvaluate(Y_test,y_pre)"
   ]
  },
  {
   "cell_type": "code",
   "execution_count": 127,
   "metadata": {},
   "outputs": [],
   "source": [
    "#성능이 좋지 않은  모델을 개선하기\n",
    "# 1) 데이터 수 확인 300개 ! 너무 적다.=> 늘려서 쓸 수 있는 방법을 해야한다. => 교차검증 -=> croess_val_score(), cross_validate()\n",
    "# 2) 데이터 전처리는 문제가 없는가? => 정규분포, 선형, 수치 피처 정규화\n",
    "# 3) 모델은 괜찮은가? -> 다른 선형 모델은?\n",
    "\n",
    "X_train, X_test, Y_train, Y_test = train_test_split(data,target,random_state=150) "
   ]
  },
  {
   "cell_type": "code",
   "execution_count": 133,
   "metadata": {},
   "outputs": [
    {
     "name": "stdout",
     "output_type": "stream",
     "text": [
      "[-23.21 -30.29 -13.87 -28.22 -35.45]\n",
      "[4.82 5.5  3.72 5.31 5.95]\n",
      "5.0\n"
     ]
    }
   ],
   "source": [
    "# 교차검증\n",
    "from sklearn.model_selection import cross_val_score\n",
    "\n",
    "model2 = LinearRegression()\n",
    "mse = cross_val_score(model2,X_train,Y_train,scoring=\"neg_mean_squared_error\",cv=5) #\n",
    "# mse = cross_val_score(model2,X_train,Y_train,scoring=[\"r2\",\"neg_mean_squared_error\"],cv=5) #\n",
    "rmse_score = np.sqrt(-1*mse)\n",
    "avg_rmse = np.mean(rmse_score)\n",
    "\n",
    "#결과값\n",
    "print(np.round(mse,2))\n",
    "print(np.round(rmse_score,2))\n",
    "print(np.round(avg_rmse))\n",
    "\n",
    "# https://scikit-learn.org/stable/modules/model_evaluation.html\n",
    "\n",
    "# 내가 원하는 것을 넣을 수 이ㅐㅆ다. 리스트로 만들어서.,\n",
    "# scoringstr or callable, default=None\n",
    "# A str (see model evaluation documentation) or a scorer callable object / function with signature scorer(estimator, X, y) which should return only a single value."
   ]
  },
  {
   "cell_type": "code",
   "execution_count": 146,
   "metadata": {},
   "outputs": [],
   "source": [
    "# cross_val_score(model2,X_train,Y_train,scoring=[\"r2\",\"neg_mean_squared_error\"]) #\n",
    "from sklearn.model_selection import cross_val_score, cross_validate\n",
    "\n",
    "t1 = cross_validate(model2,X_train,Y_train,scoring='neg_mean_squared_error',cv=10,return_estimator=True) # 점점 줄어든다.\n",
    "\n"
   ]
  },
  {
   "cell_type": "code",
   "execution_count": 148,
   "metadata": {},
   "outputs": [
    {
     "data": {
      "text/plain": [
       "{'fit_time': array([0.00199318, 0.00199294, 0.00199389, 0.00322366, 0.00199318,\n",
       "        0.00099683, 0.00242376, 0.0019958 , 0.00178051, 0.00099707]),\n",
       " 'score_time': array([0.0009973 , 0.00099826, 0.00199318, 0.00099707, 0.00099659,\n",
       "        0.00106764, 0.00215816, 0.00099659, 0.00099659, 0.00099635]),\n",
       " 'estimator': [LinearRegression(),\n",
       "  LinearRegression(),\n",
       "  LinearRegression(),\n",
       "  LinearRegression(),\n",
       "  LinearRegression(),\n",
       "  LinearRegression(),\n",
       "  LinearRegression(),\n",
       "  LinearRegression(),\n",
       "  LinearRegression(),\n",
       "  LinearRegression()],\n",
       " 'test_score': array([-23.209529  , -24.51732927, -34.65448272, -31.92158235,\n",
       "        -12.13420837, -15.81789152, -39.15932581, -20.38823735,\n",
       "        -36.44809914, -33.78856111])}"
      ]
     },
     "execution_count": 148,
     "metadata": {},
     "output_type": "execute_result"
    }
   ],
   "source": [
    "t1 #제일 마지믹에 있는것을 가지고 와라! #어떻게쓰는건데?"
   ]
  },
  {
   "cell_type": "code",
   "execution_count": null,
   "metadata": {},
   "outputs": [],
   "source": []
  }
 ],
 "metadata": {
  "kernelspec": {
   "display_name": "Python 3",
   "language": "python",
   "name": "python3"
  },
  "language_info": {
   "codemirror_mode": {
    "name": "ipython",
    "version": 3
   },
   "file_extension": ".py",
   "mimetype": "text/x-python",
   "name": "python",
   "nbconvert_exporter": "python",
   "pygments_lexer": "ipython3",
   "version": "3.9.15"
  },
  "orig_nbformat": 4,
  "vscode": {
   "interpreter": {
    "hash": "44bcf38956e9d85bb57860a21dfaf114f8851e2a2f12f736872e3b395649ab5f"
   }
  }
 },
 "nbformat": 4,
 "nbformat_minor": 2
}
