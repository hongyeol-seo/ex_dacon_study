{
 "cells": [
  {
   "cell_type": "code",
   "execution_count": null,
   "metadata": {},
   "outputs": [],
   "source": [
    "# duplicate 중복제거\n",
    "# 단위 환산\n",
    "# 자료형 변환\n"
   ]
  },
  {
   "attachments": {},
   "cell_type": "markdown",
   "metadata": {},
   "source": [
    "<span style=color:red>\n",
    "    <h2>데이터 표준화</h2>\n",
    "    </span>"
   ]
  },
  {
   "cell_type": "code",
   "execution_count": null,
   "metadata": {},
   "outputs": [],
   "source": [
    "# 결측치 체크 및 처리\n",
    "# 중복 체크 및 처리\n",
    "# 이상치 체크 및 처리\n",
    "# 데이터 타입 정리 (실제 2.30 string => float 맞춰주기)\n",
    "# 데이터 타입 변환 => 실제로 들어있는 값은 나이  32, => 범주형으로 바꾸고 싶다. 유아, 아동, 청소년으로 바꾸고 싶다. \n",
    "# 데이터 인코딩 처리 => (문자형 데이터 -> 숫자형\n",
    "# 데이터 스케일링(수치 데이터 -> ) 어떤 모델들은 스케일링을 하지 않더라도 상관없다. ex) 이진트리 키가 180보다 큽니까? "
   ]
  },
  {
   "cell_type": "code",
   "execution_count": 8,
   "metadata": {},
   "outputs": [],
   "source": [
    "import pandas as pd\n",
    "from numpy import nan\n",
    "\n",
    "name = [\"홍길동\",\"이나영\",\"마징가\",\"변사또\",\"원더우먼\",\"현빈\",\"원빈\",\"박보검\",\"김상민\",\"김한림\"]\n",
    "age = [0,4,21,20,38,100,40,61,11,23]\n",
    "gender = [\"M\",\"F\",\"M\",\"M\",\"F\",\"M\",\"M\",\"M\",\"M\",\"F\"]"
   ]
  },
  {
   "cell_type": "code",
   "execution_count": 9,
   "metadata": {},
   "outputs": [
    {
     "data": {
      "text/html": [
       "<div>\n",
       "<style scoped>\n",
       "    .dataframe tbody tr th:only-of-type {\n",
       "        vertical-align: middle;\n",
       "    }\n",
       "\n",
       "    .dataframe tbody tr th {\n",
       "        vertical-align: top;\n",
       "    }\n",
       "\n",
       "    .dataframe thead th {\n",
       "        text-align: right;\n",
       "    }\n",
       "</style>\n",
       "<table border=\"1\" class=\"dataframe\">\n",
       "  <thead>\n",
       "    <tr style=\"text-align: right;\">\n",
       "      <th></th>\n",
       "      <th>name</th>\n",
       "      <th>age</th>\n",
       "      <th>gender</th>\n",
       "    </tr>\n",
       "  </thead>\n",
       "  <tbody>\n",
       "    <tr>\n",
       "      <th>0</th>\n",
       "      <td>홍길동</td>\n",
       "      <td>0</td>\n",
       "      <td>M</td>\n",
       "    </tr>\n",
       "    <tr>\n",
       "      <th>1</th>\n",
       "      <td>이나영</td>\n",
       "      <td>4</td>\n",
       "      <td>F</td>\n",
       "    </tr>\n",
       "    <tr>\n",
       "      <th>2</th>\n",
       "      <td>마징가</td>\n",
       "      <td>21</td>\n",
       "      <td>M</td>\n",
       "    </tr>\n",
       "    <tr>\n",
       "      <th>3</th>\n",
       "      <td>변사또</td>\n",
       "      <td>20</td>\n",
       "      <td>M</td>\n",
       "    </tr>\n",
       "    <tr>\n",
       "      <th>4</th>\n",
       "      <td>원더우먼</td>\n",
       "      <td>38</td>\n",
       "      <td>F</td>\n",
       "    </tr>\n",
       "  </tbody>\n",
       "</table>\n",
       "</div>"
      ],
      "text/plain": [
       "   name  age gender\n",
       "0   홍길동    0      M\n",
       "1   이나영    4      F\n",
       "2   마징가   21      M\n",
       "3   변사또   20      M\n",
       "4  원더우먼   38      F"
      ]
     },
     "execution_count": 9,
     "metadata": {},
     "output_type": "execute_result"
    }
   ],
   "source": [
    "personDF = pd.DataFrame({'name':name,\"age\":age,\"gender\":gender})\n",
    "personDF.head(5)"
   ]
  },
  {
   "cell_type": "code",
   "execution_count": 10,
   "metadata": {},
   "outputs": [
    {
     "data": {
      "text/plain": [
       "name      object\n",
       "age        int64\n",
       "gender    object\n",
       "dtype: object"
      ]
     },
     "execution_count": 10,
     "metadata": {},
     "output_type": "execute_result"
    }
   ],
   "source": [
    "personDF.dtypes"
   ]
  },
  {
   "cell_type": "code",
   "execution_count": 11,
   "metadata": {},
   "outputs": [
    {
     "data": {
      "text/plain": [
       "0    M\n",
       "1    F\n",
       "2    M\n",
       "3    M\n",
       "4    F\n",
       "5    M\n",
       "6    M\n",
       "7    M\n",
       "8    M\n",
       "9    F\n",
       "Name: gender, dtype: category\n",
       "Categories (2, object): ['F', 'M']"
      ]
     },
     "execution_count": 11,
     "metadata": {},
     "output_type": "execute_result"
    }
   ],
   "source": [
    "personDF[\"gender\"].astype('category') #inplace가 없음\n",
    "# personDF.gender.astype('category') #inplace가 없음 기본 object 타입을 => 카테고리타입으로 변경\n"
   ]
  },
  {
   "cell_type": "code",
   "execution_count": 25,
   "metadata": {},
   "outputs": [],
   "source": [
    "# 연속형 데이터 -> 범주형 데이터로 변환\n",
    "# 나이를 범주형으로 바꾸면 대량의 범주가 생김 종류가 너무 많으니까 한 그룹으로 쓰려고 하는 것이니까.\n",
    "# 범위 : 구간 \n",
    "# cut(데이터, 구간정보, 구간라벨) => 범위 즉 구간 설정 => 범주로 변경\n",
    "bins = [0,20,40,60,80,100]\n",
    "\n",
    "# ret1,bins = pd.cut(personDF.age, bins=5,labels=['아동기',\"청년\",\"중년\",\"장년\",\"노년\"],right=False, retbins=True) #retbins 구간 \n",
    "\n",
    "ret1,bins = pd.cut(personDF.age, bins=bins,labels=['아동기',\"청년\",\"중년\",\"장년\",\"노년\"],right=False, retbins=True) #retbins 구간 \n"
   ]
  },
  {
   "cell_type": "code",
   "execution_count": 16,
   "metadata": {},
   "outputs": [
    {
     "data": {
      "text/plain": [
       "0    아동기\n",
       "1    아동기\n",
       "2     청년\n",
       "3    아동기\n",
       "4     청년\n",
       "5     노년\n",
       "6     청년\n",
       "7     장년\n",
       "8    아동기\n",
       "9     청년\n",
       "Name: age, dtype: category\n",
       "Categories (5, object): ['아동기' < '청년' < '중년' < '장년' < '노년']"
      ]
     },
     "execution_count": 16,
     "metadata": {},
     "output_type": "execute_result"
    }
   ],
   "source": [
    "ret1"
   ]
  },
  {
   "cell_type": "code",
   "execution_count": 20,
   "metadata": {},
   "outputs": [
    {
     "data": {
      "text/plain": [
       "(0    아동기\n",
       " 1    아동기\n",
       " 2     청년\n",
       " 3     청년\n",
       " 4     청년\n",
       " 5     노년\n",
       " 6     중년\n",
       " 7     장년\n",
       " 8    아동기\n",
       " 9     청년\n",
       " Name: age, dtype: category\n",
       " Categories (5, object): ['아동기' < '청년' < '중년' < '장년' < '노년'],\n",
       " array([  0. ,  20. ,  40. ,  60. ,  80. , 100.1]))"
      ]
     },
     "execution_count": 20,
     "metadata": {},
     "output_type": "execute_result"
    }
   ],
   "source": [
    "ret1"
   ]
  },
  {
   "cell_type": "code",
   "execution_count": 24,
   "metadata": {},
   "outputs": [
    {
     "data": {
      "text/plain": [
       "array([  0. ,  20. ,  40. ,  60. ,  80. , 100.1])"
      ]
     },
     "execution_count": 24,
     "metadata": {},
     "output_type": "execute_result"
    }
   ],
   "source": [
    "bins #, 100.1 right=False 포함안시켜야한다. 그래야 101이 안들어간다."
   ]
  },
  {
   "cell_type": "code",
   "execution_count": 26,
   "metadata": {},
   "outputs": [
    {
     "data": {
      "text/plain": [
       "0    아동기\n",
       "1    아동기\n",
       "2     청년\n",
       "3     청년\n",
       "4     청년\n",
       "5    NaN\n",
       "6     중년\n",
       "7     장년\n",
       "8    아동기\n",
       "9     청년\n",
       "Name: age, dtype: category\n",
       "Categories (5, object): ['아동기' < '청년' < '중년' < '장년' < '노년']"
      ]
     },
     "execution_count": 26,
     "metadata": {},
     "output_type": "execute_result"
    }
   ],
   "source": [
    "ret1\n",
    "\n",
    "# ret1,bins = pd.cut(personDF.age, bins=bins,labels=['아동기',\"청년\",\"중년\",\"장년\",\"노년\"],right=False, retbins=True) #retbins 구간 \n",
    "# NaN"
   ]
  },
  {
   "cell_type": "code",
   "execution_count": 27,
   "metadata": {},
   "outputs": [
    {
     "data": {
      "text/plain": [
       "0    NaN\n",
       "1    아동기\n",
       "2     청년\n",
       "3    아동기\n",
       "4     청년\n",
       "5     노년\n",
       "6     청년\n",
       "7     장년\n",
       "8    아동기\n",
       "9     청년\n",
       "Name: age, dtype: category\n",
       "Categories (5, object): ['아동기' < '청년' < '중년' < '장년' < '노년']"
      ]
     },
     "execution_count": 27,
     "metadata": {},
     "output_type": "execute_result"
    }
   ],
   "source": [
    "ret1,bins = pd.cut(personDF.age, bins=bins,labels=['아동기',\"청년\",\"중년\",\"장년\",\"노년\"],right=True, retbins=True) #retbins 구간 \n",
    "ret1\n",
    "\n",
    "#right=True 이면 왼쪽을 포함안시킴 그렇게 하니까 0은 사라짐"
   ]
  },
  {
   "cell_type": "code",
   "execution_count": 28,
   "metadata": {},
   "outputs": [
    {
     "data": {
      "text/plain": [
       "0    아동기\n",
       "1    아동기\n",
       "2     청년\n",
       "3    아동기\n",
       "4     청년\n",
       "5     노년\n",
       "6     청년\n",
       "7     장년\n",
       "8    아동기\n",
       "9     청년\n",
       "Name: age, dtype: category\n",
       "Categories (5, object): ['아동기' < '청년' < '중년' < '장년' < '노년']"
      ]
     },
     "execution_count": 28,
     "metadata": {},
     "output_type": "execute_result"
    }
   ],
   "source": [
    "ret1,bins = pd.cut(personDF.age, bins=bins,labels=['아동기',\"청년\",\"중년\",\"장년\",\"노년\"],right=True, retbins=True,include_lowest=True) #retbins 구간 \n",
    "ret1 #include_lowest=True 제일 작은 놈만 포함\n"
   ]
  },
  {
   "cell_type": "code",
   "execution_count": 30,
   "metadata": {},
   "outputs": [],
   "source": [
    "personDF ['cate_age'] = ret1"
   ]
  },
  {
   "cell_type": "code",
   "execution_count": 32,
   "metadata": {},
   "outputs": [
    {
     "data": {
      "text/html": [
       "<div>\n",
       "<style scoped>\n",
       "    .dataframe tbody tr th:only-of-type {\n",
       "        vertical-align: middle;\n",
       "    }\n",
       "\n",
       "    .dataframe tbody tr th {\n",
       "        vertical-align: top;\n",
       "    }\n",
       "\n",
       "    .dataframe thead th {\n",
       "        text-align: right;\n",
       "    }\n",
       "</style>\n",
       "<table border=\"1\" class=\"dataframe\">\n",
       "  <thead>\n",
       "    <tr style=\"text-align: right;\">\n",
       "      <th></th>\n",
       "      <th>name</th>\n",
       "      <th>age</th>\n",
       "      <th>gender</th>\n",
       "      <th>cate_age</th>\n",
       "    </tr>\n",
       "  </thead>\n",
       "  <tbody>\n",
       "    <tr>\n",
       "      <th>0</th>\n",
       "      <td>홍길동</td>\n",
       "      <td>0</td>\n",
       "      <td>M</td>\n",
       "      <td>아동기</td>\n",
       "    </tr>\n",
       "    <tr>\n",
       "      <th>1</th>\n",
       "      <td>이나영</td>\n",
       "      <td>4</td>\n",
       "      <td>F</td>\n",
       "      <td>아동기</td>\n",
       "    </tr>\n",
       "    <tr>\n",
       "      <th>2</th>\n",
       "      <td>마징가</td>\n",
       "      <td>21</td>\n",
       "      <td>M</td>\n",
       "      <td>청년</td>\n",
       "    </tr>\n",
       "    <tr>\n",
       "      <th>3</th>\n",
       "      <td>변사또</td>\n",
       "      <td>20</td>\n",
       "      <td>M</td>\n",
       "      <td>아동기</td>\n",
       "    </tr>\n",
       "    <tr>\n",
       "      <th>4</th>\n",
       "      <td>원더우먼</td>\n",
       "      <td>38</td>\n",
       "      <td>F</td>\n",
       "      <td>청년</td>\n",
       "    </tr>\n",
       "  </tbody>\n",
       "</table>\n",
       "</div>"
      ],
      "text/plain": [
       "   name  age gender cate_age\n",
       "0   홍길동    0      M      아동기\n",
       "1   이나영    4      F      아동기\n",
       "2   마징가   21      M       청년\n",
       "3   변사또   20      M      아동기\n",
       "4  원더우먼   38      F       청년"
      ]
     },
     "execution_count": 32,
     "metadata": {},
     "output_type": "execute_result"
    }
   ],
   "source": [
    "personDF.head()"
   ]
  },
  {
   "cell_type": "code",
   "execution_count": null,
   "metadata": {},
   "outputs": [],
   "source": [
    "from sklearn.preprocessing import LabelEncoder, OneHotEncoder, OrdinalEncoder"
   ]
  },
  {
   "cell_type": "code",
   "execution_count": null,
   "metadata": {},
   "outputs": [],
   "source": [
    "#인코더 객체 생성"
   ]
  },
  {
   "cell_type": "code",
   "execution_count": 33,
   "metadata": {},
   "outputs": [
    {
     "data": {
      "text/plain": [
       "array(['gender_Female', 'gender_Male', 'group_1', 'group_2', 'group_3'],\n",
       "      dtype=object)"
      ]
     },
     "execution_count": 33,
     "metadata": {},
     "output_type": "execute_result"
    }
   ],
   "source": [
    "from sklearn.preprocessing import OneHotEncoder\n",
    "enc = OneHotEncoder(handle_unknown='ignore')\n",
    "X = [['Male', 1], ['Female', 3], ['Female', 2]]\n",
    "enc.fit(X)\n",
    "OneHotEncoder(handle_unknown='ignore')\n",
    "enc.categories_\n",
    "\n",
    "#[array(['Female', 'Male'], dtype=object), array([1, 2, 3], dtype=object)]\n",
    "enc.transform([['Female', 1], ['Male', 4]]).toarray()\n",
    "# array([[1., 0., 1., 0., 0.],\n",
    "#        [0., 1., 0., 0., 0.]])\n",
    "enc.inverse_transform([[0, 1, 1, 0, 0], [0, 0, 0, 1, 0]])\n",
    "# array([['Male', 1],\n",
    "#        [None, 2]], dtype=object)\n",
    "enc.get_feature_names_out(['gender', 'group'])\n",
    "# array(['gender_Female', 'gender_Male', 'group_1', 'group_2', 'group_3'], ...)"
   ]
  },
  {
   "cell_type": "code",
   "execution_count": 34,
   "metadata": {},
   "outputs": [],
   "source": [
    "from sklearn.preprocessing import OneHotEncoder\n",
    "\n",
    "#희소행렬\n",
    "\n",
    "                                                                                                                                                            "
   ]
  }
 ],
 "metadata": {
  "kernelspec": {
   "display_name": "base",
   "language": "python",
   "name": "python3"
  },
  "language_info": {
   "codemirror_mode": {
    "name": "ipython",
    "version": 3
   },
   "file_extension": ".py",
   "mimetype": "text/x-python",
   "name": "python",
   "nbconvert_exporter": "python",
   "pygments_lexer": "ipython3",
   "version": "3.9.15"
  },
  "orig_nbformat": 4
 },
 "nbformat": 4,
 "nbformat_minor": 2
}
