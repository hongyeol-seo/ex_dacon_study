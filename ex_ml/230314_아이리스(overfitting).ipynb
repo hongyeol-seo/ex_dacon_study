from sklearn.tree import DecisionTreeClassifier
from sklearn.model_selection import train_test_split
from sklearn.datasets import load_iris

from sklearn.tree import plot_tree, export_graphviz,export_text

import pandas as pd
import matplotlib.pyplot as plt