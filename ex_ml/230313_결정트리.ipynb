{
 "cells": [
  {
   "attachments": {},
   "cell_type": "markdown",
   "metadata": {},
   "source": [
    "---\n",
    "의사결정트리(Decsion Tree)\n",
    "전처리에 영향을 많이 받지 않음"
   ]
  },
  {
   "attachments": {},
   "cell_type": "markdown",
   "metadata": {},
   "source": [
    "#시작 : 뿌리노드 > 중간노드 > 잎노드\n",
    "#똑같은 상황이지만, 상황에 따라서 어떤 특성을 가지고 바로 나눌것인가? \n",
    "#분할 속성(splitting attribute)를 선택\n",
    "#속성값에 따라 서브트리 \n",
    "# 즉!!! 분할 속성을 어떻게 나눌 것인가? 그 기준이 중요하다!\n",
    "\n",
    "#분순도 : 엔트로피 / 지니계수\n",
    "#정보이득 : 점이 있느냐없냐\n",
    "\n",
    "#값이 제일 좋은것! 그것을 찾아내는 것이! \n",
    "#아웃라이어 #도트? 이게 무슨 뜻임? \n",
    "#지니계수로 할래? 엔트로피로 할래? 분할하려고하는 속성을....\n",
    "#어떤 속성을 가지고 분류를 할 때, 어떤 값을 기준으로 분류를 할 것인가?\n",
    "#과대적합이 되는 것을 방지하기위해서는 뎁스를 정해준다.\n",
    "\n",
    "#가지치기\n",
    "#min_sample_split 한 노드의 최소 노드 데이터수 : \n",
    "#max_depth : 최대 깊이 조정"
   ]
  }
 ],
 "metadata": {
  "language_info": {
   "name": "python"
  },
  "orig_nbformat": 4
 },
 "nbformat": 4,
 "nbformat_minor": 2
}
