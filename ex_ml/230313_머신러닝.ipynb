{
 "cells": [
  {
   "attachments": {},
   "cell_type": "markdown",
   "metadata": {},
   "source": [
    "#편향 #예측값과 정답간의 관계(잔차)\n",
    "#분산 #예측값끼리의 관계\n",
    "#모델.score => R2값\n",
    "#메트릭스 => \n",
    "#과대적합(Overfitting)\n",
    "#데이터가 너무 많아서, 모델 지나치게 복잡\n",
    "#너무많은학습\n",
    "#최적적합\n",
    "#다양성을갖춘데이터\n",
    "#양질의많은데이터\n",
    "#규제를(Regulartization)통한 모델 복잡도 적정수준 설정 (릿지, 랏소)"
   ]
  },
  {
   "attachments": {},
   "cell_type": "markdown",
   "metadata": {},
   "source": [
    "---\n",
    "#모델복잡도\n",
    "#특성파라미터\n",
    "#하이퍼파라미터 개수 => 영향을 받는 애들이 많다\n",
    "#입력데이터셋\n",
    "#학습반복횟수\n",
    "#앙상블모델갯수\n",
    "#모델차수\n",
    "#Low bias / High Variance\n"
   ]
  },
  {
   "attachments": {},
   "cell_type": "markdown",
   "metadata": {},
   "source": [
    "#오캄의면도달\n",
    "#같은현상을 설명하는 두 개의 주장이 있다면 간단한 쪽을 선택해라\n",
    "#모델 자체가 복잡 -> 덜 복잡한 모델 사용\n",
    "#데이터 부족 => 등등등 "
   ]
  },
  {
   "attachments": {},
   "cell_type": "markdown",
   "metadata": {},
   "source": [
    "RSS 최소가 되도록하는 것 (Cost/Loss Function)\n",
    "#최적화\n",
    "손실함수값이 최소화 될 수 있도록 optimize\n",
    "=>경사하강법\n"
   ]
  },
  {
   "attachments": {},
   "cell_type": "markdown",
   "metadata": {},
   "source": [
    "Leaning Rate => 학습속도\n",
    "오버슈팅 : 학습속도가 너큰 경우\n",
    "#스몰 러닝 레이터 -> 학습 속도가 너무 낮아서 금방 끝나는 경우"
   ]
  },
  {
   "cell_type": "code",
   "execution_count": null,
   "metadata": {},
   "outputs": [],
   "source": []
  },
  {
   "cell_type": "code",
   "execution_count": null,
   "metadata": {},
   "outputs": [],
   "source": [
    "# 특성공학 => 차원축소\n",
    "#특싱생성 => 파생변수? "
   ]
  },
  {
   "cell_type": "code",
   "execution_count": 31,
   "metadata": {},
   "outputs": [],
   "source": [
    "import pandas as pd\n",
    "\n",
    "FILE = r'C:\\Users\\seo\\Downloads\\student_info.csv'\n",
    "df = pd.read_csv(FILE)"
   ]
  },
  {
   "cell_type": "code",
   "execution_count": 3,
   "metadata": {},
   "outputs": [
    {
     "name": "stdout",
     "output_type": "stream",
     "text": [
      "<class 'pandas.core.frame.DataFrame'>\n",
      "RangeIndex: 90 entries, 0 to 89\n",
      "Data columns (total 4 columns):\n",
      " #   Column     Non-Null Count  Dtype \n",
      "---  ------     --------------  ----- \n",
      " 0   no         90 non-null     int64 \n",
      " 1   gender     90 non-null     object\n",
      " 2   weight_kg  90 non-null     int64 \n",
      " 3   height_cm  90 non-null     int64 \n",
      "dtypes: int64(3), object(1)\n",
      "memory usage: 2.9+ KB\n"
     ]
    }
   ],
   "source": [
    "df.info()"
   ]
  },
  {
   "cell_type": "code",
   "execution_count": null,
   "metadata": {},
   "outputs": [],
   "source": [
    "#분류모델 종류 KNN NB SVM Decision Tree #Random Forest => +classifier / regressor\n",
    "#k최근접 모델\n",
    "# KNN 방식\n",
    "# p에 따라서 맨하탄방식, 유클리드 거리에 따라서 잰다 . \n",
    "# predict_proba(X)"
   ]
  },
  {
   "attachments": {},
   "cell_type": "markdown",
   "metadata": {},
   "source": [
    "---\n",
    "## 분류 ---------------------------\n",
    "- 가장 간단한 머신러닝 분류 학습 알고리즘\n",
    "- 모델 관련 패턴 식이 없음 -> 데이터마다 거리 계산을 한다. y = ax+b 이런 식이 없다\n",
    "- 하이퍼파라미터 -> k 최근접 이웃 데이터 수\n",
    "- 적용 학습 -> 회귀, 분류 모두 가능"
   ]
  },
  {
   "cell_type": "code",
   "execution_count": 17,
   "metadata": {},
   "outputs": [],
   "source": [
    "X = [[0], [1], [2], [3],[4]]\n",
    "y = [0, 0, 1, 1,1]"
   ]
  },
  {
   "cell_type": "code",
   "execution_count": 7,
   "metadata": {},
   "outputs": [],
   "source": [
    "from sklearn.neighbors import KNeighborsClassifier\n",
    "import matplotlib.pyplot as plt\n"
   ]
  },
  {
   "cell_type": "code",
   "execution_count": 18,
   "metadata": {},
   "outputs": [],
   "source": [
    "Knn = KNeighborsClassifier() # k=5가 기본값"
   ]
  },
  {
   "cell_type": "code",
   "execution_count": 19,
   "metadata": {},
   "outputs": [
    {
     "data": {
      "text/html": [
       "<style>#sk-container-id-2 {color: black;background-color: white;}#sk-container-id-2 pre{padding: 0;}#sk-container-id-2 div.sk-toggleable {background-color: white;}#sk-container-id-2 label.sk-toggleable__label {cursor: pointer;display: block;width: 100%;margin-bottom: 0;padding: 0.3em;box-sizing: border-box;text-align: center;}#sk-container-id-2 label.sk-toggleable__label-arrow:before {content: \"▸\";float: left;margin-right: 0.25em;color: #696969;}#sk-container-id-2 label.sk-toggleable__label-arrow:hover:before {color: black;}#sk-container-id-2 div.sk-estimator:hover label.sk-toggleable__label-arrow:before {color: black;}#sk-container-id-2 div.sk-toggleable__content {max-height: 0;max-width: 0;overflow: hidden;text-align: left;background-color: #f0f8ff;}#sk-container-id-2 div.sk-toggleable__content pre {margin: 0.2em;color: black;border-radius: 0.25em;background-color: #f0f8ff;}#sk-container-id-2 input.sk-toggleable__control:checked~div.sk-toggleable__content {max-height: 200px;max-width: 100%;overflow: auto;}#sk-container-id-2 input.sk-toggleable__control:checked~label.sk-toggleable__label-arrow:before {content: \"▾\";}#sk-container-id-2 div.sk-estimator input.sk-toggleable__control:checked~label.sk-toggleable__label {background-color: #d4ebff;}#sk-container-id-2 div.sk-label input.sk-toggleable__control:checked~label.sk-toggleable__label {background-color: #d4ebff;}#sk-container-id-2 input.sk-hidden--visually {border: 0;clip: rect(1px 1px 1px 1px);clip: rect(1px, 1px, 1px, 1px);height: 1px;margin: -1px;overflow: hidden;padding: 0;position: absolute;width: 1px;}#sk-container-id-2 div.sk-estimator {font-family: monospace;background-color: #f0f8ff;border: 1px dotted black;border-radius: 0.25em;box-sizing: border-box;margin-bottom: 0.5em;}#sk-container-id-2 div.sk-estimator:hover {background-color: #d4ebff;}#sk-container-id-2 div.sk-parallel-item::after {content: \"\";width: 100%;border-bottom: 1px solid gray;flex-grow: 1;}#sk-container-id-2 div.sk-label:hover label.sk-toggleable__label {background-color: #d4ebff;}#sk-container-id-2 div.sk-serial::before {content: \"\";position: absolute;border-left: 1px solid gray;box-sizing: border-box;top: 0;bottom: 0;left: 50%;z-index: 0;}#sk-container-id-2 div.sk-serial {display: flex;flex-direction: column;align-items: center;background-color: white;padding-right: 0.2em;padding-left: 0.2em;position: relative;}#sk-container-id-2 div.sk-item {position: relative;z-index: 1;}#sk-container-id-2 div.sk-parallel {display: flex;align-items: stretch;justify-content: center;background-color: white;position: relative;}#sk-container-id-2 div.sk-item::before, #sk-container-id-2 div.sk-parallel-item::before {content: \"\";position: absolute;border-left: 1px solid gray;box-sizing: border-box;top: 0;bottom: 0;left: 50%;z-index: -1;}#sk-container-id-2 div.sk-parallel-item {display: flex;flex-direction: column;z-index: 1;position: relative;background-color: white;}#sk-container-id-2 div.sk-parallel-item:first-child::after {align-self: flex-end;width: 50%;}#sk-container-id-2 div.sk-parallel-item:last-child::after {align-self: flex-start;width: 50%;}#sk-container-id-2 div.sk-parallel-item:only-child::after {width: 0;}#sk-container-id-2 div.sk-dashed-wrapped {border: 1px dashed gray;margin: 0 0.4em 0.5em 0.4em;box-sizing: border-box;padding-bottom: 0.4em;background-color: white;}#sk-container-id-2 div.sk-label label {font-family: monospace;font-weight: bold;display: inline-block;line-height: 1.2em;}#sk-container-id-2 div.sk-label-container {text-align: center;}#sk-container-id-2 div.sk-container {/* jupyter's `normalize.less` sets `[hidden] { display: none; }` but bootstrap.min.css set `[hidden] { display: none !important; }` so we also need the `!important` here to be able to override the default hidden behavior on the sphinx rendered scikit-learn.org. See: https://github.com/scikit-learn/scikit-learn/issues/21755 */display: inline-block !important;position: relative;}#sk-container-id-2 div.sk-text-repr-fallback {display: none;}</style><div id=\"sk-container-id-2\" class=\"sk-top-container\"><div class=\"sk-text-repr-fallback\"><pre>KNeighborsClassifier()</pre><b>In a Jupyter environment, please rerun this cell to show the HTML representation or trust the notebook. <br />On GitHub, the HTML representation is unable to render, please try loading this page with nbviewer.org.</b></div><div class=\"sk-container\" hidden><div class=\"sk-item\"><div class=\"sk-estimator sk-toggleable\"><input class=\"sk-toggleable__control sk-hidden--visually\" id=\"sk-estimator-id-2\" type=\"checkbox\" checked><label for=\"sk-estimator-id-2\" class=\"sk-toggleable__label sk-toggleable__label-arrow\">KNeighborsClassifier</label><div class=\"sk-toggleable__content\"><pre>KNeighborsClassifier()</pre></div></div></div></div></div>"
      ],
      "text/plain": [
       "KNeighborsClassifier()"
      ]
     },
     "execution_count": 19,
     "metadata": {},
     "output_type": "execute_result"
    }
   ],
   "source": [
    "Knn.fit(X,y)"
   ]
  },
  {
   "cell_type": "code",
   "execution_count": 20,
   "metadata": {},
   "outputs": [
    {
     "data": {
      "text/plain": [
       "array([0, 1])"
      ]
     },
     "execution_count": 20,
     "metadata": {},
     "output_type": "execute_result"
    }
   ],
   "source": [
    "Knn.classes_"
   ]
  },
  {
   "cell_type": "code",
   "execution_count": 11,
   "metadata": {},
   "outputs": [
    {
     "data": {
      "text/plain": [
       "5"
      ]
     },
     "execution_count": 11,
     "metadata": {},
     "output_type": "execute_result"
    }
   ],
   "source": [
    "Knn.n_neighbors"
   ]
  },
  {
   "cell_type": "code",
   "execution_count": 21,
   "metadata": {},
   "outputs": [
    {
     "data": {
      "text/plain": [
       "array([1, 1, 1, 1, 1])"
      ]
     },
     "execution_count": 21,
     "metadata": {},
     "output_type": "execute_result"
    }
   ],
   "source": [
    "Knn.predict(X)"
   ]
  },
  {
   "cell_type": "code",
   "execution_count": 22,
   "metadata": {},
   "outputs": [
    {
     "data": {
      "text/plain": [
       "array([1])"
      ]
     },
     "execution_count": 22,
     "metadata": {},
     "output_type": "execute_result"
    }
   ],
   "source": [
    "Knn.predict([[2.1]])"
   ]
  },
  {
   "cell_type": "code",
   "execution_count": 23,
   "metadata": {},
   "outputs": [
    {
     "data": {
      "text/plain": [
       "array([[0.4, 0.6]])"
      ]
     },
     "execution_count": 23,
     "metadata": {},
     "output_type": "execute_result"
    }
   ],
   "source": [
    "Knn.predict_proba([[2.1]])"
   ]
  },
  {
   "cell_type": "code",
   "execution_count": 24,
   "metadata": {},
   "outputs": [],
   "source": [
    "y_pre = Knn.predict(X)"
   ]
  },
  {
   "cell_type": "code",
   "execution_count": 25,
   "metadata": {},
   "outputs": [
    {
     "data": {
      "text/plain": [
       "0.6"
      ]
     },
     "execution_count": 25,
     "metadata": {},
     "output_type": "execute_result"
    }
   ],
   "source": [
    "Knn.score(X,y)"
   ]
  },
  {
   "cell_type": "code",
   "execution_count": 26,
   "metadata": {},
   "outputs": [
    {
     "name": "stdout",
     "output_type": "stream",
     "text": [
      "1 : 1.0\n",
      "2 : 0.8\n",
      "3 : 1.0\n",
      "4 : 0.8\n",
      "5 : 0.6\n"
     ]
    }
   ],
   "source": [
    "#최적의 K를 찾아보자\n",
    "#k가 1~ 5일때까지\n",
    "for _k in range(1,6):\n",
    "    Knn.n_neighbors = _k\n",
    "    Knn.fit(X,y)\n",
    "    # Knn.predict()\n",
    "    print(f'{_k} : {Knn.score(X,y)}')"
   ]
  },
  {
   "cell_type": "code",
   "execution_count": 27,
   "metadata": {},
   "outputs": [
    {
     "data": {
      "text/html": [
       "<div>\n",
       "<style scoped>\n",
       "    .dataframe tbody tr th:only-of-type {\n",
       "        vertical-align: middle;\n",
       "    }\n",
       "\n",
       "    .dataframe tbody tr th {\n",
       "        vertical-align: top;\n",
       "    }\n",
       "\n",
       "    .dataframe thead th {\n",
       "        text-align: right;\n",
       "    }\n",
       "</style>\n",
       "<table border=\"1\" class=\"dataframe\">\n",
       "  <thead>\n",
       "    <tr style=\"text-align: right;\">\n",
       "      <th></th>\n",
       "      <th>no</th>\n",
       "      <th>gender</th>\n",
       "      <th>weight_kg</th>\n",
       "      <th>height_cm</th>\n",
       "    </tr>\n",
       "  </thead>\n",
       "  <tbody>\n",
       "    <tr>\n",
       "      <th>0</th>\n",
       "      <td>1</td>\n",
       "      <td>m</td>\n",
       "      <td>98</td>\n",
       "      <td>198</td>\n",
       "    </tr>\n",
       "    <tr>\n",
       "      <th>1</th>\n",
       "      <td>2</td>\n",
       "      <td>m</td>\n",
       "      <td>77</td>\n",
       "      <td>170</td>\n",
       "    </tr>\n",
       "    <tr>\n",
       "      <th>2</th>\n",
       "      <td>3</td>\n",
       "      <td>m</td>\n",
       "      <td>70</td>\n",
       "      <td>170</td>\n",
       "    </tr>\n",
       "    <tr>\n",
       "      <th>3</th>\n",
       "      <td>4</td>\n",
       "      <td>m</td>\n",
       "      <td>90</td>\n",
       "      <td>198</td>\n",
       "    </tr>\n",
       "    <tr>\n",
       "      <th>4</th>\n",
       "      <td>5</td>\n",
       "      <td>m</td>\n",
       "      <td>71</td>\n",
       "      <td>170</td>\n",
       "    </tr>\n",
       "  </tbody>\n",
       "</table>\n",
       "</div>"
      ],
      "text/plain": [
       "   no gender  weight_kg  height_cm\n",
       "0   1      m         98        198\n",
       "1   2      m         77        170\n",
       "2   3      m         70        170\n",
       "3   4      m         90        198\n",
       "4   5      m         71        170"
      ]
     },
     "execution_count": 27,
     "metadata": {},
     "output_type": "execute_result"
    }
   ],
   "source": [
    "# knn 실습\n",
    "df.head()"
   ]
  },
  {
   "cell_type": "code",
   "execution_count": 30,
   "metadata": {},
   "outputs": [
    {
     "data": {
      "text/html": [
       "<div>\n",
       "<style scoped>\n",
       "    .dataframe tbody tr th:only-of-type {\n",
       "        vertical-align: middle;\n",
       "    }\n",
       "\n",
       "    .dataframe tbody tr th {\n",
       "        vertical-align: top;\n",
       "    }\n",
       "\n",
       "    .dataframe thead th {\n",
       "        text-align: right;\n",
       "    }\n",
       "</style>\n",
       "<table border=\"1\" class=\"dataframe\">\n",
       "  <thead>\n",
       "    <tr style=\"text-align: right;\">\n",
       "      <th></th>\n",
       "      <th>no</th>\n",
       "      <th>gender</th>\n",
       "      <th>weight_kg</th>\n",
       "      <th>height_cm</th>\n",
       "      <th>how</th>\n",
       "    </tr>\n",
       "  </thead>\n",
       "  <tbody>\n",
       "    <tr>\n",
       "      <th>0</th>\n",
       "      <td>1</td>\n",
       "      <td>m</td>\n",
       "      <td>98</td>\n",
       "      <td>198</td>\n",
       "      <td>tail</td>\n",
       "    </tr>\n",
       "    <tr>\n",
       "      <th>1</th>\n",
       "      <td>2</td>\n",
       "      <td>m</td>\n",
       "      <td>77</td>\n",
       "      <td>170</td>\n",
       "      <td>normal</td>\n",
       "    </tr>\n",
       "    <tr>\n",
       "      <th>2</th>\n",
       "      <td>3</td>\n",
       "      <td>m</td>\n",
       "      <td>70</td>\n",
       "      <td>170</td>\n",
       "      <td>normal</td>\n",
       "    </tr>\n",
       "    <tr>\n",
       "      <th>3</th>\n",
       "      <td>4</td>\n",
       "      <td>m</td>\n",
       "      <td>90</td>\n",
       "      <td>198</td>\n",
       "      <td>tail</td>\n",
       "    </tr>\n",
       "    <tr>\n",
       "      <th>4</th>\n",
       "      <td>5</td>\n",
       "      <td>m</td>\n",
       "      <td>71</td>\n",
       "      <td>170</td>\n",
       "      <td>normal</td>\n",
       "    </tr>\n",
       "  </tbody>\n",
       "</table>\n",
       "</div>"
      ],
      "text/plain": [
       "   no gender  weight_kg  height_cm     how\n",
       "0   1      m         98        198    tail\n",
       "1   2      m         77        170  normal\n",
       "2   3      m         70        170  normal\n",
       "3   4      m         90        198    tail\n",
       "4   5      m         71        170  normal"
      ]
     },
     "execution_count": 30,
     "metadata": {},
     "output_type": "execute_result"
    }
   ],
   "source": [
    "#범주형 칼럼 추가 => 크다 \n",
    "#남자 여자.\n",
    "def howTall(tail):\n",
    "    n = \"\"\n",
    "    if tail >= 180:\n",
    "        n = \"tail\"\n",
    "    elif tail >= 170:\n",
    "        n = 'normal'\n",
    "    else :\n",
    "        n = 'short'\n",
    "    \n",
    "    return n\n",
    "\n",
    "df['how'] = df['height_cm'].apply(howTall)\n",
    "df.head()\n",
    "\n",
    "#"
   ]
  },
  {
   "cell_type": "code",
   "execution_count": 36,
   "metadata": {},
   "outputs": [
    {
     "ename": "TypeError",
     "evalue": "bmi() missing 1 required positional argument: 'tail'",
     "output_type": "error",
     "traceback": [
      "\u001b[1;31m---------------------------------------------------------------------------\u001b[0m",
      "\u001b[1;31mTypeError\u001b[0m                                 Traceback (most recent call last)",
      "Cell \u001b[1;32mIn[36], line 15\u001b[0m\n\u001b[0;32m      2\u001b[0m \u001b[39mdef\u001b[39;00m \u001b[39mbmi\u001b[39m(weight,tail):\n\u001b[0;32m      3\u001b[0m         \n\u001b[0;32m      4\u001b[0m     \u001b[39m# n = \"\"\u001b[39;00m\n\u001b[1;32m   (...)\u001b[0m\n\u001b[0;32m      9\u001b[0m     \u001b[39m# else :\u001b[39;00m\n\u001b[0;32m     10\u001b[0m     \u001b[39m#     n = 'short'\u001b[39;00m\n\u001b[0;32m     12\u001b[0m     \u001b[39mreturn\u001b[39;00m weight \u001b[39m*\u001b[39m tail\n\u001b[1;32m---> 15\u001b[0m df[\u001b[39m'\u001b[39m\u001b[39mhow\u001b[39m\u001b[39m'\u001b[39m] \u001b[39m=\u001b[39m df\u001b[39m.\u001b[39;49mloc[:,[\u001b[39m'\u001b[39;49m\u001b[39mweight_kg\u001b[39;49m\u001b[39m'\u001b[39;49m,\u001b[39m'\u001b[39;49m\u001b[39mheight_cm\u001b[39;49m\u001b[39m'\u001b[39;49m]]\u001b[39m.\u001b[39;49mapply(bmi)\n",
      "File \u001b[1;32m~\\AppData\\Local\\Packages\\PythonSoftwareFoundation.Python.3.10_qbz5n2kfra8p0\\LocalCache\\local-packages\\Python310\\site-packages\\pandas\\core\\frame.py:9565\u001b[0m, in \u001b[0;36mDataFrame.apply\u001b[1;34m(self, func, axis, raw, result_type, args, **kwargs)\u001b[0m\n\u001b[0;32m   9554\u001b[0m \u001b[39mfrom\u001b[39;00m \u001b[39mpandas\u001b[39;00m\u001b[39m.\u001b[39;00m\u001b[39mcore\u001b[39;00m\u001b[39m.\u001b[39;00m\u001b[39mapply\u001b[39;00m \u001b[39mimport\u001b[39;00m frame_apply\n\u001b[0;32m   9556\u001b[0m op \u001b[39m=\u001b[39m frame_apply(\n\u001b[0;32m   9557\u001b[0m     \u001b[39mself\u001b[39m,\n\u001b[0;32m   9558\u001b[0m     func\u001b[39m=\u001b[39mfunc,\n\u001b[1;32m   (...)\u001b[0m\n\u001b[0;32m   9563\u001b[0m     kwargs\u001b[39m=\u001b[39mkwargs,\n\u001b[0;32m   9564\u001b[0m )\n\u001b[1;32m-> 9565\u001b[0m \u001b[39mreturn\u001b[39;00m op\u001b[39m.\u001b[39;49mapply()\u001b[39m.\u001b[39m__finalize__(\u001b[39mself\u001b[39m, method\u001b[39m=\u001b[39m\u001b[39m\"\u001b[39m\u001b[39mapply\u001b[39m\u001b[39m\"\u001b[39m)\n",
      "File \u001b[1;32m~\\AppData\\Local\\Packages\\PythonSoftwareFoundation.Python.3.10_qbz5n2kfra8p0\\LocalCache\\local-packages\\Python310\\site-packages\\pandas\\core\\apply.py:746\u001b[0m, in \u001b[0;36mFrameApply.apply\u001b[1;34m(self)\u001b[0m\n\u001b[0;32m    743\u001b[0m \u001b[39melif\u001b[39;00m \u001b[39mself\u001b[39m\u001b[39m.\u001b[39mraw:\n\u001b[0;32m    744\u001b[0m     \u001b[39mreturn\u001b[39;00m \u001b[39mself\u001b[39m\u001b[39m.\u001b[39mapply_raw()\n\u001b[1;32m--> 746\u001b[0m \u001b[39mreturn\u001b[39;00m \u001b[39mself\u001b[39;49m\u001b[39m.\u001b[39;49mapply_standard()\n",
      "File \u001b[1;32m~\\AppData\\Local\\Packages\\PythonSoftwareFoundation.Python.3.10_qbz5n2kfra8p0\\LocalCache\\local-packages\\Python310\\site-packages\\pandas\\core\\apply.py:873\u001b[0m, in \u001b[0;36mFrameApply.apply_standard\u001b[1;34m(self)\u001b[0m\n\u001b[0;32m    872\u001b[0m \u001b[39mdef\u001b[39;00m \u001b[39mapply_standard\u001b[39m(\u001b[39mself\u001b[39m):\n\u001b[1;32m--> 873\u001b[0m     results, res_index \u001b[39m=\u001b[39m \u001b[39mself\u001b[39;49m\u001b[39m.\u001b[39;49mapply_series_generator()\n\u001b[0;32m    875\u001b[0m     \u001b[39m# wrap results\u001b[39;00m\n\u001b[0;32m    876\u001b[0m     \u001b[39mreturn\u001b[39;00m \u001b[39mself\u001b[39m\u001b[39m.\u001b[39mwrap_results(results, res_index)\n",
      "File \u001b[1;32m~\\AppData\\Local\\Packages\\PythonSoftwareFoundation.Python.3.10_qbz5n2kfra8p0\\LocalCache\\local-packages\\Python310\\site-packages\\pandas\\core\\apply.py:889\u001b[0m, in \u001b[0;36mFrameApply.apply_series_generator\u001b[1;34m(self)\u001b[0m\n\u001b[0;32m    886\u001b[0m \u001b[39mwith\u001b[39;00m option_context(\u001b[39m\"\u001b[39m\u001b[39mmode.chained_assignment\u001b[39m\u001b[39m\"\u001b[39m, \u001b[39mNone\u001b[39;00m):\n\u001b[0;32m    887\u001b[0m     \u001b[39mfor\u001b[39;00m i, v \u001b[39min\u001b[39;00m \u001b[39menumerate\u001b[39m(series_gen):\n\u001b[0;32m    888\u001b[0m         \u001b[39m# ignore SettingWithCopy here in case the user mutates\u001b[39;00m\n\u001b[1;32m--> 889\u001b[0m         results[i] \u001b[39m=\u001b[39m \u001b[39mself\u001b[39;49m\u001b[39m.\u001b[39;49mf(v)\n\u001b[0;32m    890\u001b[0m         \u001b[39mif\u001b[39;00m \u001b[39misinstance\u001b[39m(results[i], ABCSeries):\n\u001b[0;32m    891\u001b[0m             \u001b[39m# If we have a view on v, we need to make a copy because\u001b[39;00m\n\u001b[0;32m    892\u001b[0m             \u001b[39m#  series_generator will swap out the underlying data\u001b[39;00m\n\u001b[0;32m    893\u001b[0m             results[i] \u001b[39m=\u001b[39m results[i]\u001b[39m.\u001b[39mcopy(deep\u001b[39m=\u001b[39m\u001b[39mFalse\u001b[39;00m)\n",
      "\u001b[1;31mTypeError\u001b[0m: bmi() missing 1 required positional argument: 'tail'"
     ]
    }
   ],
   "source": [
    "# 몸무게 / 신장 * 신장\n",
    "def bmi(weight,tail):\n",
    "        \n",
    "    # n = \"\"\n",
    "    # if tail >= 180:\n",
    "    #     n = \"tail\"\n",
    "    # elif tail >= 170:\n",
    "    #     n = 'normal'\n",
    "    # else :\n",
    "    #     n = 'short'\n",
    "    \n",
    "    return weight * tail\n",
    "\n",
    "\n",
    "df['how'] = df.loc[:,['weight_kg','height_cm']].apply(bmi())"
   ]
  },
  {
   "cell_type": "code",
   "execution_count": 40,
   "metadata": {},
   "outputs": [
    {
     "data": {
      "text/plain": [
       "<matplotlib.collections.PathCollection at 0x2006768fe80>"
      ]
     },
     "execution_count": 40,
     "metadata": {},
     "output_type": "execute_result"
    },
    {
     "data": {
      "image/png": "[encoded data removed]",
      "text/plain": [
       "<Figure size 640x480 with 1 Axes>"
      ]
     },
     "metadata": {},
     "output_type": "display_data"
    }
   ],
   "source": [
    "plt.scatter(df.weight_kg,df.height_cm)"
   ]
  },
  {
   "cell_type": "code",
   "execution_count": 41,
   "metadata": {},
   "outputs": [],
   "source": [
    "from sklearn.model_selection import train_test_split"
   ]
  },
  {
   "cell_type": "code",
   "execution_count": 71,
   "metadata": {},
   "outputs": [],
   "source": [
    "from sklearn.neighbors import KNeighborsClassifier\n",
    "from sklearn.model_selection import train_test_split\n",
    "from sklearn.preprocessing import StandardScaler, MinMaxScaler\n",
    "from sklearn.metrics import accuracy_score\n",
    "\n",
    "import pandas as pd \n",
    "import matplotlib.pyplot as plt\n"
   ]
  },
  {
   "attachments": {},
   "cell_type": "markdown",
   "metadata": {},
   "source": [
    "---\n",
    "#데이터 분석 & 목적\n",
    "- 데이터 구성 -> 방법 ? 지도 / 비지도 => 데이터를 살펴본다.\n",
    "- 데이터/피쳐/특성/변수/속성/독립변수/관측값 = > 타겟/라벨/클래스/종족변수/반응변수\n",
    "- 수치형 => 회귀 / 범주형 -> 분류\n",
    "- 학습방법 => 해당하는 학습 방법 => all_estimator()"
   ]
  },
  {
   "cell_type": "markdown",
   "metadata": {},
   "source": []
  },
  {
   "attachments": {},
   "cell_type": "markdown",
   "metadata": {},
   "source": [
    "---\n",
    "1. 데이터 준비\n",
    "    - 데이터 로링 & 기본 데이터 확인\n",
    "2. 데이터 전처리\n",
    "    -데이터 정제 : 결측치,중복값,이상치,모순값   \n",
    "    -데이터 표준화 : 단위, 자료형  \n",
    "    -데이터 정규화 : 수치값 => 값의 범위 , \n",
    "    - 통일 ---> 스케일러 minmaxScalar/  RousScalar / 범주형/글자 => OrdinalEncoder, OneHotEncoder(순서가 중요하지 않다), LabelEncoder(타겟을 잡았는데, 그게 범주형? Y)   \n",
    "    - 데이터 변경: 특성 추가 / 생성\n",
    "3. 학습용 데이터 준비 => 학습용, 테스트용, 검증용 -----\n",
    "    - 데이터 추가\n",
    "    - 분류 => 항목 비율, 데이터 추가 --> 업샘플링, 다운샘플링 \n",
    "    - API에 매개변수에 비율조정한 매개변수 있는지 체크해보자. train_test_(매개변수안에 있는 걸 가지고, 매개변수를 조정해서, 특정 컬럼만 받기)\n",
    "    - 나중에는 교차검증\n",
    "4. 학습 모델 객체 생성\n",
    "5. 예측 및 평가\n",
    "    - 검증 데이터 => 예측&평가\n",
    "    -\n",
    "6. "
   ]
  },
  {
   "cell_type": "code",
   "execution_count": 43,
   "metadata": {},
   "outputs": [],
   "source": [
    "FILE = r'C:\\Users\\seo\\Downloads\\student_info.csv'\n",
    "stdDF = pd.read_csv(FILE, usecols=[2,3]) #헤드는 포함한다. #원하는 컬럼만 가져온다."
   ]
  },
  {
   "cell_type": "code",
   "execution_count": 44,
   "metadata": {},
   "outputs": [
    {
     "data": {
      "text/html": [
       "<div>\n",
       "<style scoped>\n",
       "    .dataframe tbody tr th:only-of-type {\n",
       "        vertical-align: middle;\n",
       "    }\n",
       "\n",
       "    .dataframe tbody tr th {\n",
       "        vertical-align: top;\n",
       "    }\n",
       "\n",
       "    .dataframe thead th {\n",
       "        text-align: right;\n",
       "    }\n",
       "</style>\n",
       "<table border=\"1\" class=\"dataframe\">\n",
       "  <thead>\n",
       "    <tr style=\"text-align: right;\">\n",
       "      <th></th>\n",
       "      <th>weight_kg</th>\n",
       "      <th>height_cm</th>\n",
       "    </tr>\n",
       "  </thead>\n",
       "  <tbody>\n",
       "    <tr>\n",
       "      <th>0</th>\n",
       "      <td>98</td>\n",
       "      <td>198</td>\n",
       "    </tr>\n",
       "    <tr>\n",
       "      <th>1</th>\n",
       "      <td>77</td>\n",
       "      <td>170</td>\n",
       "    </tr>\n",
       "    <tr>\n",
       "      <th>2</th>\n",
       "      <td>70</td>\n",
       "      <td>170</td>\n",
       "    </tr>\n",
       "  </tbody>\n",
       "</table>\n",
       "</div>"
      ],
      "text/plain": [
       "   weight_kg  height_cm\n",
       "0         98        198\n",
       "1         77        170\n",
       "2         70        170"
      ]
     },
     "execution_count": 44,
     "metadata": {},
     "output_type": "execute_result"
    }
   ],
   "source": [
    "stdDF.head(3)"
   ]
  },
  {
   "cell_type": "code",
   "execution_count": 45,
   "metadata": {},
   "outputs": [
    {
     "name": "stdout",
     "output_type": "stream",
     "text": [
      "<class 'pandas.core.frame.DataFrame'>\n",
      "RangeIndex: 90 entries, 0 to 89\n",
      "Data columns (total 2 columns):\n",
      " #   Column     Non-Null Count  Dtype\n",
      "---  ------     --------------  -----\n",
      " 0   weight_kg  90 non-null     int64\n",
      " 1   height_cm  90 non-null     int64\n",
      "dtypes: int64(2)\n",
      "memory usage: 1.5 KB\n"
     ]
    }
   ],
   "source": [
    "stdDF.info()"
   ]
  },
  {
   "cell_type": "code",
   "execution_count": 46,
   "metadata": {},
   "outputs": [
    {
     "data": {
      "text/plain": [
       "weight_kg    0\n",
       "height_cm    0\n",
       "dtype: int64"
      ]
     },
     "execution_count": 46,
     "metadata": {},
     "output_type": "execute_result"
    }
   ],
   "source": [
    "stdDF.isnull().sum()"
   ]
  },
  {
   "cell_type": "code",
   "execution_count": 49,
   "metadata": {},
   "outputs": [
    {
     "data": {
      "text/plain": [
       "0     25.0\n",
       "1     26.6\n",
       "2     24.2\n",
       "3     23.0\n",
       "4     24.6\n",
       "      ... \n",
       "85    27.7\n",
       "86    20.3\n",
       "87    22.0\n",
       "88    25.8\n",
       "89    30.5\n",
       "Length: 90, dtype: float64"
      ]
     },
     "execution_count": 49,
     "metadata": {},
     "output_type": "execute_result"
    }
   ],
   "source": [
    "# 새로운 속성\n",
    "# BMI 특성 추가\n",
    "bmi_Value = round(stdDF.weight_kg/((stdDF.height_cm /100)*(stdDF.height_cm /100)),1)\n",
    "bmi_Value"
   ]
  },
  {
   "cell_type": "code",
   "execution_count": 57,
   "metadata": {},
   "outputs": [],
   "source": [
    "#18.5 ~ 23.0 ~ 25.0 ~ 30.0 => L , N , O , B , H\n",
    "_bins = [0,18.5,23.0,25.0,30.0,max(bmi_Value)]\n",
    "bmi_level = pd.cut(bmi_Value,bins=_bins,labels=[0,1,2,3,4])\n",
    "\n",
    "\n"
   ]
  },
  {
   "cell_type": "code",
   "execution_count": 91,
   "metadata": {},
   "outputs": [
    {
     "data": {
      "text/plain": [
       "2    54\n",
       "1    28\n",
       "0     8\n",
       "dtype: int64"
      ]
     },
     "execution_count": 91,
     "metadata": {},
     "output_type": "execute_result"
    }
   ],
   "source": [
    "bmi_level.value_counts()"
   ]
  },
  {
   "cell_type": "code",
   "execution_count": 92,
   "metadata": {},
   "outputs": [],
   "source": [
    "stdDF,bmi_level #데이터 #타겟\n",
    "stdDF['bmi_level'] = bmi_level"
   ]
  },
  {
   "cell_type": "code",
   "execution_count": 62,
   "metadata": {},
   "outputs": [
    {
     "data": {
      "text/html": [
       "<div>\n",
       "<style scoped>\n",
       "    .dataframe tbody tr th:only-of-type {\n",
       "        vertical-align: middle;\n",
       "    }\n",
       "\n",
       "    .dataframe tbody tr th {\n",
       "        vertical-align: top;\n",
       "    }\n",
       "\n",
       "    .dataframe thead th {\n",
       "        text-align: right;\n",
       "    }\n",
       "</style>\n",
       "<table border=\"1\" class=\"dataframe\">\n",
       "  <thead>\n",
       "    <tr style=\"text-align: right;\">\n",
       "      <th></th>\n",
       "      <th>weight_kg</th>\n",
       "      <th>height_cm</th>\n",
       "      <th>bmi_level</th>\n",
       "    </tr>\n",
       "  </thead>\n",
       "  <tbody>\n",
       "    <tr>\n",
       "      <th>0</th>\n",
       "      <td>98</td>\n",
       "      <td>198</td>\n",
       "      <td>2</td>\n",
       "    </tr>\n",
       "    <tr>\n",
       "      <th>1</th>\n",
       "      <td>77</td>\n",
       "      <td>170</td>\n",
       "      <td>3</td>\n",
       "    </tr>\n",
       "    <tr>\n",
       "      <th>2</th>\n",
       "      <td>70</td>\n",
       "      <td>170</td>\n",
       "      <td>2</td>\n",
       "    </tr>\n",
       "    <tr>\n",
       "      <th>3</th>\n",
       "      <td>90</td>\n",
       "      <td>198</td>\n",
       "      <td>1</td>\n",
       "    </tr>\n",
       "    <tr>\n",
       "      <th>4</th>\n",
       "      <td>71</td>\n",
       "      <td>170</td>\n",
       "      <td>2</td>\n",
       "    </tr>\n",
       "  </tbody>\n",
       "</table>\n",
       "</div>"
      ],
      "text/plain": [
       "   weight_kg  height_cm bmi_level\n",
       "0         98        198         2\n",
       "1         77        170         3\n",
       "2         70        170         2\n",
       "3         90        198         1\n",
       "4         71        170         2"
      ]
     },
     "execution_count": 62,
     "metadata": {},
     "output_type": "execute_result"
    }
   ],
   "source": [
    "stdDF.head()"
   ]
  },
  {
   "cell_type": "code",
   "execution_count": 103,
   "metadata": {},
   "outputs": [
    {
     "data": {
      "text/plain": [
       "weight_kg  height_cm  bmi_level\n",
       "70         165        2            4\n",
       "68         165        2            3\n",
       "           193        0            2\n",
       "70         170        2            2\n",
       "90         198        1            2\n",
       "                                  ..\n",
       "63         168        1            1\n",
       "           165        2            1\n",
       "62         165        1            1\n",
       "61         168        1            1\n",
       "110        198        2            1\n",
       "Length: 79, dtype: int64"
      ]
     },
     "execution_count": 103,
     "metadata": {},
     "output_type": "execute_result"
    }
   ],
   "source": []
  },
  {
   "cell_type": "code",
   "execution_count": 104,
   "metadata": {},
   "outputs": [
    {
     "data": {
      "text/html": [
       "<div>\n",
       "<style scoped>\n",
       "    .dataframe tbody tr th:only-of-type {\n",
       "        vertical-align: middle;\n",
       "    }\n",
       "\n",
       "    .dataframe tbody tr th {\n",
       "        vertical-align: top;\n",
       "    }\n",
       "\n",
       "    .dataframe thead th {\n",
       "        text-align: right;\n",
       "    }\n",
       "</style>\n",
       "<table border=\"1\" class=\"dataframe\">\n",
       "  <thead>\n",
       "    <tr style=\"text-align: right;\">\n",
       "      <th></th>\n",
       "      <th>min</th>\n",
       "      <th>max</th>\n",
       "    </tr>\n",
       "  </thead>\n",
       "  <tbody>\n",
       "    <tr>\n",
       "      <th>weight_kg</th>\n",
       "      <td>43.0</td>\n",
       "      <td>110.0</td>\n",
       "    </tr>\n",
       "    <tr>\n",
       "      <th>height_cm</th>\n",
       "      <td>132.0</td>\n",
       "      <td>198.0</td>\n",
       "    </tr>\n",
       "  </tbody>\n",
       "</table>\n",
       "</div>"
      ],
      "text/plain": [
       "             min    max\n",
       "weight_kg   43.0  110.0\n",
       "height_cm  132.0  198.0"
      ]
     },
     "execution_count": 104,
     "metadata": {},
     "output_type": "execute_result"
    }
   ],
   "source": [
    "# 특성 데이터의 범위 확인\n",
    "stdDF.describe().T[['min','max']] #전치시켜서, min하고 max만 가져오기 "
   ]
  },
  {
   "cell_type": "code",
   "execution_count": 105,
   "metadata": {},
   "outputs": [
    {
     "data": {
      "text/plain": [
       "weight_kg   -67.0\n",
       "height_cm   -66.0\n",
       "dtype: float64"
      ]
     },
     "execution_count": 105,
     "metadata": {},
     "output_type": "execute_result"
    }
   ],
   "source": [
    "stdDF.describe().T['min']-stdDF.describe().T['max']"
   ]
  },
  {
   "cell_type": "code",
   "execution_count": 93,
   "metadata": {},
   "outputs": [
    {
     "data": {
      "text/plain": [
       "array([[ 1.99325723,  1.75590438],\n",
       "       [ 0.4748146 ,  0.10974402],\n",
       "       [-0.03133294,  0.10974402],\n",
       "       [ 1.4148029 ,  1.75590438],\n",
       "       [ 0.04097385,  0.10974402],\n",
       "       [-0.03133294, -0.18421318],\n",
       "       [ 0.18558743,  1.46194717],\n",
       "       [-0.82670766, -1.53641633],\n",
       "       [-0.17594653, -1.83037354],\n",
       "       [ 1.12557573, -0.7721276 ],\n",
       "       [ 0.98096215, -0.18421318],\n",
       "       [-0.24825332, -1.24245913],\n",
       "       [-0.03133294,  0.10974402],\n",
       "       [ 1.12557573, -1.65399922],\n",
       "       [-0.03133294, -0.18421318],\n",
       "       [ 0.33020102, -2.12433075],\n",
       "       [-0.03133294, -1.83037354],\n",
       "       [-0.17594653, -0.18421318],\n",
       "       [-0.17594653, -0.18421318],\n",
       "       [ 0.4748146 ,  0.69765844],\n",
       "       [-0.4651737 , -0.00783886],\n",
       "       [ 1.12557573, -1.53641633],\n",
       "       [-0.03133294,  1.46194717],\n",
       "       [ 0.83634856, -0.18421318],\n",
       "       [ 1.27018931, -1.53641633],\n",
       "       [ 1.99325723, -0.18421318],\n",
       "       [ 1.12557573, -1.83037354],\n",
       "       [-0.53748049, -0.18421318],\n",
       "       [-0.17594653, -0.47817039],\n",
       "       [-0.32056011, -0.47817039],\n",
       "       [ 0.18558743, -0.18421318],\n",
       "       [-0.32056011, -0.18421318],\n",
       "       [-0.03133294, -0.18421318],\n",
       "       [ 0.25789422, -0.30179607],\n",
       "       [-0.10363974,  0.10974402],\n",
       "       [-0.03133294, -0.18421318],\n",
       "       [-0.4651737 , -0.7721276 ],\n",
       "       [-0.32056011, -0.18421318],\n",
       "       [-0.17594653, -0.18421318],\n",
       "       [-0.4651737 , -0.47817039],\n",
       "       [ 0.4748146 , -0.30179607],\n",
       "       [-0.03133294, -1.94795642],\n",
       "       [-0.60978728, -0.18421318],\n",
       "       [ 0.61942818, -1.53641633],\n",
       "       [-0.17594653,  1.46194717],\n",
       "       [-1.04362803,  0.16853547],\n",
       "       [ 0.61942818, -0.36058751],\n",
       "       [ 0.83634856,  1.75590438],\n",
       "       [ 0.69173498,  1.28557285],\n",
       "       [ 0.4748146 , -0.30179607],\n",
       "       [ 0.18558743, -1.0660848 ],\n",
       "       [ 0.83634856, -0.00783886],\n",
       "       [-0.68209407, -0.00783886],\n",
       "       [ 0.69173498,  1.46194717],\n",
       "       [ 0.18558743,  0.10974402],\n",
       "       [-0.4651737 , -0.30179607],\n",
       "       [ 0.69173498,  1.75590438],\n",
       "       [ 1.34249611,  1.28557285],\n",
       "       [-1.11593482, -0.30179607],\n",
       "       [-0.82670766, -0.47817039],\n",
       "       [-1.3328552 , -0.00783886],\n",
       "       [-0.53748049, -0.00783886],\n",
       "       [-1.76669595,  1.46194717],\n",
       "       [-1.11593482, -0.47817039],\n",
       "       [-1.3328552 , -0.36058751],\n",
       "       [-0.97132124,  1.75590438],\n",
       "       [-0.17594653,  1.28557285],\n",
       "       [-1.26054841, -0.30179607],\n",
       "       [-1.47746878, -0.12542174],\n",
       "       [-0.32056011, -0.00783886],\n",
       "       [-1.26054841, -0.00783886],\n",
       "       [-0.17594653,  1.46194717],\n",
       "       [-1.54977558, -0.94850192],\n",
       "       [-1.40516199, -0.30179607],\n",
       "       [-1.98361633, -0.71333615],\n",
       "       [-0.97132124, -0.00783886],\n",
       "       [-0.97132124, -0.00783886],\n",
       "       [-0.82670766,  1.46194717],\n",
       "       [-0.75440086, -0.47817039],\n",
       "       [-1.18824162, -0.94850192],\n",
       "       [ 1.4148029 ,  1.75590438],\n",
       "       [ 0.61942818,  1.28557285],\n",
       "       [-0.17594653, -0.30179607],\n",
       "       [-0.82670766, -0.00783886],\n",
       "       [ 2.86093874,  1.75590438],\n",
       "       [ 2.13787082,  1.28557285],\n",
       "       [-1.18824162, -0.30179607],\n",
       "       [-0.97132124, -0.41937895],\n",
       "       [ 2.21017761,  1.75590438],\n",
       "       [ 2.86093874,  1.28557285]])"
      ]
     },
     "execution_count": 93,
     "metadata": {},
     "output_type": "execute_result"
    }
   ],
   "source": [
    "from sklearn.preprocessing import StandardScaler\n",
    "#별차기 없는것 같아도,내가 두 수의 기준을 만들고싶다면\n",
    "#수치형 특성 데이터 스케일링\n",
    "st = StandardScaler()\n",
    "st_data = st.fit_transform(stdDF[stdDF.columns[:-1]])\n",
    "st_data"
   ]
  },
  {
   "cell_type": "code",
   "execution_count": 98,
   "metadata": {},
   "outputs": [
    {
     "data": {
      "text/plain": [
       "array([[0.82089552, 1.        ],\n",
       "       [0.50746269, 0.57575758],\n",
       "       [0.40298507, 0.57575758],\n",
       "       [0.70149254, 1.        ],\n",
       "       [0.41791045, 0.57575758],\n",
       "       [0.40298507, 0.5       ],\n",
       "       [0.44776119, 0.92424242],\n",
       "       [0.23880597, 0.15151515],\n",
       "       [0.37313433, 0.07575758],\n",
       "       [0.64179104, 0.34848485],\n",
       "       [0.6119403 , 0.5       ],\n",
       "       [0.35820896, 0.22727273],\n",
       "       [0.40298507, 0.57575758],\n",
       "       [0.64179104, 0.12121212],\n",
       "       [0.40298507, 0.5       ],\n",
       "       [0.47761194, 0.        ],\n",
       "       [0.40298507, 0.07575758],\n",
       "       [0.37313433, 0.5       ],\n",
       "       [0.37313433, 0.5       ],\n",
       "       [0.50746269, 0.72727273],\n",
       "       [0.31343284, 0.54545455],\n",
       "       [0.64179104, 0.15151515],\n",
       "       [0.40298507, 0.92424242],\n",
       "       [0.58208955, 0.5       ],\n",
       "       [0.67164179, 0.15151515],\n",
       "       [0.82089552, 0.5       ],\n",
       "       [0.64179104, 0.07575758],\n",
       "       [0.29850746, 0.5       ],\n",
       "       [0.37313433, 0.42424242],\n",
       "       [0.34328358, 0.42424242],\n",
       "       [0.44776119, 0.5       ],\n",
       "       [0.34328358, 0.5       ],\n",
       "       [0.40298507, 0.5       ],\n",
       "       [0.46268657, 0.46969697],\n",
       "       [0.3880597 , 0.57575758],\n",
       "       [0.40298507, 0.5       ],\n",
       "       [0.31343284, 0.34848485],\n",
       "       [0.34328358, 0.5       ],\n",
       "       [0.37313433, 0.5       ],\n",
       "       [0.31343284, 0.42424242],\n",
       "       [0.50746269, 0.46969697],\n",
       "       [0.40298507, 0.04545455],\n",
       "       [0.28358209, 0.5       ],\n",
       "       [0.53731343, 0.15151515],\n",
       "       [0.37313433, 0.92424242],\n",
       "       [0.19402985, 0.59090909],\n",
       "       [0.53731343, 0.45454545],\n",
       "       [0.58208955, 1.        ],\n",
       "       [0.55223881, 0.87878788],\n",
       "       [0.50746269, 0.46969697],\n",
       "       [0.44776119, 0.27272727],\n",
       "       [0.58208955, 0.54545455],\n",
       "       [0.26865672, 0.54545455],\n",
       "       [0.55223881, 0.92424242],\n",
       "       [0.44776119, 0.57575758],\n",
       "       [0.31343284, 0.46969697],\n",
       "       [0.55223881, 1.        ],\n",
       "       [0.68656716, 0.87878788],\n",
       "       [0.17910448, 0.46969697],\n",
       "       [0.23880597, 0.42424242],\n",
       "       [0.13432836, 0.54545455],\n",
       "       [0.29850746, 0.54545455],\n",
       "       [0.04477612, 0.92424242],\n",
       "       [0.17910448, 0.42424242],\n",
       "       [0.13432836, 0.45454545],\n",
       "       [0.20895522, 1.        ],\n",
       "       [0.37313433, 0.87878788],\n",
       "       [0.14925373, 0.46969697],\n",
       "       [0.10447761, 0.51515152],\n",
       "       [0.34328358, 0.54545455],\n",
       "       [0.14925373, 0.54545455],\n",
       "       [0.37313433, 0.92424242],\n",
       "       [0.08955224, 0.3030303 ],\n",
       "       [0.11940299, 0.46969697],\n",
       "       [0.        , 0.36363636],\n",
       "       [0.20895522, 0.54545455],\n",
       "       [0.20895522, 0.54545455],\n",
       "       [0.23880597, 0.92424242],\n",
       "       [0.25373134, 0.42424242],\n",
       "       [0.1641791 , 0.3030303 ],\n",
       "       [0.70149254, 1.        ],\n",
       "       [0.53731343, 0.87878788],\n",
       "       [0.37313433, 0.46969697],\n",
       "       [0.23880597, 0.54545455],\n",
       "       [1.        , 1.        ],\n",
       "       [0.85074627, 0.87878788],\n",
       "       [0.1641791 , 0.46969697],\n",
       "       [0.20895522, 0.43939394],\n",
       "       [0.86567164, 1.        ],\n",
       "       [1.        , 0.87878788]])"
      ]
     },
     "execution_count": 98,
     "metadata": {},
     "output_type": "execute_result"
    }
   ],
   "source": [
    "mmt = MinMaxScaler()\n",
    "mmt_data = mmt.fit_transform(stdDF[stdDF.columns[:-1]])\n",
    "mmt_data"
   ]
  },
  {
   "cell_type": "code",
   "execution_count": 99,
   "metadata": {},
   "outputs": [],
   "source": [
    "data = stdDF[stdDF.columns[:-1]]\n",
    "target = stdDF[stdDF.columns[-1]]"
   ]
  },
  {
   "cell_type": "code",
   "execution_count": 76,
   "metadata": {},
   "outputs": [
    {
     "data": {
      "text/plain": [
       "((90, 2), (90,))"
      ]
     },
     "execution_count": 76,
     "metadata": {},
     "output_type": "execute_result"
    }
   ],
   "source": [
    "data.shape, target.shape"
   ]
  },
  {
   "cell_type": "code",
   "execution_count": 96,
   "metadata": {},
   "outputs": [],
   "source": [
    "#타겟의 분류 데이터의 비율이 고르지 않음 => 비율에 맞도록 데이터를 분리\n",
    "x_train, x_test, y_train, y_test = train_test_split(data,target,random_state=11,stratify=target,test_size=0.2)\n",
    "#stratify=target 타겟을 보아하니, 별로 비율이 안 맞더라, 그러니까 타겟에 좀 맞춰줘!\n"
   ]
  },
  {
   "cell_type": "code",
   "execution_count": 80,
   "metadata": {},
   "outputs": [
    {
     "data": {
      "text/plain": [
       "(72,\n",
       " 1    22\n",
       " 3    15\n",
       " 2    14\n",
       " 4    14\n",
       " 0     7\n",
       " Name: bmi_level, dtype: int64)"
      ]
     },
     "execution_count": 80,
     "metadata": {},
     "output_type": "execute_result"
    }
   ],
   "source": [
    "len(x_train), y_train.value_counts()"
   ]
  },
  {
   "cell_type": "code",
   "execution_count": 85,
   "metadata": {},
   "outputs": [
    {
     "data": {
      "text/html": [
       "<style>#sk-container-id-5 {color: black;background-color: white;}#sk-container-id-5 pre{padding: 0;}#sk-container-id-5 div.sk-toggleable {background-color: white;}#sk-container-id-5 label.sk-toggleable__label {cursor: pointer;display: block;width: 100%;margin-bottom: 0;padding: 0.3em;box-sizing: border-box;text-align: center;}#sk-container-id-5 label.sk-toggleable__label-arrow:before {content: \"▸\";float: left;margin-right: 0.25em;color: #696969;}#sk-container-id-5 label.sk-toggleable__label-arrow:hover:before {color: black;}#sk-container-id-5 div.sk-estimator:hover label.sk-toggleable__label-arrow:before {color: black;}#sk-container-id-5 div.sk-toggleable__content {max-height: 0;max-width: 0;overflow: hidden;text-align: left;background-color: #f0f8ff;}#sk-container-id-5 div.sk-toggleable__content pre {margin: 0.2em;color: black;border-radius: 0.25em;background-color: #f0f8ff;}#sk-container-id-5 input.sk-toggleable__control:checked~div.sk-toggleable__content {max-height: 200px;max-width: 100%;overflow: auto;}#sk-container-id-5 input.sk-toggleable__control:checked~label.sk-toggleable__label-arrow:before {content: \"▾\";}#sk-container-id-5 div.sk-estimator input.sk-toggleable__control:checked~label.sk-toggleable__label {background-color: #d4ebff;}#sk-container-id-5 div.sk-label input.sk-toggleable__control:checked~label.sk-toggleable__label {background-color: #d4ebff;}#sk-container-id-5 input.sk-hidden--visually {border: 0;clip: rect(1px 1px 1px 1px);clip: rect(1px, 1px, 1px, 1px);height: 1px;margin: -1px;overflow: hidden;padding: 0;position: absolute;width: 1px;}#sk-container-id-5 div.sk-estimator {font-family: monospace;background-color: #f0f8ff;border: 1px dotted black;border-radius: 0.25em;box-sizing: border-box;margin-bottom: 0.5em;}#sk-container-id-5 div.sk-estimator:hover {background-color: #d4ebff;}#sk-container-id-5 div.sk-parallel-item::after {content: \"\";width: 100%;border-bottom: 1px solid gray;flex-grow: 1;}#sk-container-id-5 div.sk-label:hover label.sk-toggleable__label {background-color: #d4ebff;}#sk-container-id-5 div.sk-serial::before {content: \"\";position: absolute;border-left: 1px solid gray;box-sizing: border-box;top: 0;bottom: 0;left: 50%;z-index: 0;}#sk-container-id-5 div.sk-serial {display: flex;flex-direction: column;align-items: center;background-color: white;padding-right: 0.2em;padding-left: 0.2em;position: relative;}#sk-container-id-5 div.sk-item {position: relative;z-index: 1;}#sk-container-id-5 div.sk-parallel {display: flex;align-items: stretch;justify-content: center;background-color: white;position: relative;}#sk-container-id-5 div.sk-item::before, #sk-container-id-5 div.sk-parallel-item::before {content: \"\";position: absolute;border-left: 1px solid gray;box-sizing: border-box;top: 0;bottom: 0;left: 50%;z-index: -1;}#sk-container-id-5 div.sk-parallel-item {display: flex;flex-direction: column;z-index: 1;position: relative;background-color: white;}#sk-container-id-5 div.sk-parallel-item:first-child::after {align-self: flex-end;width: 50%;}#sk-container-id-5 div.sk-parallel-item:last-child::after {align-self: flex-start;width: 50%;}#sk-container-id-5 div.sk-parallel-item:only-child::after {width: 0;}#sk-container-id-5 div.sk-dashed-wrapped {border: 1px dashed gray;margin: 0 0.4em 0.5em 0.4em;box-sizing: border-box;padding-bottom: 0.4em;background-color: white;}#sk-container-id-5 div.sk-label label {font-family: monospace;font-weight: bold;display: inline-block;line-height: 1.2em;}#sk-container-id-5 div.sk-label-container {text-align: center;}#sk-container-id-5 div.sk-container {/* jupyter's `normalize.less` sets `[hidden] { display: none; }` but bootstrap.min.css set `[hidden] { display: none !important; }` so we also need the `!important` here to be able to override the default hidden behavior on the sphinx rendered scikit-learn.org. See: https://github.com/scikit-learn/scikit-learn/issues/21755 */display: inline-block !important;position: relative;}#sk-container-id-5 div.sk-text-repr-fallback {display: none;}</style><div id=\"sk-container-id-5\" class=\"sk-top-container\"><div class=\"sk-text-repr-fallback\"><pre>KNeighborsClassifier(n_neighbors=2)</pre><b>In a Jupyter environment, please rerun this cell to show the HTML representation or trust the notebook. <br />On GitHub, the HTML representation is unable to render, please try loading this page with nbviewer.org.</b></div><div class=\"sk-container\" hidden><div class=\"sk-item\"><div class=\"sk-estimator sk-toggleable\"><input class=\"sk-toggleable__control sk-hidden--visually\" id=\"sk-estimator-id-5\" type=\"checkbox\" checked><label for=\"sk-estimator-id-5\" class=\"sk-toggleable__label sk-toggleable__label-arrow\">KNeighborsClassifier</label><div class=\"sk-toggleable__content\"><pre>KNeighborsClassifier(n_neighbors=2)</pre></div></div></div></div></div>"
      ],
      "text/plain": [
       "KNeighborsClassifier(n_neighbors=2)"
      ]
     },
     "execution_count": 85,
     "metadata": {},
     "output_type": "execute_result"
    }
   ],
   "source": [
    "#분류 KNN 모델 객체 생성 k = 5 기본값\n",
    "knnModel = KNeighborsClassifier(n_neighbors=2)\n",
    "knnModel.fit(x_train,y_train)"
   ]
  },
  {
   "cell_type": "code",
   "execution_count": 86,
   "metadata": {},
   "outputs": [
    {
     "data": {
      "text/plain": [
       "0.8611111111111112"
      ]
     },
     "execution_count": 86,
     "metadata": {},
     "output_type": "execute_result"
    }
   ],
   "source": [
    "knnModel.score(x_train,y_train)\n",
    "#일일히 반복문 돌려서, 매개변구값만 바꾸서 알아보자"
   ]
  },
  {
   "cell_type": "code",
   "execution_count": 88,
   "metadata": {},
   "outputs": [],
   "source": [
    "scores = []\n",
    "for n in range(1,x_train.shape[0]):\n",
    "    knnModel.n_neighbors = n\n",
    "    knnModel.fit(x_train,y_train)\n",
    "    sc = knnModel.score(x_train,y_train)\n",
    "    scores.append(sc)"
   ]
  },
  {
   "cell_type": "code",
   "execution_count": 89,
   "metadata": {},
   "outputs": [
    {
     "data": {
      "text/plain": [
       "[<matplotlib.lines.Line2D at 0x2006aa188b0>]"
      ]
     },
     "execution_count": 89,
     "metadata": {},
     "output_type": "execute_result"
    },
    {
     "data": {
      "image/png": "[encoded data removed]",
      "text/plain": [
       "<Figure size 640x480 with 1 Axes>"
      ]
     },
     "metadata": {},
     "output_type": "display_data"
    }
   ],
   "source": [
    "plt.plot(scores)"
   ]
  },
  {
   "cell_type": "code",
   "execution_count": 90,
   "metadata": {},
   "outputs": [],
   "source": [
    "#분류의 값을 5개를 잡아보자!\n",
    "\n",
    "_bins = [0,18.5,23.0,max(bmi_Value)]\n",
    "bmi_level = pd.cut(bmi_Value,bins=_bins,labels=[0,1,2]) #너무 많은것 같아서\n",
    " "
   ]
  },
  {
   "cell_type": "code",
   "execution_count": 101,
   "metadata": {},
   "outputs": [
    {
     "name": "stdout",
     "output_type": "stream",
     "text": [
      "1 : score: 1.0\n",
      "2 : score: 0.8611111111111112\n",
      "3 : score: 0.8194444444444444\n",
      "4 : score: 0.7916666666666666\n",
      "5 : score: 0.8194444444444444\n",
      "6 : score: 0.7777777777777778\n",
      "7 : score: 0.7638888888888888\n",
      "8 : score: 0.6805555555555556\n",
      "9 : score: 0.6805555555555556\n",
      "10 : score: 0.6666666666666666\n",
      "11 : score: 0.6527777777777778\n",
      "12 : score: 0.6388888888888888\n",
      "13 : score: 0.6527777777777778\n",
      "14 : score: 0.6388888888888888\n",
      "15 : score: 0.625\n",
      "16 : score: 0.625\n",
      "17 : score: 0.6111111111111112\n",
      "18 : score: 0.6666666666666666\n",
      "19 : score: 0.5972222222222222\n",
      "20 : score: 0.5694444444444444\n",
      "21 : score: 0.5416666666666666\n",
      "22 : score: 0.5694444444444444\n",
      "23 : score: 0.5555555555555556\n",
      "24 : score: 0.5694444444444444\n",
      "25 : score: 0.5555555555555556\n",
      "26 : score: 0.5416666666666666\n",
      "27 : score: 0.5833333333333334\n",
      "28 : score: 0.5416666666666666\n",
      "29 : score: 0.5138888888888888\n",
      "30 : score: 0.5138888888888888\n",
      "31 : score: 0.5138888888888888\n",
      "32 : score: 0.4861111111111111\n",
      "33 : score: 0.4583333333333333\n",
      "34 : score: 0.4444444444444444\n",
      "35 : score: 0.4444444444444444\n",
      "36 : score: 0.4444444444444444\n",
      "37 : score: 0.4166666666666667\n",
      "38 : score: 0.375\n",
      "39 : score: 0.3472222222222222\n",
      "40 : score: 0.3611111111111111\n",
      "41 : score: 0.3472222222222222\n",
      "42 : score: 0.3472222222222222\n",
      "43 : score: 0.375\n",
      "44 : score: 0.375\n",
      "45 : score: 0.375\n",
      "46 : score: 0.375\n",
      "47 : score: 0.3611111111111111\n",
      "48 : score: 0.3472222222222222\n",
      "49 : score: 0.3472222222222222\n",
      "50 : score: 0.3055555555555556\n",
      "51 : score: 0.3194444444444444\n",
      "52 : score: 0.3194444444444444\n",
      "53 : score: 0.3055555555555556\n",
      "54 : score: 0.3055555555555556\n",
      "55 : score: 0.3055555555555556\n",
      "56 : score: 0.3055555555555556\n",
      "57 : score: 0.3055555555555556\n",
      "58 : score: 0.3055555555555556\n",
      "59 : score: 0.3055555555555556\n",
      "60 : score: 0.3055555555555556\n",
      "61 : score: 0.3055555555555556\n",
      "62 : score: 0.3055555555555556\n",
      "63 : score: 0.3055555555555556\n",
      "64 : score: 0.3055555555555556\n",
      "65 : score: 0.3055555555555556\n",
      "66 : score: 0.3055555555555556\n",
      "67 : score: 0.3055555555555556\n",
      "68 : score: 0.3055555555555556\n",
      "69 : score: 0.3055555555555556\n",
      "70 : score: 0.3055555555555556\n",
      "71 : score: 0.3055555555555556\n"
     ]
    },
    {
     "data": {
      "text/plain": [
       "[<matplotlib.lines.Line2D at 0x2006ac2c730>]"
      ]
     },
     "execution_count": 101,
     "metadata": {},
     "output_type": "execute_result"
    },
    {
     "data": {
      "image/png": "[encoded data removed]",
      "text/plain": [
       "<Figure size 640x480 with 1 Axes>"
      ]
     },
     "metadata": {},
     "output_type": "display_data"
    }
   ],
   "source": [
    "scores = []\n",
    "for n in range(1,x_train.shape[0]):\n",
    "    knnModel.n_neighbors = n\n",
    "    knnModel.fit(x_train,y_train)\n",
    "    sc = knnModel.score(x_train,y_train)\n",
    "    print(f'{n} : score: {sc}')\n",
    "    scores.append(sc)\n",
    "\n",
    "plt.plot(scores)\n",
    "plt.xlabel('n_neighbors')\n",
    "plt.ylabel('score')\n"
   ]
  },
  {
   "cell_type": "code",
   "execution_count": 107,
   "metadata": {},
   "outputs": [
    {
     "data": {
      "text/plain": [
       "0.3333333333333333"
      ]
     },
     "execution_count": 107,
     "metadata": {},
     "output_type": "execute_result"
    }
   ],
   "source": [
    "# 최적의 파라미터를 하나 찾아보자\n",
    "# 결정된 파라미터 2 or 7\n",
    "y_pre = knnModel.predict(x_test)\n",
    "#모델의 score 아니면 메트릭스의 score 를 사용해서\n",
    "accuracy_score(y_test,y_pre)"
   ]
  },
  {
   "cell_type": "code",
   "execution_count": 108,
   "metadata": {},
   "outputs": [
    {
     "data": {
      "text/plain": [
       "0.3333333333333333"
      ]
     },
     "execution_count": 108,
     "metadata": {},
     "output_type": "execute_result"
    }
   ],
   "source": [
    "knnModel.score(x_test,y_test)"
   ]
  },
  {
   "cell_type": "code",
   "execution_count": 109,
   "metadata": {},
   "outputs": [],
   "source": [
    "#마음에 안드느니까 gridSercch를 사용해보자!\n",
    "from sklearn.model_selection import GridSearchCV"
   ]
  },
  {
   "cell_type": "code",
   "execution_count": 116,
   "metadata": {},
   "outputs": [],
   "source": [
    "# GridSearchCV()\n",
    "#하이퍼파라미터 => n_neighbors / 거리재는거 유클리드 거리를 바꿔보자 \n",
    "\n",
    "model = KNeighborsClassifier()\n",
    "params = {'n_neighbors':[2,3,4,5],'p':[1,2]} #이렇게만 해도 8개의 모델이 만들어진다.\n",
    "grid = GridSearchCV(model,param_grid=params,cv=3,scoring='accuracy')\n",
    "#cv가 뭐였더라?"
   ]
  },
  {
   "cell_type": "code",
   "execution_count": 117,
   "metadata": {},
   "outputs": [
    {
     "data": {
      "text/html": [
       "<style>#sk-container-id-7 {color: black;background-color: white;}#sk-container-id-7 pre{padding: 0;}#sk-container-id-7 div.sk-toggleable {background-color: white;}#sk-container-id-7 label.sk-toggleable__label {cursor: pointer;display: block;width: 100%;margin-bottom: 0;padding: 0.3em;box-sizing: border-box;text-align: center;}#sk-container-id-7 label.sk-toggleable__label-arrow:before {content: \"▸\";float: left;margin-right: 0.25em;color: #696969;}#sk-container-id-7 label.sk-toggleable__label-arrow:hover:before {color: black;}#sk-container-id-7 div.sk-estimator:hover label.sk-toggleable__label-arrow:before {color: black;}#sk-container-id-7 div.sk-toggleable__content {max-height: 0;max-width: 0;overflow: hidden;text-align: left;background-color: #f0f8ff;}#sk-container-id-7 div.sk-toggleable__content pre {margin: 0.2em;color: black;border-radius: 0.25em;background-color: #f0f8ff;}#sk-container-id-7 input.sk-toggleable__control:checked~div.sk-toggleable__content {max-height: 200px;max-width: 100%;overflow: auto;}#sk-container-id-7 input.sk-toggleable__control:checked~label.sk-toggleable__label-arrow:before {content: \"▾\";}#sk-container-id-7 div.sk-estimator input.sk-toggleable__control:checked~label.sk-toggleable__label {background-color: #d4ebff;}#sk-container-id-7 div.sk-label input.sk-toggleable__control:checked~label.sk-toggleable__label {background-color: #d4ebff;}#sk-container-id-7 input.sk-hidden--visually {border: 0;clip: rect(1px 1px 1px 1px);clip: rect(1px, 1px, 1px, 1px);height: 1px;margin: -1px;overflow: hidden;padding: 0;position: absolute;width: 1px;}#sk-container-id-7 div.sk-estimator {font-family: monospace;background-color: #f0f8ff;border: 1px dotted black;border-radius: 0.25em;box-sizing: border-box;margin-bottom: 0.5em;}#sk-container-id-7 div.sk-estimator:hover {background-color: #d4ebff;}#sk-container-id-7 div.sk-parallel-item::after {content: \"\";width: 100%;border-bottom: 1px solid gray;flex-grow: 1;}#sk-container-id-7 div.sk-label:hover label.sk-toggleable__label {background-color: #d4ebff;}#sk-container-id-7 div.sk-serial::before {content: \"\";position: absolute;border-left: 1px solid gray;box-sizing: border-box;top: 0;bottom: 0;left: 50%;z-index: 0;}#sk-container-id-7 div.sk-serial {display: flex;flex-direction: column;align-items: center;background-color: white;padding-right: 0.2em;padding-left: 0.2em;position: relative;}#sk-container-id-7 div.sk-item {position: relative;z-index: 1;}#sk-container-id-7 div.sk-parallel {display: flex;align-items: stretch;justify-content: center;background-color: white;position: relative;}#sk-container-id-7 div.sk-item::before, #sk-container-id-7 div.sk-parallel-item::before {content: \"\";position: absolute;border-left: 1px solid gray;box-sizing: border-box;top: 0;bottom: 0;left: 50%;z-index: -1;}#sk-container-id-7 div.sk-parallel-item {display: flex;flex-direction: column;z-index: 1;position: relative;background-color: white;}#sk-container-id-7 div.sk-parallel-item:first-child::after {align-self: flex-end;width: 50%;}#sk-container-id-7 div.sk-parallel-item:last-child::after {align-self: flex-start;width: 50%;}#sk-container-id-7 div.sk-parallel-item:only-child::after {width: 0;}#sk-container-id-7 div.sk-dashed-wrapped {border: 1px dashed gray;margin: 0 0.4em 0.5em 0.4em;box-sizing: border-box;padding-bottom: 0.4em;background-color: white;}#sk-container-id-7 div.sk-label label {font-family: monospace;font-weight: bold;display: inline-block;line-height: 1.2em;}#sk-container-id-7 div.sk-label-container {text-align: center;}#sk-container-id-7 div.sk-container {/* jupyter's `normalize.less` sets `[hidden] { display: none; }` but bootstrap.min.css set `[hidden] { display: none !important; }` so we also need the `!important` here to be able to override the default hidden behavior on the sphinx rendered scikit-learn.org. See: https://github.com/scikit-learn/scikit-learn/issues/21755 */display: inline-block !important;position: relative;}#sk-container-id-7 div.sk-text-repr-fallback {display: none;}</style><div id=\"sk-container-id-7\" class=\"sk-top-container\"><div class=\"sk-text-repr-fallback\"><pre>GridSearchCV(cv=3, estimator=KNeighborsClassifier(),\n",
       "             param_grid={&#x27;n_neighbors&#x27;: [2, 3, 4, 5], &#x27;p&#x27;: [1, 2]},\n",
       "             scoring=&#x27;accuracy&#x27;)</pre><b>In a Jupyter environment, please rerun this cell to show the HTML representation or trust the notebook. <br />On GitHub, the HTML representation is unable to render, please try loading this page with nbviewer.org.</b></div><div class=\"sk-container\" hidden><div class=\"sk-item sk-dashed-wrapped\"><div class=\"sk-label-container\"><div class=\"sk-label sk-toggleable\"><input class=\"sk-toggleable__control sk-hidden--visually\" id=\"sk-estimator-id-9\" type=\"checkbox\" ><label for=\"sk-estimator-id-9\" class=\"sk-toggleable__label sk-toggleable__label-arrow\">GridSearchCV</label><div class=\"sk-toggleable__content\"><pre>GridSearchCV(cv=3, estimator=KNeighborsClassifier(),\n",
       "             param_grid={&#x27;n_neighbors&#x27;: [2, 3, 4, 5], &#x27;p&#x27;: [1, 2]},\n",
       "             scoring=&#x27;accuracy&#x27;)</pre></div></div></div><div class=\"sk-parallel\"><div class=\"sk-parallel-item\"><div class=\"sk-item\"><div class=\"sk-label-container\"><div class=\"sk-label sk-toggleable\"><input class=\"sk-toggleable__control sk-hidden--visually\" id=\"sk-estimator-id-10\" type=\"checkbox\" ><label for=\"sk-estimator-id-10\" class=\"sk-toggleable__label sk-toggleable__label-arrow\">estimator: KNeighborsClassifier</label><div class=\"sk-toggleable__content\"><pre>KNeighborsClassifier()</pre></div></div></div><div class=\"sk-serial\"><div class=\"sk-item\"><div class=\"sk-estimator sk-toggleable\"><input class=\"sk-toggleable__control sk-hidden--visually\" id=\"sk-estimator-id-11\" type=\"checkbox\" ><label for=\"sk-estimator-id-11\" class=\"sk-toggleable__label sk-toggleable__label-arrow\">KNeighborsClassifier</label><div class=\"sk-toggleable__content\"><pre>KNeighborsClassifier()</pre></div></div></div></div></div></div></div></div></div></div>"
      ],
      "text/plain": [
       "GridSearchCV(cv=3, estimator=KNeighborsClassifier(),\n",
       "             param_grid={'n_neighbors': [2, 3, 4, 5], 'p': [1, 2]},\n",
       "             scoring='accuracy')"
      ]
     },
     "execution_count": 117,
     "metadata": {},
     "output_type": "execute_result"
    }
   ],
   "source": [
    "grid.fit(x_train,y_train)"
   ]
  },
  {
   "cell_type": "code",
   "execution_count": 118,
   "metadata": {},
   "outputs": [
    {
     "data": {
      "text/plain": [
       "{'mean_fit_time': array([0.00432134, 0.00531586, 0.00598534, 0.00365869, 0.0026567 ,\n",
       "        0.0056568 , 0.00266361, 0.00265797]),\n",
       " 'std_fit_time': array([0.00094072, 0.00169507, 0.00431146, 0.00169477, 0.00046817,\n",
       "        0.00170242, 0.00047308, 0.00093796]),\n",
       " 'mean_score_time': array([0.00465465, 0.00398676, 0.00958363, 0.00565227, 0.00365663,\n",
       "        0.00498144, 0.00565227, 0.0053192 ]),\n",
       " 'std_score_time': array([0.00124426, 0.00081848, 0.00471074, 0.00188486, 0.00124394,\n",
       "        0.00081471, 0.00124646, 0.00339004]),\n",
       " 'param_n_neighbors': masked_array(data=[2, 2, 3, 3, 4, 4, 5, 5],\n",
       "              mask=[False, False, False, False, False, False, False, False],\n",
       "        fill_value='?',\n",
       "             dtype=object),\n",
       " 'param_p': masked_array(data=[1, 2, 1, 2, 1, 2, 1, 2],\n",
       "              mask=[False, False, False, False, False, False, False, False],\n",
       "        fill_value='?',\n",
       "             dtype=object),\n",
       " 'params': [{'n_neighbors': 2, 'p': 1},\n",
       "  {'n_neighbors': 2, 'p': 2},\n",
       "  {'n_neighbors': 3, 'p': 1},\n",
       "  {'n_neighbors': 3, 'p': 2},\n",
       "  {'n_neighbors': 4, 'p': 1},\n",
       "  {'n_neighbors': 4, 'p': 2},\n",
       "  {'n_neighbors': 5, 'p': 1},\n",
       "  {'n_neighbors': 5, 'p': 2}],\n",
       " 'split0_test_score': array([0.79166667, 0.79166667, 0.625     , 0.625     , 0.70833333,\n",
       "        0.625     , 0.54166667, 0.58333333]),\n",
       " 'split1_test_score': array([0.58333333, 0.66666667, 0.66666667, 0.70833333, 0.70833333,\n",
       "        0.75      , 0.54166667, 0.66666667]),\n",
       " 'split2_test_score': array([0.79166667, 0.75      , 0.66666667, 0.66666667, 0.625     ,\n",
       "        0.66666667, 0.58333333, 0.625     ]),\n",
       " 'mean_test_score': array([0.72222222, 0.73611111, 0.65277778, 0.66666667, 0.68055556,\n",
       "        0.68055556, 0.55555556, 0.625     ]),\n",
       " 'std_test_score': array([0.09820928, 0.05196746, 0.01964186, 0.03402069, 0.03928371,\n",
       "        0.05196746, 0.01964186, 0.03402069]),\n",
       " 'rank_test_score': array([2, 1, 6, 5, 3, 4, 8, 7])}"
      ]
     },
     "execution_count": 118,
     "metadata": {},
     "output_type": "execute_result"
    }
   ],
   "source": [
    "grid.cv_results_"
   ]
  },
  {
   "cell_type": "code",
   "execution_count": 119,
   "metadata": {},
   "outputs": [
    {
     "data": {
      "text/plain": [
       "{'n_neighbors': 2, 'p': 2}"
      ]
     },
     "execution_count": 119,
     "metadata": {},
     "output_type": "execute_result"
    }
   ],
   "source": [
    "grid.best_params_"
   ]
  },
  {
   "cell_type": "code",
   "execution_count": null,
   "metadata": {},
   "outputs": [],
   "source": [
    "#최적의 모델을 받겠다\n",
    "model = grid.best_estimator_ #내가 받은 최적의 모델이다.\n"
   ]
  },
  {
   "cell_type": "code",
   "execution_count": 120,
   "metadata": {},
   "outputs": [
    {
     "data": {
      "text/plain": [
       "0.736111111111111"
      ]
     },
     "execution_count": 120,
     "metadata": {},
     "output_type": "execute_result"
    }
   ],
   "source": [
    "grid.best_score_"
   ]
  },
  {
   "cell_type": "code",
   "execution_count": null,
   "metadata": {},
   "outputs": [],
   "source": [
    "#그런데 우리는 지금까지 스케일링을 하지 않은 애들이다.\n",
    "#위에서 스케일링을 하는 애들을 넣어서 해보자!\n",
    "#폴더를 다운 받아서 올려줄께/ gridSerch에서 cv뭐더라..."
   ]
  },
  {
   "attachments": {},
   "cell_type": "markdown",
   "metadata": {},
   "source": [
    "---\n",
    "# 회귀\n",
    "# 키에 따른 몸무게 예측"
   ]
  },
  {
   "cell_type": "code",
   "execution_count": 122,
   "metadata": {},
   "outputs": [],
   "source": [
    "# KNeiborsRegressor 학습 알고리즘 사용\n",
    "# 데이터 : student_info.csv\n",
    "# 목적 : 키에 따른 몸무게를 예측하는 예측기\n",
    "\n",
    "from sklearn.neighbors import KNeighborsRegressor\n",
    "from sklearn.model_selection import train_test_split, GridSearchCV, RandomizedSearchCV\n",
    "from sklearn.metrics import mean_squared_error, r2_score\n",
    "\n",
    "import pandas as pd\n",
    "import matplotlib.pyplot as plt\n"
   ]
  },
  {
   "cell_type": "code",
   "execution_count": 149,
   "metadata": {},
   "outputs": [],
   "source": [
    "\n",
    "FILE = r'C:\\Users\\seo\\Downloads\\student_info.csv'\n",
    "stdDF = pd.read_csv(FILE,usecols=[1,2,3])"
   ]
  },
  {
   "cell_type": "code",
   "execution_count": 150,
   "metadata": {},
   "outputs": [
    {
     "name": "stdout",
     "output_type": "stream",
     "text": [
      "<class 'pandas.core.frame.DataFrame'>\n",
      "RangeIndex: 90 entries, 0 to 89\n",
      "Data columns (total 3 columns):\n",
      " #   Column     Non-Null Count  Dtype \n",
      "---  ------     --------------  ----- \n",
      " 0   gender     90 non-null     object\n",
      " 1   weight_kg  90 non-null     int64 \n",
      " 2   height_cm  90 non-null     int64 \n",
      "dtypes: int64(2), object(1)\n",
      "memory usage: 2.2+ KB\n"
     ]
    }
   ],
   "source": [
    "stdDF.info()"
   ]
  },
  {
   "cell_type": "code",
   "execution_count": 131,
   "metadata": {},
   "outputs": [
    {
     "data": {
      "text/plain": [
       "[<matplotlib.lines.Line2D at 0x2006aac3250>]"
      ]
     },
     "execution_count": 131,
     "metadata": {},
     "output_type": "execute_result"
    },
    {
     "data": {
      "image/png": "[encoded data removed]",
      "text/plain": [
       "<Figure size 640x480 with 1 Axes>"
      ]
     },
     "metadata": {},
     "output_type": "display_data"
    }
   ],
   "source": [
    "plt.plot(stdDF.weight_kg,stdDF.height_cm,'ro')"
   ]
  },
  {
   "cell_type": "code",
   "execution_count": 151,
   "metadata": {},
   "outputs": [
    {
     "name": "stderr",
     "output_type": "stream",
     "text": [
      "C:\\Users\\seo\\AppData\\Local\\Temp\\ipykernel_33240\\4240857658.py:1: FutureWarning: The default value of numeric_only in DataFrame.corr is deprecated. In a future version, it will default to False. Select only valid columns or specify the value of numeric_only to silence this warning.\n",
      "  stdDF.corr()\n"
     ]
    },
    {
     "data": {
      "text/html": [
       "<div>\n",
       "<style scoped>\n",
       "    .dataframe tbody tr th:only-of-type {\n",
       "        vertical-align: middle;\n",
       "    }\n",
       "\n",
       "    .dataframe tbody tr th {\n",
       "        vertical-align: top;\n",
       "    }\n",
       "\n",
       "    .dataframe thead th {\n",
       "        text-align: right;\n",
       "    }\n",
       "</style>\n",
       "<table border=\"1\" class=\"dataframe\">\n",
       "  <thead>\n",
       "    <tr style=\"text-align: right;\">\n",
       "      <th></th>\n",
       "      <th>weight_kg</th>\n",
       "      <th>height_cm</th>\n",
       "    </tr>\n",
       "  </thead>\n",
       "  <tbody>\n",
       "    <tr>\n",
       "      <th>weight_kg</th>\n",
       "      <td>1.000000</td>\n",
       "      <td>0.276307</td>\n",
       "    </tr>\n",
       "    <tr>\n",
       "      <th>height_cm</th>\n",
       "      <td>0.276307</td>\n",
       "      <td>1.000000</td>\n",
       "    </tr>\n",
       "  </tbody>\n",
       "</table>\n",
       "</div>"
      ],
      "text/plain": [
       "           weight_kg  height_cm\n",
       "weight_kg   1.000000   0.276307\n",
       "height_cm   0.276307   1.000000"
      ]
     },
     "execution_count": 151,
     "metadata": {},
     "output_type": "execute_result"
    }
   ],
   "source": [
    "stdDF.corr()"
   ]
  },
  {
   "cell_type": "code",
   "execution_count": 152,
   "metadata": {},
   "outputs": [
    {
     "data": {
      "text/html": [
       "<div>\n",
       "<style scoped>\n",
       "    .dataframe tbody tr th:only-of-type {\n",
       "        vertical-align: middle;\n",
       "    }\n",
       "\n",
       "    .dataframe tbody tr th {\n",
       "        vertical-align: top;\n",
       "    }\n",
       "\n",
       "    .dataframe thead th {\n",
       "        text-align: right;\n",
       "    }\n",
       "</style>\n",
       "<table border=\"1\" class=\"dataframe\">\n",
       "  <thead>\n",
       "    <tr style=\"text-align: right;\">\n",
       "      <th></th>\n",
       "      <th>gender</th>\n",
       "      <th>weight_kg</th>\n",
       "      <th>height_cm</th>\n",
       "    </tr>\n",
       "  </thead>\n",
       "  <tbody>\n",
       "    <tr>\n",
       "      <th>0</th>\n",
       "      <td>m</td>\n",
       "      <td>98</td>\n",
       "      <td>198</td>\n",
       "    </tr>\n",
       "    <tr>\n",
       "      <th>1</th>\n",
       "      <td>m</td>\n",
       "      <td>77</td>\n",
       "      <td>170</td>\n",
       "    </tr>\n",
       "    <tr>\n",
       "      <th>2</th>\n",
       "      <td>m</td>\n",
       "      <td>70</td>\n",
       "      <td>170</td>\n",
       "    </tr>\n",
       "    <tr>\n",
       "      <th>3</th>\n",
       "      <td>m</td>\n",
       "      <td>90</td>\n",
       "      <td>198</td>\n",
       "    </tr>\n",
       "    <tr>\n",
       "      <th>4</th>\n",
       "      <td>m</td>\n",
       "      <td>71</td>\n",
       "      <td>170</td>\n",
       "    </tr>\n",
       "  </tbody>\n",
       "</table>\n",
       "</div>"
      ],
      "text/plain": [
       "  gender  weight_kg  height_cm\n",
       "0      m         98        198\n",
       "1      m         77        170\n",
       "2      m         70        170\n",
       "3      m         90        198\n",
       "4      m         71        170"
      ]
     },
     "execution_count": 152,
     "metadata": {},
     "output_type": "execute_result"
    }
   ],
   "source": [
    "n_data = stdDF[stdDF.gender == 'm']\n",
    "n_data.head()"
   ]
  },
  {
   "cell_type": "code",
   "execution_count": 148,
   "metadata": {},
   "outputs": [
    {
     "data": {
      "text/plain": [
       "[<matplotlib.lines.Line2D at 0x2006db332b0>]"
      ]
     },
     "execution_count": 148,
     "metadata": {},
     "output_type": "execute_result"
    },
    {
     "data": {
      "image/png": "[encoded data removed]",
      "text/plain": [
       "<Figure size 640x480 with 1 Axes>"
      ]
     },
     "metadata": {},
     "output_type": "display_data"
    }
   ],
   "source": [
    "plt.plot(n_data.weight_kg,n_data.height_cm,'y^')"
   ]
  },
  {
   "cell_type": "code",
   "execution_count": 153,
   "metadata": {},
   "outputs": [
    {
     "name": "stderr",
     "output_type": "stream",
     "text": [
      "C:\\Users\\seo\\AppData\\Local\\Temp\\ipykernel_33240\\287311477.py:1: FutureWarning: The default value of numeric_only in DataFrame.corr is deprecated. In a future version, it will default to False. Select only valid columns or specify the value of numeric_only to silence this warning.\n",
      "  n_data.corr()\n"
     ]
    },
    {
     "data": {
      "text/html": [
       "<div>\n",
       "<style scoped>\n",
       "    .dataframe tbody tr th:only-of-type {\n",
       "        vertical-align: middle;\n",
       "    }\n",
       "\n",
       "    .dataframe tbody tr th {\n",
       "        vertical-align: top;\n",
       "    }\n",
       "\n",
       "    .dataframe thead th {\n",
       "        text-align: right;\n",
       "    }\n",
       "</style>\n",
       "<table border=\"1\" class=\"dataframe\">\n",
       "  <thead>\n",
       "    <tr style=\"text-align: right;\">\n",
       "      <th></th>\n",
       "      <th>weight_kg</th>\n",
       "      <th>height_cm</th>\n",
       "    </tr>\n",
       "  </thead>\n",
       "  <tbody>\n",
       "    <tr>\n",
       "      <th>weight_kg</th>\n",
       "      <td>1.000000</td>\n",
       "      <td>0.116982</td>\n",
       "    </tr>\n",
       "    <tr>\n",
       "      <th>height_cm</th>\n",
       "      <td>0.116982</td>\n",
       "      <td>1.000000</td>\n",
       "    </tr>\n",
       "  </tbody>\n",
       "</table>\n",
       "</div>"
      ],
      "text/plain": [
       "           weight_kg  height_cm\n",
       "weight_kg   1.000000   0.116982\n",
       "height_cm   0.116982   1.000000"
      ]
     },
     "execution_count": 153,
     "metadata": {},
     "output_type": "execute_result"
    }
   ],
   "source": [
    "n_data.corr()"
   ]
  },
  {
   "cell_type": "code",
   "execution_count": 154,
   "metadata": {},
   "outputs": [
    {
     "name": "stderr",
     "output_type": "stream",
     "text": [
      "C:\\Users\\seo\\AppData\\Local\\Temp\\ipykernel_33240\\506462086.py:2: FutureWarning: The default value of numeric_only in DataFrame.corr is deprecated. In a future version, it will default to False. Select only valid columns or specify the value of numeric_only to silence this warning.\n",
      "  w_data.corr()\n"
     ]
    },
    {
     "data": {
      "text/html": [
       "<div>\n",
       "<style scoped>\n",
       "    .dataframe tbody tr th:only-of-type {\n",
       "        vertical-align: middle;\n",
       "    }\n",
       "\n",
       "    .dataframe tbody tr th {\n",
       "        vertical-align: top;\n",
       "    }\n",
       "\n",
       "    .dataframe thead th {\n",
       "        text-align: right;\n",
       "    }\n",
       "</style>\n",
       "<table border=\"1\" class=\"dataframe\">\n",
       "  <thead>\n",
       "    <tr style=\"text-align: right;\">\n",
       "      <th></th>\n",
       "      <th>weight_kg</th>\n",
       "      <th>height_cm</th>\n",
       "    </tr>\n",
       "  </thead>\n",
       "  <tbody>\n",
       "    <tr>\n",
       "      <th>weight_kg</th>\n",
       "      <td>1.000000</td>\n",
       "      <td>0.684917</td>\n",
       "    </tr>\n",
       "    <tr>\n",
       "      <th>height_cm</th>\n",
       "      <td>0.684917</td>\n",
       "      <td>1.000000</td>\n",
       "    </tr>\n",
       "  </tbody>\n",
       "</table>\n",
       "</div>"
      ],
      "text/plain": [
       "           weight_kg  height_cm\n",
       "weight_kg   1.000000   0.684917\n",
       "height_cm   0.684917   1.000000"
      ]
     },
     "execution_count": 154,
     "metadata": {},
     "output_type": "execute_result"
    }
   ],
   "source": [
    "w_data = stdDF[stdDF.gender == 'f']\n",
    "w_data.corr()"
   ]
  },
  {
   "cell_type": "code",
   "execution_count": 147,
   "metadata": {},
   "outputs": [
    {
     "data": {
      "text/plain": [
       "[<matplotlib.lines.Line2D at 0x2006dae0520>]"
      ]
     },
     "execution_count": 147,
     "metadata": {},
     "output_type": "execute_result"
    },
    {
     "data": {
      "image/png": "[encoded data removed]",
      "text/plain": [
       "<Figure size 640x480 with 1 Axes>"
      ]
     },
     "metadata": {},
     "output_type": "display_data"
    }
   ],
   "source": [
    "plt.plot(w_data.weight_kg,w_data.height_cm,'y^')"
   ]
  },
  {
   "cell_type": "code",
   "execution_count": null,
   "metadata": {},
   "outputs": [],
   "source": []
  },
  {
   "cell_type": "code",
   "execution_count": 155,
   "metadata": {},
   "outputs": [],
   "source": [
    "model = KNeighborsRegressor()"
   ]
  },
  {
   "cell_type": "code",
   "execution_count": null,
   "metadata": {},
   "outputs": [],
   "source": [
    "#카애 따룬 쥬뵨의 애들이 구금하담녀?\n",
    "model.kneighbors"
   ]
  }
 ],
 "metadata": {
  "kernelspec": {
   "display_name": "Python 3",
   "language": "python",
   "name": "python3"
  },
  "language_info": {
   "codemirror_mode": {
    "name": "ipython",
    "version": 3
   },
   "file_extension": ".py",
   "mimetype": "text/x-python",
   "name": "python",
   "nbconvert_exporter": "python",
   "pygments_lexer": "ipython3",
   "version": "3.10.10"
  },
  "orig_nbformat": 4,
  "vscode": {
   "interpreter": {
    "hash": "44bcf38956e9d85bb57860a21dfaf114f8851e2a2f12f736872e3b395649ab5f"
   }
  }
 },
 "nbformat": 4,
 "nbformat_minor": 2
}
