{
 "cells": [
  {
   "attachments": {},
   "cell_type": "markdown",
   "metadata": {},
   "source": [
    "---\n",
    "비지도 학습\n",
    "* 데이터만 존재하는 경우 학습 방법\n",
    "* 타겟(라벨, 정답)이 없는 데이터\n",
    "\n",
    "분류 기준 \n",
    "* 유사도(데이터의 거리)\n",
    "* 분산(데이터 사이의 분포)\n",
    "\n",
    "평가 기준\n",
    "* 유사도와 분산을 기본으로 계산 진행\n",
    "* 계산 방법 다양 => 평가지표 계수 존재\n",
    "\n",
    "종류\n",
    "* 군집화 => 분할, 계층\n",
    "* 성분분석 => 주성분 분석\n",
    "* 밀도 분류 => DBSCAN \n",
    "용도\n",
    "* 지도학습의 전처리에 활용\n",
    "* 비지도학습으로 분류 후 지도학습으로 최종 평가 기능\n",
    "\n",
    "군집화 => 분할 방식의 K-means\n",
    "* k개의 임의의 점을 중심으로 데이터와 거리 측정 후 군집 설정\n",
    "* 설정된 군집의 평균값 계산 => 중심점 이동 => 다시 군집 설정\n",
    "* 반복해서 진행 \n",
    "* 타원형으로만 군집이 가능함\n"
   ]
  },
  {
   "cell_type": "markdown",
   "metadata": {},
   "source": [
    "---\n",
    "iris 데이터만 가지고 K-means 실습\n",
    "#### [1] 데이터 로딩 및 확인"
   ]
  },
  {
   "cell_type": "code",
   "execution_count": 1,
   "metadata": {},
   "outputs": [],
   "source": [
    "from sklearn.datasets import load_iris\n",
    "from sklearn.cluster import KMeans\n",
    "import pandas as pd\n",
    "import matplotlib.pyplot as plt"
   ]
  },
  {
   "cell_type": "code",
   "execution_count": 2,
   "metadata": {},
   "outputs": [],
   "source": [
    "iris_data = load_iris()"
   ]
  }
 ],
 "metadata": {
  "kernelspec": {
   "display_name": "base",
   "language": "python",
   "name": "python3"
  },
  "language_info": {
   "codemirror_mode": {
    "name": "ipython",
    "version": 3
   },
   "file_extension": ".py",
   "mimetype": "text/x-python",
   "name": "python",
   "nbconvert_exporter": "python",
   "pygments_lexer": "ipython3",
   "version": "3.9.15"
  },
  "orig_nbformat": 4
 },
 "nbformat": 4,
 "nbformat_minor": 2
}
