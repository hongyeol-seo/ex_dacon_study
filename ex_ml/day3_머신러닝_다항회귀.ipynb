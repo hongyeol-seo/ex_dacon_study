{
 "cells": [
  {
   "attachments": {},
   "cell_type": "markdown",
   "metadata": {},
   "source": [
    "---\n",
    "### 다항회귀  ( 329p. ~)\n",
    "  - 비선형 회귀선을 만들어 줄 수 있음   \n",
    "  \n",
    "  but, \n",
    "  - 특성(컬럼)들이 많아짐 >> 과적합의 위험이 높아짐     \n",
    "            >> 규제(회귀계수값 조절)를 통해 과적합의 위험 조절함(릿지,라쏘)   \n",
    "    \n",
    "---   \n",
    "### 규제를 사용한 선형회귀 (하이퍼파라미터 : alpha )   \n",
    "  - 릿지 (L2) : 중요도가 낮아도 사용(낮은 가중치-회귀계수-를 부여)   \n",
    "  - 라쏘 (L1) : 중요도가 없는 특성에 회귀계수 0을 사용(영향력X) 즉, 모델 찾는데 사용않도록   \n",
    "                 => 피쳐공학에 사용됨   \n",
    "  - 엘라스틱 넷 (L1 + L2) : 단, 속도가 느림   \n"
   ]
  },
  {
   "attachments": {},
   "cell_type": "markdown",
   "metadata": {},
   "source": [
    "---   \n",
    "##### 참고 : 모델 찾기\n",
    "+ sklearn.urils.all_estimators : 모든 분류/회귀/군집 의 모든 모델을 학습시키고 가장 좋은 성능의 모델 알려줌"
   ]
  },
  {
   "attachments": {},
   "cell_type": "markdown",
   "metadata": {},
   "source": [
    "---   \n",
    "\n",
    "### LOGISTIC REGRESSION 로지스틱 회귀  ( 350p.~)\n",
    "    - sigmoid 함수 사용 , 확률값을 사용함\n",
    "    - 이름은 회귀이지만, 이진분류에 사용됨 ( 임계값 0.5 기준으로 분류 )\n",
    "    - 실제값과 오차 관계 : 그래프가 2개 나옴 (실제값이 1일때, 실제값이 0일때 각각의 오차 그래프 필요)   \n",
    "\n",
    "    - sigmoid 단점 : 이진분류만 가능\n",
    "        >> softmax : 다중입력, 다중출력 (3개 이상 가능)\n",
    "            - 하이퍼파라미터 많음! > API 찾아보기 ( 주요 : penalty,C,solver )"
   ]
  }
 ],
 "metadata": {
  "kernelspec": {
   "display_name": "py3",
   "language": "python",
   "name": "python3"
  },
  "language_info": {
   "codemirror_mode": {
    "name": "ipython",
    "version": 3
   },
   "file_extension": ".py",
   "mimetype": "text/x-python",
   "name": "python",
   "nbconvert_exporter": "python",
   "pygments_lexer": "ipython3",
   "version": "3.8.1"
  },
  "orig_nbformat": 4
 },
 "nbformat": 4,
 "nbformat_minor": 2
}
