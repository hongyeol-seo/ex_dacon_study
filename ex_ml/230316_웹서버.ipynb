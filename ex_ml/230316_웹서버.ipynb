{
 "cells": [
  {
   "cell_type": "code",
   "execution_count": null,
   "metadata": {},
   "outputs": [],
   "source": [
    "#이상치 모델\n",
    "from sklearn.covariance import EllipticEnvelope\n",
    "from sklearn.ensemble import IsolationForest\n",
    "from sklearn.neighbors import LocalOutlierFactor\n"
   ]
  },
  {
   "cell_type": "code",
   "execution_count": 1,
   "metadata": {},
   "outputs": [
    {
     "data": {
      "text/plain": [
       "'c:\\\\Users\\\\seo\\\\Desktop\\\\ex_dacon\\\\ex_ml'"
      ]
     },
     "execution_count": 1,
     "metadata": {},
     "output_type": "execute_result"
    }
   ],
   "source": [
    "# python -m http.server 8080\n",
    "%pwd\n",
    "C:\\Users\\seo\\Desktop\\ex_dacon\\ex_ml"
   ]
  },
  {
   "cell_type": "code",
   "execution_count": 2,
   "metadata": {},
   "outputs": [
    {
     "name": "stdout",
     "output_type": "stream",
     "text": [
      " C ����̺��� �������� �̸��� �����ϴ�.\n",
      " ���� �Ϸ� ��ȣ: F495-21AB\n",
      "\n",
      " c:\\Users\\seo\\Desktop\\ex_dacon\\ex_ml ���͸�\n",
      "\n",
      "2023-03-16  ���� 11:06    <DIR>          .\n",
      "2023-03-14  ���� 09:16    <DIR>          ..\n",
      "2023-03-14  ���� 10:23           179,028 230309_����������.ipynb\n",
      "2023-03-09  ���� 03:41            15,282 230309_��ó��.ipynb\n",
      "2023-03-09  ���� 06:05             2,266 230309_Ÿ��Ÿ��.ipynb\n",
      "2023-03-10  ���� 01:15            89,459 230310_��ó��2��°.ipynb\n",
      "2023-03-14  ���� 09:16             1,526 230313_����Ʈ��.ipynb\n",
      "2023-03-14  ���� 05:20           204,082 230313_�ӽŷ���.ipynb\n",
      "2023-03-14  ���� 10:23            91,277 230314_�ӽŷ���.ipynb\n",
      "2023-03-16  ���� 09:02            30,834 230314_���� �̹���.ipynb\n",
      "2023-03-14  ���� 05:20           195,715 230314_���̸���(decision_overfitting).ipynb\n",
      "2023-03-14  ���� 01:10            79,651 230314_���̸���(����Ʈ��).ipynb\n",
      "2023-03-15  ���� 03:16           811,115 230315_digit(���ںз�).ipynb\n",
      "2023-03-16  ���� 09:02            11,099 230315_��Ÿ����.ipynb\n",
      "2023-03-16  ���� 11:01               608 230316_������.ipynb\n",
      "2023-03-15  ���� 02:41             3,441 banna.jfif\n",
      "2023-03-15  ���� 02:42             6,226 Banna.jpg\n",
      "2023-03-14  ���� 09:16            31,863 day_01_first_ml.ipynb\n",
      "2023-03-14  ���� 09:16             2,701 day3_�ӽŷ���_����ȸ��.ipynb\n",
      "2023-03-14  ���� 10:51            34,222 defalut_tree.jpg\n",
      "2023-03-10  ���� 03:21            10,810 ex_day03.ipynb\n",
      "2023-03-16  ���� 11:07               104 index.html\n",
      "2023-03-15  ���� 11:07             7,185 savefig_default.png\n",
      "2023-03-14  ���� 10:51             2,066 tree.dot\n",
      "2023-03-10  ���� 03:21            26,574 �����.ipynb\n",
      "              23�� ����           1,837,134 ����Ʈ\n",
      "               2�� ���͸�  351,040,913,408 ����Ʈ ����\n"
     ]
    }
   ],
   "source": [
    "%ls"
   ]
  }
 ],
 "metadata": {
  "kernelspec": {
   "display_name": "base",
   "language": "python",
   "name": "python3"
  },
  "language_info": {
   "codemirror_mode": {
    "name": "ipython",
    "version": 3
   },
   "file_extension": ".py",
   "mimetype": "text/x-python",
   "name": "python",
   "nbconvert_exporter": "python",
   "pygments_lexer": "ipython3",
   "version": "3.9.15"
  },
  "orig_nbformat": 4
 },
 "nbformat": 4,
 "nbformat_minor": 2
}
