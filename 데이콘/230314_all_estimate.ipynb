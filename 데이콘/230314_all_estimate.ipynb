{
 "cells": [
  {
   "cell_type": "code",
   "execution_count": 5,
   "metadata": {},
   "outputs": [],
   "source": [
    "import pandas as pd\n",
    "from sklearn.utils import all_estimators\n",
    "from sklearn.model_selection import KFold\n",
    "from sklearn.model_selection import cross_val_score\n",
    "import sklearn.datasets\n",
    "import warnings\n",
    "\n",
    "# 붓꽃 데이터 조회\n",
    "\n",
    "iris_data = sklearn.datasets.load_iris()\n",
    "\n",
    "# 붓꽃 데이터를 레이블과 입력 데이터로 분리\n",
    "\n",
    "#print(iris_data)\n",
    "\n",
    "y = iris_data['target']\n",
    "x = iris_data['data']\n"
   ]
  },
  {
   "cell_type": "code",
   "execution_count": 6,
   "metadata": {},
   "outputs": [],
   "source": [
    "\n",
    "#print('y=', y)\n",
    "#print('x=', x)\n",
    "\n",
    "# classifier 알고리즘 모두 추출하기\n",
    "\n",
    "warnings.filterwarnings('ignore')\n",
    "all_algorithms = all_estimators(type_filter='classifier')\n",
    "\n",
    "#all_algorithms\n",
    "# K-분할 크로스 밸리데이텨 전용 객체\n",
    "# n_splits - 데이터 분할수\n",
    "\n",
    "kfold_cv = KFold(n_splits=5, shuffle=True)"
   ]
  },
  {
   "cell_type": "code",
   "execution_count": 7,
   "metadata": {},
   "outputs": [
    {
     "data": {
      "text/plain": [
       "[('AdaBoostClassifier', sklearn.ensemble._weight_boosting.AdaBoostClassifier),\n",
       " ('BaggingClassifier', sklearn.ensemble._bagging.BaggingClassifier),\n",
       " ('BernoulliNB', sklearn.naive_bayes.BernoulliNB),\n",
       " ('CalibratedClassifierCV', sklearn.calibration.CalibratedClassifierCV),\n",
       " ('CategoricalNB', sklearn.naive_bayes.CategoricalNB),\n",
       " ('ClassifierChain', sklearn.multioutput.ClassifierChain),\n",
       " ('ComplementNB', sklearn.naive_bayes.ComplementNB),\n",
       " ('DecisionTreeClassifier', sklearn.tree._classes.DecisionTreeClassifier),\n",
       " ('DummyClassifier', sklearn.dummy.DummyClassifier),\n",
       " ('ExtraTreeClassifier', sklearn.tree._classes.ExtraTreeClassifier),\n",
       " ('ExtraTreesClassifier', sklearn.ensemble._forest.ExtraTreesClassifier),\n",
       " ('GaussianNB', sklearn.naive_bayes.GaussianNB),\n",
       " ('GaussianProcessClassifier',\n",
       "  sklearn.gaussian_process._gpc.GaussianProcessClassifier),\n",
       " ('GradientBoostingClassifier',\n",
       "  sklearn.ensemble._gb.GradientBoostingClassifier),\n",
       " ('HistGradientBoostingClassifier',\n",
       "  sklearn.ensemble._hist_gradient_boosting.gradient_boosting.HistGradientBoostingClassifier),\n",
       " ('KNeighborsClassifier',\n",
       "  sklearn.neighbors._classification.KNeighborsClassifier),\n",
       " ('LabelPropagation',\n",
       "  sklearn.semi_supervised._label_propagation.LabelPropagation),\n",
       " ('LabelSpreading', sklearn.semi_supervised._label_propagation.LabelSpreading),\n",
       " ('LinearDiscriminantAnalysis',\n",
       "  sklearn.discriminant_analysis.LinearDiscriminantAnalysis),\n",
       " ('LinearSVC', sklearn.svm._classes.LinearSVC),\n",
       " ('LogisticRegression', sklearn.linear_model._logistic.LogisticRegression),\n",
       " ('LogisticRegressionCV', sklearn.linear_model._logistic.LogisticRegressionCV),\n",
       " ('MLPClassifier',\n",
       "  sklearn.neural_network._multilayer_perceptron.MLPClassifier),\n",
       " ('MultiOutputClassifier', sklearn.multioutput.MultiOutputClassifier),\n",
       " ('MultinomialNB', sklearn.naive_bayes.MultinomialNB),\n",
       " ('NearestCentroid', sklearn.neighbors._nearest_centroid.NearestCentroid),\n",
       " ('NuSVC', sklearn.svm._classes.NuSVC),\n",
       " ('OneVsOneClassifier', sklearn.multiclass.OneVsOneClassifier),\n",
       " ('OneVsRestClassifier', sklearn.multiclass.OneVsRestClassifier),\n",
       " ('OutputCodeClassifier', sklearn.multiclass.OutputCodeClassifier),\n",
       " ('PassiveAggressiveClassifier',\n",
       "  sklearn.linear_model._passive_aggressive.PassiveAggressiveClassifier),\n",
       " ('Perceptron', sklearn.linear_model._perceptron.Perceptron),\n",
       " ('QuadraticDiscriminantAnalysis',\n",
       "  sklearn.discriminant_analysis.QuadraticDiscriminantAnalysis),\n",
       " ('RadiusNeighborsClassifier',\n",
       "  sklearn.neighbors._classification.RadiusNeighborsClassifier),\n",
       " ('RandomForestClassifier', sklearn.ensemble._forest.RandomForestClassifier),\n",
       " ('RidgeClassifier', sklearn.linear_model._ridge.RidgeClassifier),\n",
       " ('RidgeClassifierCV', sklearn.linear_model._ridge.RidgeClassifierCV),\n",
       " ('SGDClassifier', sklearn.linear_model._stochastic_gradient.SGDClassifier),\n",
       " ('SVC', sklearn.svm._classes.SVC),\n",
       " ('StackingClassifier', sklearn.ensemble._stacking.StackingClassifier),\n",
       " ('VotingClassifier', sklearn.ensemble._voting.VotingClassifier)]"
      ]
     },
     "execution_count": 7,
     "metadata": {},
     "output_type": "execute_result"
    }
   ],
   "source": [
    "# all_algorithms"
   ]
  },
  {
   "cell_type": "code",
   "execution_count": 14,
   "metadata": {},
   "outputs": [
    {
     "name": "stdout",
     "output_type": "stream",
     "text": [
      "AdaBoostClassifier 의 정답률= [0.96666667 0.86666667 0.96666667 0.93333333 0.96666667]\n",
      "BaggingClassifier 의 정답률= [0.96666667 0.86666667 0.96666667 0.96666667 0.93333333]\n",
      "BernoulliNB 의 정답률= [0.3        0.26666667 0.23333333 0.23333333 0.3       ]\n",
      "CalibratedClassifierCV 의 정답률= [0.96666667 0.96666667 0.93333333 0.86666667 0.83333333]\n",
      "CategoricalNB 의 정답률= [0.9        0.96666667 0.9        0.96666667 0.9       ]\n",
      "ComplementNB 의 정답률= [0.8        0.73333333 0.63333333 0.56666667 0.6       ]\n",
      "DecisionTreeClassifier 의 정답률= [0.9        0.93333333 1.         1.         0.93333333]\n",
      "DummyClassifier 의 정답률= [0.26666667 0.2        0.33333333 0.26666667 0.3       ]\n",
      "ExtraTreeClassifier 의 정답률= [0.86666667 1.         0.96666667 0.96666667 0.86666667]\n",
      "ExtraTreesClassifier 의 정답률= [1.         0.96666667 0.9        0.93333333 0.93333333]\n",
      "GaussianNB 의 정답률= [1.         0.96666667 0.96666667 0.96666667 0.9       ]\n",
      "GaussianProcessClassifier 의 정답률= [1.         0.96666667 0.96666667 0.93333333 1.        ]\n",
      "GradientBoostingClassifier 의 정답률= [0.9        0.93333333 0.9        0.93333333 1.        ]\n",
      "HistGradientBoostingClassifier 의 정답률= [0.93333333 0.9        0.93333333 1.         0.9       ]\n",
      "KNeighborsClassifier 의 정답률= [0.96666667 1.         0.9        1.         0.93333333]\n",
      "LabelPropagation 의 정답률= [1.         0.93333333 0.96666667 1.         0.9       ]\n",
      "LabelSpreading 의 정답률= [0.96666667 1.         0.93333333 0.96666667 0.93333333]\n",
      "LinearDiscriminantAnalysis 의 정답률= [1.         0.96666667 1.         0.93333333 1.        ]\n",
      "LinearSVC 의 정답률= [0.96666667 0.93333333 1.         1.         0.83333333]\n",
      "LogisticRegression 의 정답률= [1.         1.         1.         0.93333333 0.9       ]\n",
      "LogisticRegressionCV 의 정답률= [0.93333333 0.96666667 1.         0.93333333 1.        ]\n",
      "MLPClassifier 의 정답률= [1.         1.         0.96666667 0.96666667 1.        ]\n",
      "MultinomialNB 의 정답률= [0.63333333 0.7        0.7        0.83333333 0.96666667]\n",
      "NearestCentroid 의 정답률= [0.96666667 0.83333333 0.96666667 0.93333333 0.9       ]\n",
      "NuSVC 의 정답률= [1.         0.9        0.96666667 0.93333333 0.96666667]\n",
      "PassiveAggressiveClassifier 의 정답률= [0.83333333 0.66666667 0.96666667 0.83333333 0.76666667]\n",
      "Perceptron 의 정답률= [0.9        0.93333333 0.9        0.86666667 0.66666667]\n",
      "QuadraticDiscriminantAnalysis 의 정답률= [0.93333333 1.         1.         0.96666667 0.96666667]\n",
      "RadiusNeighborsClassifier 의 정답률= [0.93333333 0.96666667 1.         0.96666667 0.9       ]\n",
      "RandomForestClassifier 의 정답률= [0.96666667 0.86666667 1.         1.         0.9       ]\n",
      "RidgeClassifier 의 정답률= [0.86666667 0.63333333 0.76666667 0.9        1.        ]\n",
      "RidgeClassifierCV 의 정답률= [0.8        0.8        0.9        0.9        0.73333333]\n",
      "SGDClassifier 의 정답률= [0.7        0.83333333 1.         1.         0.46666667]\n",
      "SVC 의 정답률= [1.  0.9 1.  1.  0.9]\n"
     ]
    }
   ],
   "source": [
    "\n",
    "for (name, algorithm) in all_algorithms:\n",
    "# 아래 algorithm 은 인자가 필요함\n",
    "    if name in ('ClassifierChain', 'MultiOutputClassifier','OneVsOneClassifier','OneVsRestClassifier','OutputCodeClassifier','StackingClassifier','VotingClassifier'):\n",
    "\n",
    "        continue\n",
    "    \n",
    "    clf = algorithm()\n",
    "    \n",
    "    if hasattr(clf, 'score'):\n",
    "\n",
    "    # 크로스 밸리데이션\n",
    "        scores = cross_val_score(clf, x, y, cv=kfold_cv)\n",
    "\n",
    "        print(name, \"의 정답률=\", scores)\n",
    "        # print(\"End\")\n",
    "\n"
   ]
  }
 ],
 "metadata": {
  "kernelspec": {
   "display_name": "base",
   "language": "python",
   "name": "python3"
  },
  "language_info": {
   "codemirror_mode": {
    "name": "ipython",
    "version": 3
   },
   "file_extension": ".py",
   "mimetype": "text/x-python",
   "name": "python",
   "nbconvert_exporter": "python",
   "pygments_lexer": "ipython3",
   "version": "3.9.15"
  },
  "orig_nbformat": 4
 },
 "nbformat": 4,
 "nbformat_minor": 2
}
