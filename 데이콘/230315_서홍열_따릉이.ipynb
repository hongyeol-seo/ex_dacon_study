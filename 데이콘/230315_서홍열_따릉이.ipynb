{
 "cells": [
  {
   "cell_type": "code",
   "execution_count": 11,
   "metadata": {},
   "outputs": [],
   "source": [
    "import os\n",
    "os.chdir(r'C:\\Users\\PC\\Desktop\\data\\따릉이')\n"
   ]
  },
  {
   "cell_type": "code",
   "execution_count": 48,
   "metadata": {},
   "outputs": [],
   "source": [
    "import pandas as pd\n",
    "import matplotlib.pyplot as plt\n",
    "import matplotlib \n",
    "matplotlib.rcParams['font.family'] ='Malgun Gothic'\n",
    "matplotlib.rcParams['axes.unicode_minus'] =False"
   ]
  },
  {
   "cell_type": "code",
   "execution_count": 54,
   "metadata": {},
   "outputs": [],
   "source": [
    "train=pd.read_csv('train.csv')\n",
    "test=pd.read_csv('test.csv')\n",
    "submission=pd.read_csv('submission.csv')"
   ]
  },
  {
   "attachments": {},
   "cell_type": "markdown",
   "metadata": {},
   "source": [
    "---\n",
    "### 데이터확인"
   ]
  },
  {
   "cell_type": "code",
   "execution_count": 17,
   "metadata": {},
   "outputs": [
    {
     "name": "stdout",
     "output_type": "stream",
     "text": [
      "<class 'pandas.core.frame.DataFrame'>\n",
      "RangeIndex: 1459 entries, 0 to 1458\n",
      "Data columns (total 11 columns):\n",
      " #   Column                  Non-Null Count  Dtype  \n",
      "---  ------                  --------------  -----  \n",
      " 0   id                      1459 non-null   int64  \n",
      " 1   hour                    1459 non-null   int64  \n",
      " 2   hour_bef_temperature    1457 non-null   float64\n",
      " 3   hour_bef_precipitation  1457 non-null   float64\n",
      " 4   hour_bef_windspeed      1450 non-null   float64\n",
      " 5   hour_bef_humidity       1457 non-null   float64\n",
      " 6   hour_bef_visibility     1457 non-null   float64\n",
      " 7   hour_bef_ozone          1383 non-null   float64\n",
      " 8   hour_bef_pm10           1369 non-null   float64\n",
      " 9   hour_bef_pm2.5          1342 non-null   float64\n",
      " 10  count                   1459 non-null   float64\n",
      "dtypes: float64(9), int64(2)\n",
      "memory usage: 125.5 KB\n"
     ]
    }
   ],
   "source": [
    "train.info()"
   ]
  },
  {
   "cell_type": "code",
   "execution_count": 18,
   "metadata": {},
   "outputs": [
    {
     "data": {
      "text/plain": [
       "id                          0\n",
       "hour                        0\n",
       "hour_bef_temperature        2\n",
       "hour_bef_precipitation      2\n",
       "hour_bef_windspeed          9\n",
       "hour_bef_humidity           2\n",
       "hour_bef_visibility         2\n",
       "hour_bef_ozone             76\n",
       "hour_bef_pm10              90\n",
       "hour_bef_pm2.5            117\n",
       "count                       0\n",
       "dtype: int64"
      ]
     },
     "execution_count": 18,
     "metadata": {},
     "output_type": "execute_result"
    }
   ],
   "source": [
    "train.isnull().sum()"
   ]
  },
  {
   "cell_type": "code",
   "execution_count": 27,
   "metadata": {},
   "outputs": [
    {
     "data": {
      "text/html": [
       "<div>\n",
       "<style scoped>\n",
       "    .dataframe tbody tr th:only-of-type {\n",
       "        vertical-align: middle;\n",
       "    }\n",
       "\n",
       "    .dataframe tbody tr th {\n",
       "        vertical-align: top;\n",
       "    }\n",
       "\n",
       "    .dataframe thead th {\n",
       "        text-align: right;\n",
       "    }\n",
       "</style>\n",
       "<table border=\"1\" class=\"dataframe\">\n",
       "  <thead>\n",
       "    <tr style=\"text-align: right;\">\n",
       "      <th></th>\n",
       "      <th>id</th>\n",
       "      <th>hour</th>\n",
       "      <th>hour_bef_temperature</th>\n",
       "      <th>hour_bef_precipitation</th>\n",
       "      <th>hour_bef_windspeed</th>\n",
       "      <th>hour_bef_humidity</th>\n",
       "      <th>hour_bef_visibility</th>\n",
       "      <th>hour_bef_ozone</th>\n",
       "      <th>hour_bef_pm10</th>\n",
       "      <th>hour_bef_pm2.5</th>\n",
       "      <th>count</th>\n",
       "    </tr>\n",
       "  </thead>\n",
       "  <tbody>\n",
       "    <tr>\n",
       "      <th>id</th>\n",
       "      <td>1.000000</td>\n",
       "      <td>-0.010901</td>\n",
       "      <td>-0.000029</td>\n",
       "      <td>-0.056267</td>\n",
       "      <td>-0.003353</td>\n",
       "      <td>-0.017948</td>\n",
       "      <td>0.008950</td>\n",
       "      <td>0.055234</td>\n",
       "      <td>-0.025510</td>\n",
       "      <td>0.003545</td>\n",
       "      <td>-0.002131</td>\n",
       "    </tr>\n",
       "    <tr>\n",
       "      <th>hour</th>\n",
       "      <td>-0.010901</td>\n",
       "      <td>1.000000</td>\n",
       "      <td>0.407306</td>\n",
       "      <td>0.021646</td>\n",
       "      <td>0.462797</td>\n",
       "      <td>-0.329612</td>\n",
       "      <td>0.176491</td>\n",
       "      <td>0.390188</td>\n",
       "      <td>-0.035907</td>\n",
       "      <td>-0.061229</td>\n",
       "      <td>0.626047</td>\n",
       "    </tr>\n",
       "    <tr>\n",
       "      <th>hour_bef_temperature</th>\n",
       "      <td>-0.000029</td>\n",
       "      <td>0.407306</td>\n",
       "      <td>1.000000</td>\n",
       "      <td>-0.097056</td>\n",
       "      <td>0.375618</td>\n",
       "      <td>-0.496088</td>\n",
       "      <td>0.197417</td>\n",
       "      <td>0.541228</td>\n",
       "      <td>-0.003830</td>\n",
       "      <td>-0.078665</td>\n",
       "      <td>0.619404</td>\n",
       "    </tr>\n",
       "    <tr>\n",
       "      <th>hour_bef_precipitation</th>\n",
       "      <td>-0.056267</td>\n",
       "      <td>0.021646</td>\n",
       "      <td>-0.097056</td>\n",
       "      <td>1.000000</td>\n",
       "      <td>0.022746</td>\n",
       "      <td>0.276481</td>\n",
       "      <td>-0.217155</td>\n",
       "      <td>-0.062461</td>\n",
       "      <td>-0.051266</td>\n",
       "      <td>0.004742</td>\n",
       "      <td>-0.163985</td>\n",
       "    </tr>\n",
       "    <tr>\n",
       "      <th>hour_bef_windspeed</th>\n",
       "      <td>-0.003353</td>\n",
       "      <td>0.462797</td>\n",
       "      <td>0.375618</td>\n",
       "      <td>0.022746</td>\n",
       "      <td>1.000000</td>\n",
       "      <td>-0.433012</td>\n",
       "      <td>0.252092</td>\n",
       "      <td>0.520526</td>\n",
       "      <td>0.010176</td>\n",
       "      <td>-0.199113</td>\n",
       "      <td>0.459906</td>\n",
       "    </tr>\n",
       "    <tr>\n",
       "      <th>hour_bef_humidity</th>\n",
       "      <td>-0.017948</td>\n",
       "      <td>-0.329612</td>\n",
       "      <td>-0.496088</td>\n",
       "      <td>0.276481</td>\n",
       "      <td>-0.433012</td>\n",
       "      <td>1.000000</td>\n",
       "      <td>-0.592244</td>\n",
       "      <td>-0.421047</td>\n",
       "      <td>-0.108106</td>\n",
       "      <td>0.167736</td>\n",
       "      <td>-0.471142</td>\n",
       "    </tr>\n",
       "    <tr>\n",
       "      <th>hour_bef_visibility</th>\n",
       "      <td>0.008950</td>\n",
       "      <td>0.176491</td>\n",
       "      <td>0.197417</td>\n",
       "      <td>-0.217155</td>\n",
       "      <td>0.252092</td>\n",
       "      <td>-0.592244</td>\n",
       "      <td>1.000000</td>\n",
       "      <td>0.101899</td>\n",
       "      <td>-0.403277</td>\n",
       "      <td>-0.644989</td>\n",
       "      <td>0.299094</td>\n",
       "    </tr>\n",
       "    <tr>\n",
       "      <th>hour_bef_ozone</th>\n",
       "      <td>0.055234</td>\n",
       "      <td>0.390188</td>\n",
       "      <td>0.541228</td>\n",
       "      <td>-0.062461</td>\n",
       "      <td>0.520526</td>\n",
       "      <td>-0.421047</td>\n",
       "      <td>0.101899</td>\n",
       "      <td>1.000000</td>\n",
       "      <td>0.113015</td>\n",
       "      <td>0.017313</td>\n",
       "      <td>0.477614</td>\n",
       "    </tr>\n",
       "    <tr>\n",
       "      <th>hour_bef_pm10</th>\n",
       "      <td>-0.025510</td>\n",
       "      <td>-0.035907</td>\n",
       "      <td>-0.003830</td>\n",
       "      <td>-0.051266</td>\n",
       "      <td>0.010176</td>\n",
       "      <td>-0.108106</td>\n",
       "      <td>-0.403277</td>\n",
       "      <td>0.113015</td>\n",
       "      <td>1.000000</td>\n",
       "      <td>0.489558</td>\n",
       "      <td>-0.114288</td>\n",
       "    </tr>\n",
       "    <tr>\n",
       "      <th>hour_bef_pm2.5</th>\n",
       "      <td>0.003545</td>\n",
       "      <td>-0.061229</td>\n",
       "      <td>-0.078665</td>\n",
       "      <td>0.004742</td>\n",
       "      <td>-0.199113</td>\n",
       "      <td>0.167736</td>\n",
       "      <td>-0.644989</td>\n",
       "      <td>0.017313</td>\n",
       "      <td>0.489558</td>\n",
       "      <td>1.000000</td>\n",
       "      <td>-0.134293</td>\n",
       "    </tr>\n",
       "    <tr>\n",
       "      <th>count</th>\n",
       "      <td>-0.002131</td>\n",
       "      <td>0.626047</td>\n",
       "      <td>0.619404</td>\n",
       "      <td>-0.163985</td>\n",
       "      <td>0.459906</td>\n",
       "      <td>-0.471142</td>\n",
       "      <td>0.299094</td>\n",
       "      <td>0.477614</td>\n",
       "      <td>-0.114288</td>\n",
       "      <td>-0.134293</td>\n",
       "      <td>1.000000</td>\n",
       "    </tr>\n",
       "  </tbody>\n",
       "</table>\n",
       "</div>"
      ],
      "text/plain": [
       "                              id      hour  hour_bef_temperature  \\\n",
       "id                      1.000000 -0.010901             -0.000029   \n",
       "hour                   -0.010901  1.000000              0.407306   \n",
       "hour_bef_temperature   -0.000029  0.407306              1.000000   \n",
       "hour_bef_precipitation -0.056267  0.021646             -0.097056   \n",
       "hour_bef_windspeed     -0.003353  0.462797              0.375618   \n",
       "hour_bef_humidity      -0.017948 -0.329612             -0.496088   \n",
       "hour_bef_visibility     0.008950  0.176491              0.197417   \n",
       "hour_bef_ozone          0.055234  0.390188              0.541228   \n",
       "hour_bef_pm10          -0.025510 -0.035907             -0.003830   \n",
       "hour_bef_pm2.5          0.003545 -0.061229             -0.078665   \n",
       "count                  -0.002131  0.626047              0.619404   \n",
       "\n",
       "                        hour_bef_precipitation  hour_bef_windspeed  \\\n",
       "id                                   -0.056267           -0.003353   \n",
       "hour                                  0.021646            0.462797   \n",
       "hour_bef_temperature                 -0.097056            0.375618   \n",
       "hour_bef_precipitation                1.000000            0.022746   \n",
       "hour_bef_windspeed                    0.022746            1.000000   \n",
       "hour_bef_humidity                     0.276481           -0.433012   \n",
       "hour_bef_visibility                  -0.217155            0.252092   \n",
       "hour_bef_ozone                       -0.062461            0.520526   \n",
       "hour_bef_pm10                        -0.051266            0.010176   \n",
       "hour_bef_pm2.5                        0.004742           -0.199113   \n",
       "count                                -0.163985            0.459906   \n",
       "\n",
       "                        hour_bef_humidity  hour_bef_visibility  \\\n",
       "id                              -0.017948             0.008950   \n",
       "hour                            -0.329612             0.176491   \n",
       "hour_bef_temperature            -0.496088             0.197417   \n",
       "hour_bef_precipitation           0.276481            -0.217155   \n",
       "hour_bef_windspeed              -0.433012             0.252092   \n",
       "hour_bef_humidity                1.000000            -0.592244   \n",
       "hour_bef_visibility             -0.592244             1.000000   \n",
       "hour_bef_ozone                  -0.421047             0.101899   \n",
       "hour_bef_pm10                   -0.108106            -0.403277   \n",
       "hour_bef_pm2.5                   0.167736            -0.644989   \n",
       "count                           -0.471142             0.299094   \n",
       "\n",
       "                        hour_bef_ozone  hour_bef_pm10  hour_bef_pm2.5  \\\n",
       "id                            0.055234      -0.025510        0.003545   \n",
       "hour                          0.390188      -0.035907       -0.061229   \n",
       "hour_bef_temperature          0.541228      -0.003830       -0.078665   \n",
       "hour_bef_precipitation       -0.062461      -0.051266        0.004742   \n",
       "hour_bef_windspeed            0.520526       0.010176       -0.199113   \n",
       "hour_bef_humidity            -0.421047      -0.108106        0.167736   \n",
       "hour_bef_visibility           0.101899      -0.403277       -0.644989   \n",
       "hour_bef_ozone                1.000000       0.113015        0.017313   \n",
       "hour_bef_pm10                 0.113015       1.000000        0.489558   \n",
       "hour_bef_pm2.5                0.017313       0.489558        1.000000   \n",
       "count                         0.477614      -0.114288       -0.134293   \n",
       "\n",
       "                           count  \n",
       "id                     -0.002131  \n",
       "hour                    0.626047  \n",
       "hour_bef_temperature    0.619404  \n",
       "hour_bef_precipitation -0.163985  \n",
       "hour_bef_windspeed      0.459906  \n",
       "hour_bef_humidity      -0.471142  \n",
       "hour_bef_visibility     0.299094  \n",
       "hour_bef_ozone          0.477614  \n",
       "hour_bef_pm10          -0.114288  \n",
       "hour_bef_pm2.5         -0.134293  \n",
       "count                   1.000000  "
      ]
     },
     "execution_count": 27,
     "metadata": {},
     "output_type": "execute_result"
    }
   ],
   "source": [
    "train.corr()\n",
    "# abs(bostonDf.corr().medv).sort_values(ascending=False)"
   ]
  },
  {
   "attachments": {},
   "cell_type": "markdown",
   "metadata": {},
   "source": [
    "---\n",
    "- id 고유 id\n",
    "- hour 시간 #데이터를 보니 시간에 따른 대여량의 차이가 크다\n",
    "- temperature 기온\n",
    "- precipitation 비가 오지 않았으면 0, 비가 오면 1\n",
    "- windspeed 풍속(평균)\n",
    "- humidity 습도\n",
    "- visibility 시정(視程), 시계(視界)(특정 기상 상태에 따른 가시성을 의미)\n",
    "- ozone 오존\n",
    "- pm10 미세먼지(머리카락 굵기의 1/5에서 1/7 크기의 미세먼지)\n",
    "- pm2.5 미세먼지(머리카락 굵기의 1/20에서 1/30 크기의 미세먼지)\n",
    "- count 시간에 따른 따릉이 대여 수\n"
   ]
  },
  {
   "cell_type": "code",
   "execution_count": 19,
   "metadata": {},
   "outputs": [
    {
     "name": "stdout",
     "output_type": "stream",
     "text": [
      "<class 'pandas.core.frame.DataFrame'>\n",
      "RangeIndex: 715 entries, 0 to 714\n",
      "Data columns (total 10 columns):\n",
      " #   Column                  Non-Null Count  Dtype  \n",
      "---  ------                  --------------  -----  \n",
      " 0   id                      715 non-null    int64  \n",
      " 1   hour                    715 non-null    int64  \n",
      " 2   hour_bef_temperature    714 non-null    float64\n",
      " 3   hour_bef_precipitation  714 non-null    float64\n",
      " 4   hour_bef_windspeed      714 non-null    float64\n",
      " 5   hour_bef_humidity       714 non-null    float64\n",
      " 6   hour_bef_visibility     714 non-null    float64\n",
      " 7   hour_bef_ozone          680 non-null    float64\n",
      " 8   hour_bef_pm10           678 non-null    float64\n",
      " 9   hour_bef_pm2.5          679 non-null    float64\n",
      "dtypes: float64(8), int64(2)\n",
      "memory usage: 56.0 KB\n"
     ]
    }
   ],
   "source": [
    "test.info()"
   ]
  },
  {
   "cell_type": "code",
   "execution_count": 55,
   "metadata": {},
   "outputs": [],
   "source": [
    "# 3가지가 관계가 없으므로 날린다.\n",
    "train=train.drop(['hour_bef_ozone','hour_bef_pm10','hour_bef_pm2.5'],axis=1)\n",
    "test=test.drop(['hour_bef_ozone','hour_bef_pm10','hour_bef_pm2.5'],axis=1)\n"
   ]
  },
  {
   "cell_type": "code",
   "execution_count": null,
   "metadata": {},
   "outputs": [],
   "source": [
    "train.fillna(0,inplace = True)\n",
    "test.fillna(0,inplace = True)\n",
    "\n",
    "#결측값을 위에서 아래 방향으로 채우기 (forward filling) 어떤 기준으로 채움?\n",
    "#결측치가 있는 행만 보고 싶다면? \n",
    "#다양한 결측치가 있는행만 보고 싶다면"
   ]
  },
  {
   "cell_type": "code",
   "execution_count": 75,
   "metadata": {},
   "outputs": [
    {
     "data": {
      "text/plain": [
       "Index(['id', 'hour', 'hour_bef_temperature', 'hour_bef_precipitation',\n",
       "       'hour_bef_windspeed', 'hour_bef_humidity', 'hour_bef_visibility'],\n",
       "      dtype='object')"
      ]
     },
     "execution_count": 75,
     "metadata": {},
     "output_type": "execute_result"
    }
   ],
   "source": [
    "# train.columns[:-1]\n",
    "# targetDF = df[df.columns[-1]]\n",
    "# train.drop([934,1035],axis=0,inplace=True)\n",
    "# test.loc[test['child_num']>=2, 'child_num']=2\n",
    "# train.columns['hour_bef_temperature','hour_bef_windspeed']"
   ]
  },
  {
   "cell_type": "code",
   "execution_count": 77,
   "metadata": {},
   "outputs": [
    {
     "data": {
      "text/html": [
       "<div>\n",
       "<style scoped>\n",
       "    .dataframe tbody tr th:only-of-type {\n",
       "        vertical-align: middle;\n",
       "    }\n",
       "\n",
       "    .dataframe tbody tr th {\n",
       "        vertical-align: top;\n",
       "    }\n",
       "\n",
       "    .dataframe thead th {\n",
       "        text-align: right;\n",
       "    }\n",
       "</style>\n",
       "<table border=\"1\" class=\"dataframe\">\n",
       "  <thead>\n",
       "    <tr style=\"text-align: right;\">\n",
       "      <th></th>\n",
       "      <th>id</th>\n",
       "      <th>hour</th>\n",
       "      <th>hour_bef_temperature</th>\n",
       "      <th>hour_bef_precipitation</th>\n",
       "      <th>hour_bef_windspeed</th>\n",
       "      <th>hour_bef_humidity</th>\n",
       "      <th>hour_bef_visibility</th>\n",
       "      <th>count</th>\n",
       "    </tr>\n",
       "  </thead>\n",
       "  <tbody>\n",
       "    <tr>\n",
       "      <th>18</th>\n",
       "      <td>33</td>\n",
       "      <td>13</td>\n",
       "      <td>22.6</td>\n",
       "      <td>0.0</td>\n",
       "      <td>NaN</td>\n",
       "      <td>41.0</td>\n",
       "      <td>987.0</td>\n",
       "      <td>208.0</td>\n",
       "    </tr>\n",
       "    <tr>\n",
       "      <th>244</th>\n",
       "      <td>381</td>\n",
       "      <td>1</td>\n",
       "      <td>14.1</td>\n",
       "      <td>0.0</td>\n",
       "      <td>NaN</td>\n",
       "      <td>55.0</td>\n",
       "      <td>1992.0</td>\n",
       "      <td>38.0</td>\n",
       "    </tr>\n",
       "    <tr>\n",
       "      <th>260</th>\n",
       "      <td>404</td>\n",
       "      <td>3</td>\n",
       "      <td>14.0</td>\n",
       "      <td>0.0</td>\n",
       "      <td>NaN</td>\n",
       "      <td>50.0</td>\n",
       "      <td>2000.0</td>\n",
       "      <td>17.0</td>\n",
       "    </tr>\n",
       "    <tr>\n",
       "      <th>376</th>\n",
       "      <td>570</td>\n",
       "      <td>0</td>\n",
       "      <td>14.3</td>\n",
       "      <td>0.0</td>\n",
       "      <td>NaN</td>\n",
       "      <td>49.0</td>\n",
       "      <td>2000.0</td>\n",
       "      <td>58.0</td>\n",
       "    </tr>\n",
       "    <tr>\n",
       "      <th>780</th>\n",
       "      <td>1196</td>\n",
       "      <td>20</td>\n",
       "      <td>16.5</td>\n",
       "      <td>0.0</td>\n",
       "      <td>NaN</td>\n",
       "      <td>31.0</td>\n",
       "      <td>2000.0</td>\n",
       "      <td>181.0</td>\n",
       "    </tr>\n",
       "    <tr>\n",
       "      <th>934</th>\n",
       "      <td>1420</td>\n",
       "      <td>0</td>\n",
       "      <td>NaN</td>\n",
       "      <td>NaN</td>\n",
       "      <td>NaN</td>\n",
       "      <td>NaN</td>\n",
       "      <td>NaN</td>\n",
       "      <td>39.0</td>\n",
       "    </tr>\n",
       "    <tr>\n",
       "      <th>1035</th>\n",
       "      <td>1553</td>\n",
       "      <td>18</td>\n",
       "      <td>NaN</td>\n",
       "      <td>NaN</td>\n",
       "      <td>NaN</td>\n",
       "      <td>NaN</td>\n",
       "      <td>NaN</td>\n",
       "      <td>1.0</td>\n",
       "    </tr>\n",
       "    <tr>\n",
       "      <th>1138</th>\n",
       "      <td>1717</td>\n",
       "      <td>12</td>\n",
       "      <td>21.4</td>\n",
       "      <td>0.0</td>\n",
       "      <td>NaN</td>\n",
       "      <td>44.0</td>\n",
       "      <td>1375.0</td>\n",
       "      <td>116.0</td>\n",
       "    </tr>\n",
       "    <tr>\n",
       "      <th>1229</th>\n",
       "      <td>1855</td>\n",
       "      <td>2</td>\n",
       "      <td>14.0</td>\n",
       "      <td>0.0</td>\n",
       "      <td>NaN</td>\n",
       "      <td>52.0</td>\n",
       "      <td>2000.0</td>\n",
       "      <td>20.0</td>\n",
       "    </tr>\n",
       "  </tbody>\n",
       "</table>\n",
       "</div>"
      ],
      "text/plain": [
       "        id  hour  hour_bef_temperature  hour_bef_precipitation  \\\n",
       "18      33    13                  22.6                     0.0   \n",
       "244    381     1                  14.1                     0.0   \n",
       "260    404     3                  14.0                     0.0   \n",
       "376    570     0                  14.3                     0.0   \n",
       "780   1196    20                  16.5                     0.0   \n",
       "934   1420     0                   NaN                     NaN   \n",
       "1035  1553    18                   NaN                     NaN   \n",
       "1138  1717    12                  21.4                     0.0   \n",
       "1229  1855     2                  14.0                     0.0   \n",
       "\n",
       "      hour_bef_windspeed  hour_bef_humidity  hour_bef_visibility  count  \n",
       "18                   NaN               41.0                987.0  208.0  \n",
       "244                  NaN               55.0               1992.0   38.0  \n",
       "260                  NaN               50.0               2000.0   17.0  \n",
       "376                  NaN               49.0               2000.0   58.0  \n",
       "780                  NaN               31.0               2000.0  181.0  \n",
       "934                  NaN                NaN                  NaN   39.0  \n",
       "1035                 NaN                NaN                  NaN    1.0  \n",
       "1138                 NaN               44.0               1375.0  116.0  \n",
       "1229                 NaN               52.0               2000.0   20.0  "
      ]
     },
     "execution_count": 77,
     "metadata": {},
     "output_type": "execute_result"
    }
   ],
   "source": [
    "train[train['hour_bef_windspeed'].isnull()]"
   ]
  },
  {
   "cell_type": "code",
   "execution_count": 81,
   "metadata": {},
   "outputs": [
    {
     "data": {
      "text/plain": [
       "id                        0\n",
       "hour                      0\n",
       "hour_bef_temperature      0\n",
       "hour_bef_precipitation    0\n",
       "hour_bef_windspeed        0\n",
       "hour_bef_humidity         0\n",
       "hour_bef_visibility       0\n",
       "count                     0\n",
       "dtype: int64"
      ]
     },
     "execution_count": 81,
     "metadata": {},
     "output_type": "execute_result"
    }
   ],
   "source": [
    "train.drop(train[train['hour_bef_windspeed'].isnull()].index,inplace=True)\n",
    "train.isnull().sum()"
   ]
  },
  {
   "cell_type": "code",
   "execution_count": 86,
   "metadata": {},
   "outputs": [
    {
     "data": {
      "text/plain": [
       "id                        0\n",
       "hour                      0\n",
       "hour_bef_temperature      0\n",
       "hour_bef_precipitation    0\n",
       "hour_bef_windspeed        0\n",
       "hour_bef_humidity         0\n",
       "hour_bef_visibility       0\n",
       "dtype: int64"
      ]
     },
     "execution_count": 86,
     "metadata": {},
     "output_type": "execute_result"
    }
   ],
   "source": [
    "test.drop(test[test['hour_bef_temperature'].isnull()].index,inplace=True)\n",
    "test.isnull().sum()"
   ]
  },
  {
   "cell_type": "code",
   "execution_count": 80,
   "metadata": {},
   "outputs": [
    {
     "data": {
      "text/plain": [
       "id                        0\n",
       "hour                      0\n",
       "hour_bef_temperature      2\n",
       "hour_bef_precipitation    2\n",
       "hour_bef_windspeed        9\n",
       "hour_bef_humidity         2\n",
       "hour_bef_visibility       2\n",
       "count                     0\n",
       "dtype: int64"
      ]
     },
     "execution_count": 80,
     "metadata": {},
     "output_type": "execute_result"
    }
   ],
   "source": [
    "train.isnull().sum()"
   ]
  },
  {
   "cell_type": "code",
   "execution_count": 56,
   "metadata": {},
   "outputs": [
    {
     "data": {
      "text/plain": [
       "id                        0\n",
       "hour                      0\n",
       "hour_bef_temperature      1\n",
       "hour_bef_precipitation    1\n",
       "hour_bef_windspeed        1\n",
       "hour_bef_humidity         1\n",
       "hour_bef_visibility       1\n",
       "dtype: int64"
      ]
     },
     "execution_count": 56,
     "metadata": {},
     "output_type": "execute_result"
    }
   ],
   "source": [
    "test.isnull().sum()"
   ]
  },
  {
   "cell_type": "code",
   "execution_count": 49,
   "metadata": {},
   "outputs": [
    {
     "data": {
      "text/plain": [
       "Text(0, 0.5, '대여량')"
      ]
     },
     "execution_count": 49,
     "metadata": {},
     "output_type": "execute_result"
    },
    {
     "data": {
      "image/png": "[encoded data removed]",
      "text/plain": [
       "<Figure size 640x480 with 1 Axes>"
      ]
     },
     "metadata": {},
     "output_type": "display_data"
    }
   ],
   "source": [
    "plt.scatter(train.hour,train[train.columns[-1]],marker='^',color='red')\n",
    "plt.xlabel('시간')\n",
    "plt.ylabel('대여량')"
   ]
  },
  {
   "cell_type": "code",
   "execution_count": 100,
   "metadata": {},
   "outputs": [],
   "source": [
    "from sklearn.neighbors import KNeighborsClassifier\n",
    "from sklearn.model_selection import GridSearchCV\n",
    "from sklearn.model_selection import train_test_split\n",
    "from sklearn.metrics import accuracy_score"
   ]
  },
  {
   "cell_type": "code",
   "execution_count": 93,
   "metadata": {},
   "outputs": [],
   "source": [
    "train_x = train.drop(['count'],axis = 1)\n",
    "train_y = train['count']\n"
   ]
  },
  {
   "cell_type": "code",
   "execution_count": 94,
   "metadata": {},
   "outputs": [],
   "source": [
    "x_train, x_test, y_train, y_test = train_test_split(train_x,train_y,random_state=31,test_size=0.2)"
   ]
  },
  {
   "cell_type": "code",
   "execution_count": 95,
   "metadata": {},
   "outputs": [
    {
     "name": "stderr",
     "output_type": "stream",
     "text": [
      "C:\\Users\\PC\\AppData\\Local\\Packages\\PythonSoftwareFoundation.Python.3.10_qbz5n2kfra8p0\\LocalCache\\local-packages\\Python310\\site-packages\\sklearn\\model_selection\\_split.py:700: UserWarning: The least populated class in y has only 1 members, which is less than n_splits=3.\n",
      "  warnings.warn(\n"
     ]
    },
    {
     "data": {
      "text/html": [
       "<style>#sk-container-id-1 {color: black;background-color: white;}#sk-container-id-1 pre{padding: 0;}#sk-container-id-1 div.sk-toggleable {background-color: white;}#sk-container-id-1 label.sk-toggleable__label {cursor: pointer;display: block;width: 100%;margin-bottom: 0;padding: 0.3em;box-sizing: border-box;text-align: center;}#sk-container-id-1 label.sk-toggleable__label-arrow:before {content: \"▸\";float: left;margin-right: 0.25em;color: #696969;}#sk-container-id-1 label.sk-toggleable__label-arrow:hover:before {color: black;}#sk-container-id-1 div.sk-estimator:hover label.sk-toggleable__label-arrow:before {color: black;}#sk-container-id-1 div.sk-toggleable__content {max-height: 0;max-width: 0;overflow: hidden;text-align: left;background-color: #f0f8ff;}#sk-container-id-1 div.sk-toggleable__content pre {margin: 0.2em;color: black;border-radius: 0.25em;background-color: #f0f8ff;}#sk-container-id-1 input.sk-toggleable__control:checked~div.sk-toggleable__content {max-height: 200px;max-width: 100%;overflow: auto;}#sk-container-id-1 input.sk-toggleable__control:checked~label.sk-toggleable__label-arrow:before {content: \"▾\";}#sk-container-id-1 div.sk-estimator input.sk-toggleable__control:checked~label.sk-toggleable__label {background-color: #d4ebff;}#sk-container-id-1 div.sk-label input.sk-toggleable__control:checked~label.sk-toggleable__label {background-color: #d4ebff;}#sk-container-id-1 input.sk-hidden--visually {border: 0;clip: rect(1px 1px 1px 1px);clip: rect(1px, 1px, 1px, 1px);height: 1px;margin: -1px;overflow: hidden;padding: 0;position: absolute;width: 1px;}#sk-container-id-1 div.sk-estimator {font-family: monospace;background-color: #f0f8ff;border: 1px dotted black;border-radius: 0.25em;box-sizing: border-box;margin-bottom: 0.5em;}#sk-container-id-1 div.sk-estimator:hover {background-color: #d4ebff;}#sk-container-id-1 div.sk-parallel-item::after {content: \"\";width: 100%;border-bottom: 1px solid gray;flex-grow: 1;}#sk-container-id-1 div.sk-label:hover label.sk-toggleable__label {background-color: #d4ebff;}#sk-container-id-1 div.sk-serial::before {content: \"\";position: absolute;border-left: 1px solid gray;box-sizing: border-box;top: 0;bottom: 0;left: 50%;z-index: 0;}#sk-container-id-1 div.sk-serial {display: flex;flex-direction: column;align-items: center;background-color: white;padding-right: 0.2em;padding-left: 0.2em;position: relative;}#sk-container-id-1 div.sk-item {position: relative;z-index: 1;}#sk-container-id-1 div.sk-parallel {display: flex;align-items: stretch;justify-content: center;background-color: white;position: relative;}#sk-container-id-1 div.sk-item::before, #sk-container-id-1 div.sk-parallel-item::before {content: \"\";position: absolute;border-left: 1px solid gray;box-sizing: border-box;top: 0;bottom: 0;left: 50%;z-index: -1;}#sk-container-id-1 div.sk-parallel-item {display: flex;flex-direction: column;z-index: 1;position: relative;background-color: white;}#sk-container-id-1 div.sk-parallel-item:first-child::after {align-self: flex-end;width: 50%;}#sk-container-id-1 div.sk-parallel-item:last-child::after {align-self: flex-start;width: 50%;}#sk-container-id-1 div.sk-parallel-item:only-child::after {width: 0;}#sk-container-id-1 div.sk-dashed-wrapped {border: 1px dashed gray;margin: 0 0.4em 0.5em 0.4em;box-sizing: border-box;padding-bottom: 0.4em;background-color: white;}#sk-container-id-1 div.sk-label label {font-family: monospace;font-weight: bold;display: inline-block;line-height: 1.2em;}#sk-container-id-1 div.sk-label-container {text-align: center;}#sk-container-id-1 div.sk-container {/* jupyter's `normalize.less` sets `[hidden] { display: none; }` but bootstrap.min.css set `[hidden] { display: none !important; }` so we also need the `!important` here to be able to override the default hidden behavior on the sphinx rendered scikit-learn.org. See: https://github.com/scikit-learn/scikit-learn/issues/21755 */display: inline-block !important;position: relative;}#sk-container-id-1 div.sk-text-repr-fallback {display: none;}</style><div id=\"sk-container-id-1\" class=\"sk-top-container\"><div class=\"sk-text-repr-fallback\"><pre>GridSearchCV(cv=3, estimator=KNeighborsClassifier(),\n",
       "             param_grid={&#x27;n_neighbors&#x27;: [2, 3, 4, 5], &#x27;p&#x27;: [1, 2, 3]},\n",
       "             scoring=&#x27;accuracy&#x27;)</pre><b>In a Jupyter environment, please rerun this cell to show the HTML representation or trust the notebook. <br />On GitHub, the HTML representation is unable to render, please try loading this page with nbviewer.org.</b></div><div class=\"sk-container\" hidden><div class=\"sk-item sk-dashed-wrapped\"><div class=\"sk-label-container\"><div class=\"sk-label sk-toggleable\"><input class=\"sk-toggleable__control sk-hidden--visually\" id=\"sk-estimator-id-1\" type=\"checkbox\" ><label for=\"sk-estimator-id-1\" class=\"sk-toggleable__label sk-toggleable__label-arrow\">GridSearchCV</label><div class=\"sk-toggleable__content\"><pre>GridSearchCV(cv=3, estimator=KNeighborsClassifier(),\n",
       "             param_grid={&#x27;n_neighbors&#x27;: [2, 3, 4, 5], &#x27;p&#x27;: [1, 2, 3]},\n",
       "             scoring=&#x27;accuracy&#x27;)</pre></div></div></div><div class=\"sk-parallel\"><div class=\"sk-parallel-item\"><div class=\"sk-item\"><div class=\"sk-label-container\"><div class=\"sk-label sk-toggleable\"><input class=\"sk-toggleable__control sk-hidden--visually\" id=\"sk-estimator-id-2\" type=\"checkbox\" ><label for=\"sk-estimator-id-2\" class=\"sk-toggleable__label sk-toggleable__label-arrow\">estimator: KNeighborsClassifier</label><div class=\"sk-toggleable__content\"><pre>KNeighborsClassifier()</pre></div></div></div><div class=\"sk-serial\"><div class=\"sk-item\"><div class=\"sk-estimator sk-toggleable\"><input class=\"sk-toggleable__control sk-hidden--visually\" id=\"sk-estimator-id-3\" type=\"checkbox\" ><label for=\"sk-estimator-id-3\" class=\"sk-toggleable__label sk-toggleable__label-arrow\">KNeighborsClassifier</label><div class=\"sk-toggleable__content\"><pre>KNeighborsClassifier()</pre></div></div></div></div></div></div></div></div></div></div>"
      ],
      "text/plain": [
       "GridSearchCV(cv=3, estimator=KNeighborsClassifier(),\n",
       "             param_grid={'n_neighbors': [2, 3, 4, 5], 'p': [1, 2, 3]},\n",
       "             scoring='accuracy')"
      ]
     },
     "execution_count": 95,
     "metadata": {},
     "output_type": "execute_result"
    }
   ],
   "source": [
    "model = KNeighborsClassifier()\n",
    "params = {'n_neighbors':[2,3,4,5],'p':[1,2,3]}\n",
    "grid = GridSearchCV(model,param_grid=params,cv=3,scoring='accuracy')\n",
    "grid.fit(x_train,y_train)"
   ]
  },
  {
   "cell_type": "code",
   "execution_count": 96,
   "metadata": {},
   "outputs": [
    {
     "data": {
      "text/plain": [
       "{'n_neighbors': 5, 'p': 2}"
      ]
     },
     "execution_count": 96,
     "metadata": {},
     "output_type": "execute_result"
    }
   ],
   "source": [
    "grid.best_params_"
   ]
  },
  {
   "cell_type": "code",
   "execution_count": 97,
   "metadata": {},
   "outputs": [
    {
     "data": {
      "text/plain": [
       "0.014653706604544054"
      ]
     },
     "execution_count": 97,
     "metadata": {},
     "output_type": "execute_result"
    }
   ],
   "source": [
    "grid.best_score_"
   ]
  },
  {
   "cell_type": "code",
   "execution_count": 98,
   "metadata": {},
   "outputs": [],
   "source": [
    "grid_model = grid.best_estimator_"
   ]
  },
  {
   "cell_type": "code",
   "execution_count": 99,
   "metadata": {},
   "outputs": [],
   "source": [
    "y_pre = grid_model.predict(x_test)"
   ]
  },
  {
   "cell_type": "code",
   "execution_count": 101,
   "metadata": {},
   "outputs": [
    {
     "data": {
      "text/plain": [
       "0.010344827586206896"
      ]
     },
     "execution_count": 101,
     "metadata": {},
     "output_type": "execute_result"
    }
   ],
   "source": [
    "accuracy_score(y_pre,y_test)\n",
    "#폭망했네..."
   ]
  }
 ],
 "metadata": {
  "kernelspec": {
   "display_name": "Python 3",
   "language": "python",
   "name": "python3"
  },
  "language_info": {
   "codemirror_mode": {
    "name": "ipython",
    "version": 3
   },
   "file_extension": ".py",
   "mimetype": "text/x-python",
   "name": "python",
   "nbconvert_exporter": "python",
   "pygments_lexer": "ipython3",
   "version": "3.10.8"
  },
  "orig_nbformat": 4
 },
 "nbformat": 4,
 "nbformat_minor": 2
}
