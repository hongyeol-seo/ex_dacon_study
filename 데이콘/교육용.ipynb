{
 "cells": [
  {
   "cell_type": "markdown",
   "id": "3bf0cc19",
   "metadata": {},
   "source": [
    "# 모듈 및 모델 import"
   ]
  },
  {
   "cell_type": "code",
   "execution_count": 2,
   "id": "0ba33bed",
   "metadata": {},
   "outputs": [],
   "source": [
    "import pandas as pd \n",
    "import numpy as np \n",
    "from sklearn.linear_model import LinearRegression"
   ]
  },
  {
   "cell_type": "markdown",
   "id": "ead0a287",
   "metadata": {},
   "source": [
    "# 데이터 불러오기"
   ]
  },
  {
   "cell_type": "code",
   "execution_count": 3,
   "id": "784b3cc3",
   "metadata": {},
   "outputs": [],
   "source": [
    "train = pd.read_csv('train.csv')\n",
    "test = pd.read_csv('test.csv')"
   ]
  },
  {
   "cell_type": "markdown",
   "id": "bc4e99c6",
   "metadata": {},
   "source": [
    "# 모델 불러오기"
   ]
  },
  {
   "cell_type": "code",
   "execution_count": 4,
   "id": "85eedde3",
   "metadata": {},
   "outputs": [],
   "source": [
    "lr = LinearRegression()"
   ]
  },
  {
   "cell_type": "markdown",
   "id": "81ff891c",
   "metadata": {},
   "source": [
    "# 쓰려는 컬럼 추출 및 타겟 값 설정"
   ]
  },
  {
   "cell_type": "code",
   "execution_count": 5,
   "id": "fb2b973a",
   "metadata": {},
   "outputs": [],
   "source": [
    "train_X = train[['exclusive_use_area','year_of_completion','transaction_year_month','floor']]\n",
    "train_y = train['transaction_real_price']"
   ]
  },
  {
   "cell_type": "code",
   "execution_count": 6,
   "id": "fb5a4b35",
   "metadata": {},
   "outputs": [],
   "source": [
    "test = test[['exclusive_use_area','year_of_completion','transaction_year_month','floor']]"
   ]
  },
  {
   "cell_type": "markdown",
   "id": "ca18d69b",
   "metadata": {},
   "source": [
    "# 모델에 데이터 넣기"
   ]
  },
  {
   "cell_type": "code",
   "execution_count": 7,
   "id": "2aa479c7",
   "metadata": {},
   "outputs": [
    {
     "data": {
      "text/plain": [
       "LinearRegression()"
      ]
     },
     "execution_count": 7,
     "metadata": {},
     "output_type": "execute_result"
    }
   ],
   "source": [
    "lr.fit(train_X,train_y)"
   ]
  },
  {
   "cell_type": "markdown",
   "id": "d6d94965",
   "metadata": {},
   "source": [
    "# 훈련된 모델로 test 예측"
   ]
  },
  {
   "cell_type": "code",
   "execution_count": 8,
   "id": "7663815a",
   "metadata": {},
   "outputs": [
    {
     "data": {
      "text/plain": [
       "array([17865.7125392 , 43909.07988115, 43262.74187634, ...,\n",
       "       67238.45928471, 50991.51979276, 50775.6369032 ])"
      ]
     },
     "execution_count": 8,
     "metadata": {},
     "output_type": "execute_result"
    }
   ],
   "source": [
    "final = lr.predict(test)\n",
    "final"
   ]
  },
  {
   "cell_type": "markdown",
   "id": "1500ad1e",
   "metadata": {},
   "source": [
    "# 제출물(submission)에 예측값 넣기 및 csv파일 저장"
   ]
  },
  {
   "cell_type": "code",
   "execution_count": 9,
   "id": "ca0f03b3",
   "metadata": {},
   "outputs": [
    {
     "data": {
      "text/html": [
       "<div>\n",
       "<style scoped>\n",
       "    .dataframe tbody tr th:only-of-type {\n",
       "        vertical-align: middle;\n",
       "    }\n",
       "\n",
       "    .dataframe tbody tr th {\n",
       "        vertical-align: top;\n",
       "    }\n",
       "\n",
       "    .dataframe thead th {\n",
       "        text-align: right;\n",
       "    }\n",
       "</style>\n",
       "<table border=\"1\" class=\"dataframe\">\n",
       "  <thead>\n",
       "    <tr style=\"text-align: right;\">\n",
       "      <th></th>\n",
       "      <th>transaction_id</th>\n",
       "      <th>transaction_real_price</th>\n",
       "    </tr>\n",
       "  </thead>\n",
       "  <tbody>\n",
       "    <tr>\n",
       "      <th>0</th>\n",
       "      <td>1145756</td>\n",
       "      <td>17865.712539</td>\n",
       "    </tr>\n",
       "    <tr>\n",
       "      <th>1</th>\n",
       "      <td>1198704</td>\n",
       "      <td>43909.079881</td>\n",
       "    </tr>\n",
       "    <tr>\n",
       "      <th>2</th>\n",
       "      <td>1222384</td>\n",
       "      <td>43262.741876</td>\n",
       "    </tr>\n",
       "    <tr>\n",
       "      <th>3</th>\n",
       "      <td>1179897</td>\n",
       "      <td>64814.429470</td>\n",
       "    </tr>\n",
       "    <tr>\n",
       "      <th>4</th>\n",
       "      <td>1223091</td>\n",
       "      <td>69945.650482</td>\n",
       "    </tr>\n",
       "    <tr>\n",
       "      <th>...</th>\n",
       "      <td>...</td>\n",
       "      <td>...</td>\n",
       "    </tr>\n",
       "    <tr>\n",
       "      <th>5458</th>\n",
       "      <td>1174640</td>\n",
       "      <td>47903.068618</td>\n",
       "    </tr>\n",
       "    <tr>\n",
       "      <th>5459</th>\n",
       "      <td>1175575</td>\n",
       "      <td>46256.615953</td>\n",
       "    </tr>\n",
       "    <tr>\n",
       "      <th>5460</th>\n",
       "      <td>1157024</td>\n",
       "      <td>67238.459285</td>\n",
       "    </tr>\n",
       "    <tr>\n",
       "      <th>5461</th>\n",
       "      <td>1136863</td>\n",
       "      <td>50991.519793</td>\n",
       "    </tr>\n",
       "    <tr>\n",
       "      <th>5462</th>\n",
       "      <td>1218921</td>\n",
       "      <td>50775.636903</td>\n",
       "    </tr>\n",
       "  </tbody>\n",
       "</table>\n",
       "<p>5463 rows × 2 columns</p>\n",
       "</div>"
      ],
      "text/plain": [
       "      transaction_id  transaction_real_price\n",
       "0            1145756            17865.712539\n",
       "1            1198704            43909.079881\n",
       "2            1222384            43262.741876\n",
       "3            1179897            64814.429470\n",
       "4            1223091            69945.650482\n",
       "...              ...                     ...\n",
       "5458         1174640            47903.068618\n",
       "5459         1175575            46256.615953\n",
       "5460         1157024            67238.459285\n",
       "5461         1136863            50991.519793\n",
       "5462         1218921            50775.636903\n",
       "\n",
       "[5463 rows x 2 columns]"
      ]
     },
     "execution_count": 9,
     "metadata": {},
     "output_type": "execute_result"
    }
   ],
   "source": [
    "s = pd.read_csv('submission.csv')\n",
    "s['transaction_real_price'] = final\n",
    "s.to_csv('submission_lr.csv', index=False)\n",
    "s"
   ]
  }
 ],
 "metadata": {
  "kernelspec": {
   "display_name": "Python 3 (ipykernel)",
   "language": "python",
   "name": "python3"
  },
  "language_info": {
   "codemirror_mode": {
    "name": "ipython",
    "version": 3
   },
   "file_extension": ".py",
   "mimetype": "text/x-python",
   "name": "python",
   "nbconvert_exporter": "python",
   "pygments_lexer": "ipython3",
   "version": "3.8.16"
  }
 },
 "nbformat": 4,
 "nbformat_minor": 5
}
