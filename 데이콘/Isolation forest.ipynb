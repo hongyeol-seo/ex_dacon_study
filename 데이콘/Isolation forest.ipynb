{
 "cells": [
  {
   "attachments": {},
   "cell_type": "markdown",
   "metadata": {},
   "source": [
    "---\n",
    "1. 이상탐지(Anomaly detection)\n",
    "2. 이상의 종류\n",
    "    * Point anomaly\n",
    "    * Collective anomaly\n",
    "    * Contextual anomaly\n",
    "3. Isolation forest : 밀도 기반 이상 탐지\n",
    "4. 예제 살펴보기"
   ]
  },
  {
   "cell_type": "code",
   "execution_count": 1,
   "metadata": {},
   "outputs": [],
   "source": [
    "import numpy as np\n",
    "import pandas as pd\n",
    "import matplotlib.pyplot as plt\n",
    "%matplotlib inline\n",
    "import seaborn as sns\n",
    "sns.set_style(\"darkgrid\")\n",
    "from sklearn.ensemble import IsolationForest"
   ]
  },
  {
   "cell_type": "code",
   "execution_count": 12,
   "metadata": {},
   "outputs": [
    {
     "data": {
      "text/plain": [
       "array([[ 0.09934283, -0.02765286],\n",
       "       [ 0.12953771,  0.30460597],\n",
       "       [-0.04683067, -0.04682739],\n",
       "       ...,\n",
       "       [ 0.07028964,  0.21403005],\n",
       "       [-0.00530425, -0.17637493],\n",
       "       [-0.03261339, -0.14898053]])"
      ]
     },
     "execution_count": 12,
     "metadata": {},
     "output_type": "execute_result"
    },
    {
     "ename": "",
     "evalue": "",
     "output_type": "error",
     "traceback": [
      "\u001b[1;31m현재 셀 또는 이전 셀에서 코드를 실행하는 동안 Kernel이 충돌했습니다. 셀의 코드를 검토하여 오류의 가능한 원인을 식별하세요. 자세한 내용을 보려면 <a href='https://aka.ms/vscodeJupyterKernelCrash'> 여기 </a> 를 클릭하세요. 자세한 내용은 Jupyter <a href='command:jupyter.viewOutput'>로그</a>를 참조하세요."
     ]
    }
   ],
   "source": [
    "rng = np.random.RandomState(42)\n",
    "X_train = 0.2 * rng.randn(1000, 2)\n",
    "X_train1 = np.r_[X_train + 3, X_train]\n",
    "X_train"
   ]
  },
  {
   "cell_type": "code",
   "execution_count": 2,
   "metadata": {},
   "outputs": [],
   "source": [
    "rng = np.random.RandomState(42)\n",
    "# Generating training data \n",
    "X_train = 0.2 * rng.randn(1000, 2)\n",
    "X_train = np.r_[X_train + 3, X_train]\n",
    "X_train = pd.DataFrame(X_train, columns = ['x1', 'x2'])\n",
    "# Generating new, 'normal' observation\n",
    "X_test = 0.2 * rng.randn(200, 2)\n",
    "X_test = np.r_[X_test + 3, X_test]\n",
    "X_test = pd.DataFrame(X_test, columns = ['x1', 'x2'])\n",
    "# Generating outliers\n",
    "X_outliers = rng.uniform(low=-1, high=5, size=(50, 2))\n",
    "X_outliers = pd.DataFrame(X_outliers, columns = ['x1', 'x2'])"
   ]
  }
 ],
 "metadata": {
  "kernelspec": {
   "display_name": "Python 3",
   "language": "python",
   "name": "python3"
  },
  "language_info": {
   "codemirror_mode": {
    "name": "ipython",
    "version": 3
   },
   "file_extension": ".py",
   "mimetype": "text/x-python",
   "name": "python",
   "nbconvert_exporter": "python",
   "pygments_lexer": "ipython3",
   "version": "3.10.8"
  },
  "orig_nbformat": 4
 },
 "nbformat": 4,
 "nbformat_minor": 2
}
