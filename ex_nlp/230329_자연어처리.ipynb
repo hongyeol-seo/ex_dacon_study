{
 "cells": [
  {
   "cell_type": "code",
   "execution_count": null,
   "metadata": {},
   "outputs": [],
   "source": [
    "### 자연어 처리(NLP) - 전처리\n",
    "# 1단계 : 형태소\n",
    "\n",
    "from tensorflow.keras.preprocessing.text import "
   ]
  }
 ],
 "metadata": {
  "language_info": {
   "name": "python"
  },
  "orig_nbformat": 4
 },
 "nbformat": 4,
 "nbformat_minor": 2
}
