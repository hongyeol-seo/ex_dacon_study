{
 "cells": [
  {
   "cell_type": "code",
   "execution_count": 3,
   "metadata": {},
   "outputs": [],
   "source": [
    "import requests\n",
    "from bs4 import BeautifulSoup\n",
    "\n",
    "# 크롤링할 페이지의 주소\n",
    "url = 'https://gall.dcinside.com/board/lists?id=d_fighter_new2'\n",
    "\n",
    "# requests 라이브러리를 사용하여 웹 페이지에 요청을 보냅니다.\n",
    "response = requests.get(url)\n",
    "\n",
    "# BeautifulSoup 라이브러리를 사용하여 HTML 코드를 파싱합니다.\n",
    "soup = BeautifulSoup(response.text, 'html.parser')\n",
    "\n",
    "# 최신 게시글 100개의 링크를 추출합니다.\n",
    "post_links = soup.select('tbody > tr:not(.notice) > td.gall_tit > a')\n",
    "\n",
    "# 최신 게시글 100개의 제목, 내용, 작성일을 출력합니다.\n",
    "for link in post_links[:100]:\n",
    "    # 게시글의 링크를 생성합니다.\n",
    "    post_url = 'https://gall.dcinside.com' + link['href']\n",
    "    \n",
    "    # 게시글의 링크로 요청을 보냅니다.\n",
    "    post_response = requests.get(post_url)\n",
    "    post_soup = BeautifulSoup(post_response.text, 'html.parser')\n",
    "    \n",
    "    # 게시글의 제목, 작성일, 내용을 추출합니다.\n",
    "    post_title = post_soup.select_one('.view_content_wrap > .title_subject').text.strip()\n",
    "    post_date = post_soup.select_one('.gall_date').text.strip()\n",
    "    post_content = post_soup.select_one('.writing_view_box').text.strip()\n",
    "    \n",
    "    print(post_title)\n",
    "    print(post_date)\n",
    "    print(post_content)\n",
    "    print('-' * 50)\n"
   ]
  },
  {
   "cell_type": "code",
   "execution_count": 8,
   "metadata": {},
   "outputs": [
    {
     "data": {
      "text/plain": [
       "0"
      ]
     },
     "execution_count": 8,
     "metadata": {},
     "output_type": "execute_result"
    }
   ],
   "source": [
    "len(soup)"
   ]
  },
  {
   "cell_type": "code",
   "execution_count": 7,
   "metadata": {},
   "outputs": [
    {
     "data": {
      "text/plain": [
       "[]"
      ]
     },
     "execution_count": 7,
     "metadata": {},
     "output_type": "execute_result"
    }
   ],
   "source": [
    "\n"
   ]
  }
 ],
 "metadata": {
  "kernelspec": {
   "display_name": "base",
   "language": "python",
   "name": "python3"
  },
  "language_info": {
   "codemirror_mode": {
    "name": "ipython",
    "version": 3
   },
   "file_extension": ".py",
   "mimetype": "text/x-python",
   "name": "python",
   "nbconvert_exporter": "python",
   "pygments_lexer": "ipython3",
   "version": "3.9.15"
  },
  "orig_nbformat": 4
 },
 "nbformat": 4,
 "nbformat_minor": 2
}
